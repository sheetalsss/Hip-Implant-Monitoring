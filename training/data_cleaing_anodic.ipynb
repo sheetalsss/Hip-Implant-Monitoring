{
 "cells": [
  {
   "cell_type": "code",
   "id": "initial_id",
   "metadata": {
    "collapsed": true,
    "ExecuteTime": {
     "end_time": "2025-09-19T07:05:36.133207Z",
     "start_time": "2025-09-19T07:05:36.132038Z"
    }
   },
   "source": [
    "import pandas as pd\n",
    "import numpy as np\n",
    "import matplotlib.pyplot as plt\n",
    "import seaborn as sns"
   ],
   "outputs": [],
   "execution_count": 1
  },
  {
   "metadata": {},
   "cell_type": "markdown",
   "source": "### Anodic set N1 data cleaning",
   "id": "6039100fcad593bf"
  },
  {
   "metadata": {
    "ExecuteTime": {
     "end_time": "2025-09-19T08:05:54.951093Z",
     "start_time": "2025-09-19T08:05:54.736640Z"
    }
   },
   "cell_type": "code",
   "source": "df_anodic_n1 = pd.read_csv('dataset/copy_of_original_data/copy_anodic_N1.csv')",
   "id": "2c03eacbdbe31bed",
   "outputs": [
    {
     "name": "stderr",
     "output_type": "stream",
     "text": [
      "/var/folders/0l/p2_v2ssd19s30xk4x88_7cy00000gn/T/ipykernel_2431/3144696676.py:1: DtypeWarning: Columns (0,1,3,4,6,7) have mixed types. Specify dtype option on import or set low_memory=False.\n",
      "  df_anodic_n1 = pd.read_csv('dataset/copy_of_original_data/copy_anodic_N1.csv')\n"
     ]
    }
   ],
   "execution_count": 87
  },
  {
   "metadata": {
    "ExecuteTime": {
     "end_time": "2025-09-19T08:05:58.402101Z",
     "start_time": "2025-09-19T08:05:58.360459Z"
    }
   },
   "cell_type": "code",
   "source": [
    "df_anodic_n1.drop(columns=['Unnamed: 2', 'Unnamed: 5', 'Unnamed: 8'], axis=1, inplace=True)\n",
    "df_anodic_n1 = df_anodic_n1.rename(columns={\n",
    "    'Input A (Acoustic Emission)' : 'time1',\n",
    "    'Input B (Electrochemical)' : 'time2',\n",
    "    'Input C (Mechanical)' : 'time3',\n",
    "    'Unnamed: 1' : 'accoustic_emmision_data',\n",
    "    'Unnamed: 4' : 'electrochemical_data',\n",
    "    'Unnamed: 7' : 'mechanical_data',\n",
    "    'Output D (Anodic Condition) ?':'output'\n",
    "\n",
    "})\n",
    "df_anodic_n1.columns"
   ],
   "id": "6f7be8feca2d8b19",
   "outputs": [
    {
     "data": {
      "text/plain": [
       "Index(['time1', 'accoustic_emmision_data', 'time2', 'electrochemical_data',\n",
       "       'time3', 'mechanical_data', 'output'],\n",
       "      dtype='object')"
      ]
     },
     "execution_count": 88,
     "metadata": {},
     "output_type": "execute_result"
    }
   ],
   "execution_count": 88
  },
  {
   "metadata": {},
   "cell_type": "code",
   "outputs": [],
   "execution_count": null,
   "source": "df_anodic_n1.output = 'anodic'",
   "id": "28828a4a06fb7b29"
  },
  {
   "metadata": {},
   "cell_type": "code",
   "outputs": [],
   "execution_count": null,
   "source": [
    "df_temp = df_anodic_n1[~df_anodic_n1['accoustic_emmision_data'].isnull()]\n",
    "df_temp = df_temp[df_temp['electrochemical_data'].notnull()]\n",
    "df_temp = df_temp[df_temp['mechanical_data'].notnull()]\n",
    "df_temp.isnull().sum(), df_temp.shape"
   ],
   "id": "730eea6e43859d55"
  },
  {
   "metadata": {},
   "cell_type": "code",
   "outputs": [],
   "execution_count": null,
   "source": "df_temp = df_temp.iloc[2:].reset_index(drop=True)",
   "id": "b246151b89c002ce"
  },
  {
   "metadata": {},
   "cell_type": "code",
   "outputs": [],
   "execution_count": null,
   "source": [
    "cols = ['time1', 'accoustic_emmision_data', 'time2', 'electrochemical_data',\n",
    "       'time3', 'mechanical_data']"
   ],
   "id": "8a12bfb626828c0b"
  },
  {
   "metadata": {},
   "cell_type": "code",
   "outputs": [],
   "execution_count": null,
   "source": [
    "for col in cols:\n",
    "    df_temp[col] = pd.to_numeric(df_temp[col], errors='coerce')\n",
    "df_temp.shape"
   ],
   "id": "e56010aeb0fb2ddd"
  },
  {
   "metadata": {},
   "cell_type": "code",
   "outputs": [],
   "execution_count": null,
   "source": [
    "df_temp = df_temp[df_temp['accoustic_emmision_data'].notnull()]\n",
    "df_temp.isnull().sum()"
   ],
   "id": "bcb5ab72c324a923"
  },
  {
   "metadata": {},
   "cell_type": "code",
   "outputs": [],
   "execution_count": null,
   "source": [
    "time_cols = ['time1','time2','time3']\n",
    "for col in time_cols:\n",
    "    df_temp[col] = round(df_temp[col], 2)"
   ],
   "id": "b7a929abf4dcfcc8"
  },
  {
   "metadata": {},
   "cell_type": "code",
   "outputs": [],
   "execution_count": null,
   "source": [
    "df_time1 = df_temp[['time1', 'accoustic_emmision_data']]\n",
    "df_time2 = df_temp[['time2', 'electrochemical_data']]\n",
    "df_time3 = df_temp[['time3', 'mechanical_data']]\n",
    "df_time3 = df_time3[:250000]"
   ],
   "id": "ededca630a5291fd"
  },
  {
   "metadata": {},
   "cell_type": "code",
   "outputs": [],
   "execution_count": null,
   "source": [
    "df_time_temp = df_time1.merge(df_time2, left_on='time1', right_on='time2')\n",
    "df_time_temp.shape"
   ],
   "id": "c08d6676fbae9ee4"
  },
  {
   "metadata": {},
   "cell_type": "code",
   "outputs": [],
   "execution_count": null,
   "source": [
    "df_time_temp = df_time_temp[['time1', 'accoustic_emmision_data', 'electrochemical_data']]\n",
    "df_time_temp_1 = df_time_temp.merge(df_time3, left_on='time1', right_on='time3')\n",
    "df_time_temp_1.shape, df_time_temp_1.isnull().sum()"
   ],
   "id": "66e5b9514cfc1a50"
  },
  {
   "metadata": {},
   "cell_type": "code",
   "outputs": [],
   "execution_count": null,
   "source": "df_time_temp_1.head()",
   "id": "60b2efc3d46a3fc5"
  },
  {
   "metadata": {},
   "cell_type": "code",
   "outputs": [],
   "execution_count": null,
   "source": [
    "cleaned_n1 = df_time_temp_1.copy()\n",
    "cleaned_n1 = cleaned_n1[['time1','accoustic_emmision_data', 'electrochemical_data', 'mechanical_data']]\n",
    "cleaned_n1.head()"
   ],
   "id": "f21448eabcf33bc3"
  },
  {
   "metadata": {},
   "cell_type": "code",
   "outputs": [],
   "execution_count": null,
   "source": "cleaned_n1['output'] = 'anodic'",
   "id": "ceaca0c918fa492d"
  },
  {
   "metadata": {
    "ExecuteTime": {
     "end_time": "2025-09-20T15:36:12.414663Z",
     "start_time": "2025-09-20T15:36:12.405099Z"
    }
   },
   "cell_type": "code",
   "source": "cleaned_n1.head()",
   "id": "f5ed1c52c38b20be",
   "outputs": [
    {
     "data": {
      "text/plain": [
       "   time1  accoustic_emmision_data  electrochemical_data  mechanical_data  \\\n",
       "0   0.05                  68800.0              0.000515         0.085482   \n",
       "1   0.06                  58500.0              0.000509         0.085482   \n",
       "2   0.08                  44200.0              0.000497         0.085482   \n",
       "3   0.10                  24000.0              0.000487         0.085482   \n",
       "4   0.11                  23100.0              0.000481         0.085482   \n",
       "\n",
       "   output  \n",
       "0  anodic  \n",
       "1  anodic  \n",
       "2  anodic  \n",
       "3  anodic  \n",
       "4  anodic  "
      ],
      "text/html": [
       "<div>\n",
       "<style scoped>\n",
       "    .dataframe tbody tr th:only-of-type {\n",
       "        vertical-align: middle;\n",
       "    }\n",
       "\n",
       "    .dataframe tbody tr th {\n",
       "        vertical-align: top;\n",
       "    }\n",
       "\n",
       "    .dataframe thead th {\n",
       "        text-align: right;\n",
       "    }\n",
       "</style>\n",
       "<table border=\"1\" class=\"dataframe\">\n",
       "  <thead>\n",
       "    <tr style=\"text-align: right;\">\n",
       "      <th></th>\n",
       "      <th>time1</th>\n",
       "      <th>accoustic_emmision_data</th>\n",
       "      <th>electrochemical_data</th>\n",
       "      <th>mechanical_data</th>\n",
       "      <th>output</th>\n",
       "    </tr>\n",
       "  </thead>\n",
       "  <tbody>\n",
       "    <tr>\n",
       "      <th>0</th>\n",
       "      <td>0.05</td>\n",
       "      <td>68800.0</td>\n",
       "      <td>0.000515</td>\n",
       "      <td>0.085482</td>\n",
       "      <td>anodic</td>\n",
       "    </tr>\n",
       "    <tr>\n",
       "      <th>1</th>\n",
       "      <td>0.06</td>\n",
       "      <td>58500.0</td>\n",
       "      <td>0.000509</td>\n",
       "      <td>0.085482</td>\n",
       "      <td>anodic</td>\n",
       "    </tr>\n",
       "    <tr>\n",
       "      <th>2</th>\n",
       "      <td>0.08</td>\n",
       "      <td>44200.0</td>\n",
       "      <td>0.000497</td>\n",
       "      <td>0.085482</td>\n",
       "      <td>anodic</td>\n",
       "    </tr>\n",
       "    <tr>\n",
       "      <th>3</th>\n",
       "      <td>0.10</td>\n",
       "      <td>24000.0</td>\n",
       "      <td>0.000487</td>\n",
       "      <td>0.085482</td>\n",
       "      <td>anodic</td>\n",
       "    </tr>\n",
       "    <tr>\n",
       "      <th>4</th>\n",
       "      <td>0.11</td>\n",
       "      <td>23100.0</td>\n",
       "      <td>0.000481</td>\n",
       "      <td>0.085482</td>\n",
       "      <td>anodic</td>\n",
       "    </tr>\n",
       "  </tbody>\n",
       "</table>\n",
       "</div>"
      ]
     },
     "execution_count": 209,
     "metadata": {},
     "output_type": "execute_result"
    }
   ],
   "execution_count": 209
  },
  {
   "metadata": {
    "ExecuteTime": {
     "end_time": "2025-09-20T15:36:10.505219Z",
     "start_time": "2025-09-20T15:36:10.264131Z"
    }
   },
   "cell_type": "code",
   "source": [
    "cleaned_n1['output'] = 'anodic'\n",
    "cleaned_n1.to_csv('dataset/n1_n2_n3_cleaned/anodic_N1.csv', index=False)"
   ],
   "id": "7f413872ac1866ea",
   "outputs": [],
   "execution_count": 208
  },
  {
   "metadata": {},
   "cell_type": "markdown",
   "source": "### Anodic set N2 data cleaning",
   "id": "dc306cb09164db8e"
  },
  {
   "metadata": {
    "ExecuteTime": {
     "end_time": "2025-09-19T08:06:01.138543Z",
     "start_time": "2025-09-19T08:06:00.923688Z"
    }
   },
   "cell_type": "code",
   "outputs": [
    {
     "name": "stderr",
     "output_type": "stream",
     "text": [
      "/var/folders/0l/p2_v2ssd19s30xk4x88_7cy00000gn/T/ipykernel_2431/434483497.py:1: DtypeWarning: Columns (0,1,3,4,6,7) have mixed types. Specify dtype option on import or set low_memory=False.\n",
      "  df_anodic_n2 = pd.read_csv('dataset/copy_of_original_data/copy_anodic_N2.csv')\n"
     ]
    }
   ],
   "execution_count": 89,
   "source": "df_anodic_n2 = pd.read_csv('dataset/copy_of_original_data/copy_anodic_N2.csv')",
   "id": "443a5ba6c2943a55"
  },
  {
   "metadata": {
    "ExecuteTime": {
     "end_time": "2025-09-19T08:06:17.198318Z",
     "start_time": "2025-09-19T08:06:17.155661Z"
    }
   },
   "cell_type": "code",
   "source": [
    "df_anodic_n2.drop(columns=['Unnamed: 2', 'Unnamed: 5', 'Unnamed: 8'], axis=1, inplace=True)\n",
    "df_anodic_n2 = df_anodic_n2.rename(columns={\n",
    "    'Input A (Acoustic Emission)' : 'time1',\n",
    "    'Input B (Electrochemical Data) ' : 'time2',\n",
    "    'Input C (Mechanical Data)' : 'time3',\n",
    "    'Unnamed: 1' : 'accoustic_emmision_data',\n",
    "    'Unnamed: 4' : 'electrochemical_data',\n",
    "    'Unnamed: 7' : 'mechanical_data',\n",
    "    'Output D (Anodic Condition) ?':'output'\n",
    "\n",
    "})\n",
    "df_anodic_n2.columns"
   ],
   "id": "af3da3009f9c0f8c",
   "outputs": [
    {
     "data": {
      "text/plain": [
       "Index(['time1', 'accoustic_emmision_data', 'time2', 'electrochemical_data',\n",
       "       'time3', 'mechanical_data', 'output'],\n",
       "      dtype='object')"
      ]
     },
     "execution_count": 90,
     "metadata": {},
     "output_type": "execute_result"
    }
   ],
   "execution_count": 90
  },
  {
   "metadata": {
    "ExecuteTime": {
     "end_time": "2025-09-19T08:06:37.402903Z",
     "start_time": "2025-09-19T08:06:37.394610Z"
    }
   },
   "cell_type": "code",
   "source": "df_anodic_n2.output = 'anodic'",
   "id": "48d56d5c983ae157",
   "outputs": [],
   "execution_count": 91
  },
  {
   "metadata": {
    "ExecuteTime": {
     "end_time": "2025-09-19T08:09:51.767022Z",
     "start_time": "2025-09-19T08:09:51.695764Z"
    }
   },
   "cell_type": "code",
   "source": [
    "df_temp_n2 = df_anodic_n2[~df_anodic_n2['accoustic_emmision_data'].isnull()]\n",
    "df_temp_n2 = df_temp_n2[df_temp_n2['mechanical_data'].notnull()]\n",
    "df_temp_n2.isnull().sum()"
   ],
   "id": "d56bbaaf9eee7098",
   "outputs": [
    {
     "data": {
      "text/plain": [
       "time1                      0\n",
       "accoustic_emmision_data    0\n",
       "time2                      0\n",
       "electrochemical_data       0\n",
       "time3                      0\n",
       "mechanical_data            0\n",
       "output                     0\n",
       "dtype: int64"
      ]
     },
     "execution_count": 95,
     "metadata": {},
     "output_type": "execute_result"
    }
   ],
   "execution_count": 95
  },
  {
   "metadata": {
    "ExecuteTime": {
     "end_time": "2025-09-19T08:10:10.138629Z",
     "start_time": "2025-09-19T08:10:10.130540Z"
    }
   },
   "cell_type": "code",
   "source": "df_temp_n2.head()",
   "id": "8169c5d112547f4f",
   "outputs": [
    {
     "data": {
      "text/plain": [
       "       time1 accoustic_emmision_data    time2 electrochemical_data    time3  \\\n",
       "0       Time         Absolute Energy     Time              Current     Time   \n",
       "1    seconds              Attojoules  seconds                 Amps  seconds   \n",
       "2  0.0099468                6.00E+04     0.01             3.31E-06     0.05   \n",
       "3  0.0199467                9.04E+04     0.02             3.31E-06    0.062   \n",
       "4  0.0299468                4.46E+04     0.03             3.23E-06    0.077   \n",
       "\n",
       "        mechanical_data  output  \n",
       "0  Friction Coefficient  anodic  \n",
       "1              unitless  anodic  \n",
       "2           0.020012048  anodic  \n",
       "3           0.020012048  anodic  \n",
       "4           0.020060241  anodic  "
      ],
      "text/html": [
       "<div>\n",
       "<style scoped>\n",
       "    .dataframe tbody tr th:only-of-type {\n",
       "        vertical-align: middle;\n",
       "    }\n",
       "\n",
       "    .dataframe tbody tr th {\n",
       "        vertical-align: top;\n",
       "    }\n",
       "\n",
       "    .dataframe thead th {\n",
       "        text-align: right;\n",
       "    }\n",
       "</style>\n",
       "<table border=\"1\" class=\"dataframe\">\n",
       "  <thead>\n",
       "    <tr style=\"text-align: right;\">\n",
       "      <th></th>\n",
       "      <th>time1</th>\n",
       "      <th>accoustic_emmision_data</th>\n",
       "      <th>time2</th>\n",
       "      <th>electrochemical_data</th>\n",
       "      <th>time3</th>\n",
       "      <th>mechanical_data</th>\n",
       "      <th>output</th>\n",
       "    </tr>\n",
       "  </thead>\n",
       "  <tbody>\n",
       "    <tr>\n",
       "      <th>0</th>\n",
       "      <td>Time</td>\n",
       "      <td>Absolute Energy</td>\n",
       "      <td>Time</td>\n",
       "      <td>Current</td>\n",
       "      <td>Time</td>\n",
       "      <td>Friction Coefficient</td>\n",
       "      <td>anodic</td>\n",
       "    </tr>\n",
       "    <tr>\n",
       "      <th>1</th>\n",
       "      <td>seconds</td>\n",
       "      <td>Attojoules</td>\n",
       "      <td>seconds</td>\n",
       "      <td>Amps</td>\n",
       "      <td>seconds</td>\n",
       "      <td>unitless</td>\n",
       "      <td>anodic</td>\n",
       "    </tr>\n",
       "    <tr>\n",
       "      <th>2</th>\n",
       "      <td>0.0099468</td>\n",
       "      <td>6.00E+04</td>\n",
       "      <td>0.01</td>\n",
       "      <td>3.31E-06</td>\n",
       "      <td>0.05</td>\n",
       "      <td>0.020012048</td>\n",
       "      <td>anodic</td>\n",
       "    </tr>\n",
       "    <tr>\n",
       "      <th>3</th>\n",
       "      <td>0.0199467</td>\n",
       "      <td>9.04E+04</td>\n",
       "      <td>0.02</td>\n",
       "      <td>3.31E-06</td>\n",
       "      <td>0.062</td>\n",
       "      <td>0.020012048</td>\n",
       "      <td>anodic</td>\n",
       "    </tr>\n",
       "    <tr>\n",
       "      <th>4</th>\n",
       "      <td>0.0299468</td>\n",
       "      <td>4.46E+04</td>\n",
       "      <td>0.03</td>\n",
       "      <td>3.23E-06</td>\n",
       "      <td>0.077</td>\n",
       "      <td>0.020060241</td>\n",
       "      <td>anodic</td>\n",
       "    </tr>\n",
       "  </tbody>\n",
       "</table>\n",
       "</div>"
      ]
     },
     "execution_count": 96,
     "metadata": {},
     "output_type": "execute_result"
    }
   ],
   "execution_count": 96
  },
  {
   "metadata": {
    "ExecuteTime": {
     "end_time": "2025-09-19T08:10:25.445061Z",
     "start_time": "2025-09-19T08:10:25.416796Z"
    }
   },
   "cell_type": "code",
   "source": "df_temp_n2 = df_temp_n2.iloc[2:].reset_index(drop=True)",
   "id": "f6cf0b6a9644ec56",
   "outputs": [
    {
     "data": {
      "text/plain": [
       "       time1 accoustic_emmision_data time2 electrochemical_data  time3  \\\n",
       "0  0.0099468                6.00E+04  0.01             3.31E-06   0.05   \n",
       "1  0.0199467                9.04E+04  0.02             3.31E-06  0.062   \n",
       "2  0.0299468                4.46E+04  0.03             3.23E-06  0.077   \n",
       "3  0.0399468                3.21E+04  0.04             3.22E-06  0.092   \n",
       "4  0.0499467                1.74E+04  0.05             3.18E-06  0.107   \n",
       "\n",
       "  mechanical_data  output  \n",
       "0     0.020012048  anodic  \n",
       "1     0.020012048  anodic  \n",
       "2     0.020060241  anodic  \n",
       "3     0.020060241  anodic  \n",
       "4     0.020060241  anodic  "
      ],
      "text/html": [
       "<div>\n",
       "<style scoped>\n",
       "    .dataframe tbody tr th:only-of-type {\n",
       "        vertical-align: middle;\n",
       "    }\n",
       "\n",
       "    .dataframe tbody tr th {\n",
       "        vertical-align: top;\n",
       "    }\n",
       "\n",
       "    .dataframe thead th {\n",
       "        text-align: right;\n",
       "    }\n",
       "</style>\n",
       "<table border=\"1\" class=\"dataframe\">\n",
       "  <thead>\n",
       "    <tr style=\"text-align: right;\">\n",
       "      <th></th>\n",
       "      <th>time1</th>\n",
       "      <th>accoustic_emmision_data</th>\n",
       "      <th>time2</th>\n",
       "      <th>electrochemical_data</th>\n",
       "      <th>time3</th>\n",
       "      <th>mechanical_data</th>\n",
       "      <th>output</th>\n",
       "    </tr>\n",
       "  </thead>\n",
       "  <tbody>\n",
       "    <tr>\n",
       "      <th>0</th>\n",
       "      <td>0.0099468</td>\n",
       "      <td>6.00E+04</td>\n",
       "      <td>0.01</td>\n",
       "      <td>3.31E-06</td>\n",
       "      <td>0.05</td>\n",
       "      <td>0.020012048</td>\n",
       "      <td>anodic</td>\n",
       "    </tr>\n",
       "    <tr>\n",
       "      <th>1</th>\n",
       "      <td>0.0199467</td>\n",
       "      <td>9.04E+04</td>\n",
       "      <td>0.02</td>\n",
       "      <td>3.31E-06</td>\n",
       "      <td>0.062</td>\n",
       "      <td>0.020012048</td>\n",
       "      <td>anodic</td>\n",
       "    </tr>\n",
       "    <tr>\n",
       "      <th>2</th>\n",
       "      <td>0.0299468</td>\n",
       "      <td>4.46E+04</td>\n",
       "      <td>0.03</td>\n",
       "      <td>3.23E-06</td>\n",
       "      <td>0.077</td>\n",
       "      <td>0.020060241</td>\n",
       "      <td>anodic</td>\n",
       "    </tr>\n",
       "    <tr>\n",
       "      <th>3</th>\n",
       "      <td>0.0399468</td>\n",
       "      <td>3.21E+04</td>\n",
       "      <td>0.04</td>\n",
       "      <td>3.22E-06</td>\n",
       "      <td>0.092</td>\n",
       "      <td>0.020060241</td>\n",
       "      <td>anodic</td>\n",
       "    </tr>\n",
       "    <tr>\n",
       "      <th>4</th>\n",
       "      <td>0.0499467</td>\n",
       "      <td>1.74E+04</td>\n",
       "      <td>0.05</td>\n",
       "      <td>3.18E-06</td>\n",
       "      <td>0.107</td>\n",
       "      <td>0.020060241</td>\n",
       "      <td>anodic</td>\n",
       "    </tr>\n",
       "  </tbody>\n",
       "</table>\n",
       "</div>"
      ]
     },
     "execution_count": 97,
     "metadata": {},
     "output_type": "execute_result"
    }
   ],
   "execution_count": 97
  },
  {
   "metadata": {
    "ExecuteTime": {
     "end_time": "2025-09-19T07:15:44.360530Z",
     "start_time": "2025-09-19T07:15:44.266871Z"
    }
   },
   "cell_type": "code",
   "source": [
    "cols = ['time1', 'accoustic_emmision_data', 'time2', 'electrochemical_data',\n",
    "       'time3', 'mechanical_data']\n"
   ],
   "id": "8876f37d154751ae",
   "outputs": [
    {
     "data": {
      "text/plain": [
       "(286265, 7)"
      ]
     },
     "execution_count": 14,
     "metadata": {},
     "output_type": "execute_result"
    }
   ],
   "execution_count": 14
  },
  {
   "metadata": {
    "ExecuteTime": {
     "end_time": "2025-09-19T08:11:29.360880Z",
     "start_time": "2025-09-19T08:11:29.257872Z"
    }
   },
   "cell_type": "code",
   "source": [
    "for col in cols:\n",
    "    df_temp_n2[col] = pd.to_numeric(df_temp_n2[col], errors='coerce')\n",
    "df_temp_n2.shape"
   ],
   "id": "c446058d934dec4b",
   "outputs": [
    {
     "data": {
      "text/plain": [
       "(299093, 7)"
      ]
     },
     "execution_count": 98,
     "metadata": {},
     "output_type": "execute_result"
    }
   ],
   "execution_count": 98
  },
  {
   "metadata": {
    "ExecuteTime": {
     "end_time": "2025-09-19T08:13:02.487263Z",
     "start_time": "2025-09-19T08:13:02.464080Z"
    }
   },
   "cell_type": "code",
   "source": [
    "df_temp_n2 = df_temp_n2[df_temp_n2['accoustic_emmision_data'].notnull()]\n",
    "df_temp_n2.isnull().sum()"
   ],
   "id": "f9652d1ba185586d",
   "outputs": [
    {
     "data": {
      "text/plain": [
       "time1                      0\n",
       "accoustic_emmision_data    0\n",
       "time2                      0\n",
       "electrochemical_data       0\n",
       "time3                      0\n",
       "mechanical_data            0\n",
       "output                     0\n",
       "dtype: int64"
      ]
     },
     "execution_count": 99,
     "metadata": {},
     "output_type": "execute_result"
    }
   ],
   "execution_count": 99
  },
  {
   "metadata": {
    "ExecuteTime": {
     "end_time": "2025-09-19T07:18:05.165288Z",
     "start_time": "2025-09-19T07:18:05.154892Z"
    }
   },
   "cell_type": "code",
   "source": "time_cols = ['time1','time2','time3']",
   "id": "a5e852b99eaad676",
   "outputs": [],
   "execution_count": 18
  },
  {
   "metadata": {
    "ExecuteTime": {
     "end_time": "2025-09-19T08:13:34.734528Z",
     "start_time": "2025-09-19T08:13:34.723461Z"
    }
   },
   "cell_type": "code",
   "source": [
    "for col in time_cols:\n",
    "    df_temp_n2[col] = round(df_temp_n2[col], 2)"
   ],
   "id": "75e38320027ae1bf",
   "outputs": [],
   "execution_count": 100
  },
  {
   "metadata": {
    "ExecuteTime": {
     "end_time": "2025-09-19T08:25:13.355101Z",
     "start_time": "2025-09-19T08:25:13.343151Z"
    }
   },
   "cell_type": "code",
   "source": [
    "df_time1 = df_temp_n2[['time1', 'accoustic_emmision_data']]\n",
    "df_time2 = df_temp_n2[['time2', 'electrochemical_data']]\n",
    "df_time3 = df_temp_n2[['time3', 'mechanical_data']]\n",
    "df_time3 = df_time3[875:204835]"
   ],
   "id": "ee3d2092947e5311",
   "outputs": [],
   "execution_count": 137
  },
  {
   "metadata": {
    "ExecuteTime": {
     "end_time": "2025-09-19T08:25:45.819637Z",
     "start_time": "2025-09-19T08:25:45.806862Z"
    }
   },
   "cell_type": "code",
   "source": [
    "df_time_temp = df_time1.merge(df_time2, left_on='time1', right_on='time2')\n",
    "df_time_temp.shape"
   ],
   "id": "29b86d546c28883f",
   "outputs": [
    {
     "data": {
      "text/plain": [
       "(299093, 4)"
      ]
     },
     "execution_count": 139,
     "metadata": {},
     "output_type": "execute_result"
    }
   ],
   "execution_count": 139
  },
  {
   "metadata": {},
   "cell_type": "code",
   "outputs": [],
   "execution_count": null,
   "source": "",
   "id": "7220d6050f0beab8"
  },
  {
   "metadata": {
    "ExecuteTime": {
     "end_time": "2025-09-19T08:25:50.201566Z",
     "start_time": "2025-09-19T08:25:50.194842Z"
    }
   },
   "cell_type": "code",
   "source": "df_time_temp = df_time_temp[['time1', 'accoustic_emmision_data', 'electrochemical_data']]\n",
   "id": "a1ad525975876ecc",
   "outputs": [],
   "execution_count": 140
  },
  {
   "metadata": {
    "ExecuteTime": {
     "end_time": "2025-09-19T08:25:52.954962Z",
     "start_time": "2025-09-19T08:25:52.932756Z"
    }
   },
   "cell_type": "code",
   "source": "df_time_temp_1 = df_time_temp.merge(df_time3, left_on='time1', right_on='time3')\n",
   "id": "6b84c28bc4f4bbd",
   "outputs": [],
   "execution_count": 141
  },
  {
   "metadata": {
    "ExecuteTime": {
     "end_time": "2025-09-19T08:25:53.681387Z",
     "start_time": "2025-09-19T08:25:53.677718Z"
    }
   },
   "cell_type": "code",
   "source": "df_time_temp_1.shape",
   "id": "c4a8ef5921ba48e3",
   "outputs": [
    {
     "data": {
      "text/plain": [
       "(201541, 5)"
      ]
     },
     "execution_count": 142,
     "metadata": {},
     "output_type": "execute_result"
    }
   ],
   "execution_count": 142
  },
  {
   "metadata": {
    "ExecuteTime": {
     "end_time": "2025-09-19T08:25:55.384317Z",
     "start_time": "2025-09-19T08:25:55.376879Z"
    }
   },
   "cell_type": "code",
   "source": "df_time_temp_1.isnull().sum()",
   "id": "f080ee578755c0eb",
   "outputs": [
    {
     "data": {
      "text/plain": [
       "time1                      0\n",
       "accoustic_emmision_data    0\n",
       "electrochemical_data       0\n",
       "time3                      0\n",
       "mechanical_data            0\n",
       "dtype: int64"
      ]
     },
     "execution_count": 143,
     "metadata": {},
     "output_type": "execute_result"
    }
   ],
   "execution_count": 143
  },
  {
   "metadata": {
    "ExecuteTime": {
     "end_time": "2025-09-19T08:26:41.798864Z",
     "start_time": "2025-09-19T08:26:41.794752Z"
    }
   },
   "cell_type": "code",
   "source": "cleaned_n2 = df_time_temp_1.copy()",
   "id": "7051af9d6adc616e",
   "outputs": [],
   "execution_count": 146
  },
  {
   "metadata": {
    "ExecuteTime": {
     "end_time": "2025-09-19T08:43:42.940058Z",
     "start_time": "2025-09-19T08:43:42.927305Z"
    }
   },
   "cell_type": "code",
   "source": [
    "cleaned_n2 = cleaned_n2[['time1','accoustic_emmision_data', 'electrochemical_data', 'mechanical_data']]\n",
    "cleaned_n2.head()"
   ],
   "id": "4c135c7f45cb3bb8",
   "outputs": [
    {
     "data": {
      "text/plain": [
       "   time1  accoustic_emmision_data  electrochemical_data  mechanical_data\n",
       "0   0.04                  32100.0              0.000003         0.051337\n",
       "1   0.06                  15300.0              0.000003         0.051337\n",
       "2   0.07                  15700.0              0.000003         0.051337\n",
       "3   0.09                  15700.0              0.000003         0.051277\n",
       "4   0.10                  16000.0              0.000003         0.051277"
      ],
      "text/html": [
       "<div>\n",
       "<style scoped>\n",
       "    .dataframe tbody tr th:only-of-type {\n",
       "        vertical-align: middle;\n",
       "    }\n",
       "\n",
       "    .dataframe tbody tr th {\n",
       "        vertical-align: top;\n",
       "    }\n",
       "\n",
       "    .dataframe thead th {\n",
       "        text-align: right;\n",
       "    }\n",
       "</style>\n",
       "<table border=\"1\" class=\"dataframe\">\n",
       "  <thead>\n",
       "    <tr style=\"text-align: right;\">\n",
       "      <th></th>\n",
       "      <th>time1</th>\n",
       "      <th>accoustic_emmision_data</th>\n",
       "      <th>electrochemical_data</th>\n",
       "      <th>mechanical_data</th>\n",
       "    </tr>\n",
       "  </thead>\n",
       "  <tbody>\n",
       "    <tr>\n",
       "      <th>0</th>\n",
       "      <td>0.04</td>\n",
       "      <td>32100.0</td>\n",
       "      <td>0.000003</td>\n",
       "      <td>0.051337</td>\n",
       "    </tr>\n",
       "    <tr>\n",
       "      <th>1</th>\n",
       "      <td>0.06</td>\n",
       "      <td>15300.0</td>\n",
       "      <td>0.000003</td>\n",
       "      <td>0.051337</td>\n",
       "    </tr>\n",
       "    <tr>\n",
       "      <th>2</th>\n",
       "      <td>0.07</td>\n",
       "      <td>15700.0</td>\n",
       "      <td>0.000003</td>\n",
       "      <td>0.051337</td>\n",
       "    </tr>\n",
       "    <tr>\n",
       "      <th>3</th>\n",
       "      <td>0.09</td>\n",
       "      <td>15700.0</td>\n",
       "      <td>0.000003</td>\n",
       "      <td>0.051277</td>\n",
       "    </tr>\n",
       "    <tr>\n",
       "      <th>4</th>\n",
       "      <td>0.10</td>\n",
       "      <td>16000.0</td>\n",
       "      <td>0.000003</td>\n",
       "      <td>0.051277</td>\n",
       "    </tr>\n",
       "  </tbody>\n",
       "</table>\n",
       "</div>"
      ]
     },
     "execution_count": 171,
     "metadata": {},
     "output_type": "execute_result"
    }
   ],
   "execution_count": 171
  },
  {
   "metadata": {
    "ExecuteTime": {
     "end_time": "2025-09-20T15:37:04.473332Z",
     "start_time": "2025-09-20T15:37:04.464016Z"
    }
   },
   "cell_type": "code",
   "source": "cleaned_n2.head()",
   "id": "787d2aa01139fbe4",
   "outputs": [
    {
     "data": {
      "text/plain": [
       "   time1  accoustic_emmision_data  electrochemical_data  mechanical_data  \\\n",
       "0   0.04                  32100.0              0.000003         0.051337   \n",
       "1   0.06                  15300.0              0.000003         0.051337   \n",
       "2   0.07                  15700.0              0.000003         0.051337   \n",
       "3   0.09                  15700.0              0.000003         0.051277   \n",
       "4   0.10                  16000.0              0.000003         0.051277   \n",
       "\n",
       "   output  \n",
       "0  anodic  \n",
       "1  anodic  \n",
       "2  anodic  \n",
       "3  anodic  \n",
       "4  anodic  "
      ],
      "text/html": [
       "<div>\n",
       "<style scoped>\n",
       "    .dataframe tbody tr th:only-of-type {\n",
       "        vertical-align: middle;\n",
       "    }\n",
       "\n",
       "    .dataframe tbody tr th {\n",
       "        vertical-align: top;\n",
       "    }\n",
       "\n",
       "    .dataframe thead th {\n",
       "        text-align: right;\n",
       "    }\n",
       "</style>\n",
       "<table border=\"1\" class=\"dataframe\">\n",
       "  <thead>\n",
       "    <tr style=\"text-align: right;\">\n",
       "      <th></th>\n",
       "      <th>time1</th>\n",
       "      <th>accoustic_emmision_data</th>\n",
       "      <th>electrochemical_data</th>\n",
       "      <th>mechanical_data</th>\n",
       "      <th>output</th>\n",
       "    </tr>\n",
       "  </thead>\n",
       "  <tbody>\n",
       "    <tr>\n",
       "      <th>0</th>\n",
       "      <td>0.04</td>\n",
       "      <td>32100.0</td>\n",
       "      <td>0.000003</td>\n",
       "      <td>0.051337</td>\n",
       "      <td>anodic</td>\n",
       "    </tr>\n",
       "    <tr>\n",
       "      <th>1</th>\n",
       "      <td>0.06</td>\n",
       "      <td>15300.0</td>\n",
       "      <td>0.000003</td>\n",
       "      <td>0.051337</td>\n",
       "      <td>anodic</td>\n",
       "    </tr>\n",
       "    <tr>\n",
       "      <th>2</th>\n",
       "      <td>0.07</td>\n",
       "      <td>15700.0</td>\n",
       "      <td>0.000003</td>\n",
       "      <td>0.051337</td>\n",
       "      <td>anodic</td>\n",
       "    </tr>\n",
       "    <tr>\n",
       "      <th>3</th>\n",
       "      <td>0.09</td>\n",
       "      <td>15700.0</td>\n",
       "      <td>0.000003</td>\n",
       "      <td>0.051277</td>\n",
       "      <td>anodic</td>\n",
       "    </tr>\n",
       "    <tr>\n",
       "      <th>4</th>\n",
       "      <td>0.10</td>\n",
       "      <td>16000.0</td>\n",
       "      <td>0.000003</td>\n",
       "      <td>0.051277</td>\n",
       "      <td>anodic</td>\n",
       "    </tr>\n",
       "  </tbody>\n",
       "</table>\n",
       "</div>"
      ]
     },
     "execution_count": 214,
     "metadata": {},
     "output_type": "execute_result"
    }
   ],
   "execution_count": 214
  },
  {
   "metadata": {
    "ExecuteTime": {
     "end_time": "2025-09-20T15:36:28.266587Z",
     "start_time": "2025-09-20T15:36:28.010936Z"
    }
   },
   "cell_type": "code",
   "source": [
    "cleaned_n2['output'] = 'anodic'\n",
    "cleaned_n2.to_csv('dataset/n1_n2_n3_cleaned/anodic_N2.csv', index=False)"
   ],
   "id": "d7059ca57e59b00c",
   "outputs": [],
   "execution_count": 210
  },
  {
   "metadata": {},
   "cell_type": "markdown",
   "source": "### Anodic set 3 cleaning",
   "id": "710b822e9f1673aa"
  },
  {
   "metadata": {
    "ExecuteTime": {
     "end_time": "2025-09-19T08:28:33.479951Z",
     "start_time": "2025-09-19T08:28:33.233489Z"
    }
   },
   "cell_type": "code",
   "source": "df_anodic_n3 = pd.read_csv('dataset/copy_of_original_data/copy_anodic_N3.csv')",
   "id": "80860f4fd66c0093",
   "outputs": [
    {
     "name": "stderr",
     "output_type": "stream",
     "text": [
      "/var/folders/0l/p2_v2ssd19s30xk4x88_7cy00000gn/T/ipykernel_2431/1816020235.py:1: DtypeWarning: Columns (0,1,3,4,6,7) have mixed types. Specify dtype option on import or set low_memory=False.\n",
      "  df_anodic_n3 = pd.read_csv('dataset/copy_of_original_data/copy_anodic_N3.csv')\n"
     ]
    }
   ],
   "execution_count": 148
  },
  {
   "metadata": {
    "ExecuteTime": {
     "end_time": "2025-09-19T08:28:49.155639Z",
     "start_time": "2025-09-19T08:28:49.113799Z"
    }
   },
   "cell_type": "code",
   "source": [
    "df_anodic_n3.drop(columns=['Unnamed: 2', 'Unnamed: 5', 'Unnamed: 8'], axis=1, inplace=True)\n",
    "df_anodic_n3 = df_anodic_n3.rename(columns={\n",
    "    'Input A (Acoustic Emission Data)' : 'time1',\n",
    "    'Input B (Electrochemical Data)' : 'time2',\n",
    "    'Input C (Mechanical Data)' : 'time3',\n",
    "    'Unnamed: 1' : 'accoustic_emmision_data',\n",
    "    'Unnamed: 4' : 'electrochemical_data',\n",
    "    'Unnamed: 7' : 'mechanical_data',\n",
    "    'Output D (Anodic Condition) ?':'output'\n",
    "\n",
    "})\n",
    "df_anodic_n3.columns"
   ],
   "id": "96f766320fe2487f",
   "outputs": [
    {
     "data": {
      "text/plain": [
       "Index(['time1', 'accoustic_emmision_data', 'time2', 'electrochemical_data',\n",
       "       'time3', 'mechanical_data', 'output'],\n",
       "      dtype='object')"
      ]
     },
     "execution_count": 149,
     "metadata": {},
     "output_type": "execute_result"
    }
   ],
   "execution_count": 149
  },
  {
   "metadata": {
    "ExecuteTime": {
     "end_time": "2025-09-19T08:29:13.999342Z",
     "start_time": "2025-09-19T08:29:13.994800Z"
    }
   },
   "cell_type": "code",
   "source": "df_anodic_n3.output = 'anodic'",
   "id": "3f121e67140c246",
   "outputs": [],
   "execution_count": 150
  },
  {
   "metadata": {
    "ExecuteTime": {
     "end_time": "2025-09-19T08:31:11.212745Z",
     "start_time": "2025-09-19T08:31:11.124912Z"
    }
   },
   "cell_type": "code",
   "source": [
    "df_temp_n3 = df_anodic_n3[~df_anodic_n3['accoustic_emmision_data'].isnull()]\n",
    "df_temp_3 = df_temp_n3[df_temp_n3['electrochemical_data'].notnull()]\n",
    "df_temp_n3 = df_temp_n3[df_temp_n3['mechanical_data'].notnull()]\n",
    "df_temp_n3.isnull().sum(), df_temp_n3.shape"
   ],
   "id": "f37f67fd2f4cd9d",
   "outputs": [
    {
     "data": {
      "text/plain": [
       "(time1                      0\n",
       " accoustic_emmision_data    0\n",
       " time2                      0\n",
       " electrochemical_data       0\n",
       " time3                      0\n",
       " mechanical_data            0\n",
       " output                     0\n",
       " dtype: int64,\n",
       " (286200, 7))"
      ]
     },
     "execution_count": 151,
     "metadata": {},
     "output_type": "execute_result"
    }
   ],
   "execution_count": 151
  },
  {
   "metadata": {
    "ExecuteTime": {
     "end_time": "2025-09-19T08:33:22.859012Z",
     "start_time": "2025-09-19T08:33:22.726817Z"
    }
   },
   "cell_type": "code",
   "source": [
    "df_temp_n3 = df_temp_n3.iloc[2:].reset_index(drop=True)\n",
    "cols = ['time1', 'accoustic_emmision_data', 'time2', 'electrochemical_data',\n",
    "       'time3', 'mechanical_data']\n",
    "\n",
    "for col in cols:\n",
    "    df_temp_n3[col] = pd.to_numeric(df_temp_n3[col], errors='coerce')\n",
    "df_temp_n3.shape, df_temp_3.isnull().sum()"
   ],
   "id": "c536cc51b8f9f304",
   "outputs": [
    {
     "data": {
      "text/plain": [
       "((286198, 7),\n",
       " time1                           0\n",
       " accoustic_emmision_data         0\n",
       " time2                           0\n",
       " electrochemical_data            0\n",
       " time3                      161678\n",
       " mechanical_data            161678\n",
       " output                          0\n",
       " dtype: int64)"
      ]
     },
     "execution_count": 152,
     "metadata": {},
     "output_type": "execute_result"
    }
   ],
   "execution_count": 152
  },
  {
   "metadata": {
    "ExecuteTime": {
     "end_time": "2025-09-19T08:34:50.928324Z",
     "start_time": "2025-09-19T08:34:50.908125Z"
    }
   },
   "cell_type": "code",
   "source": [
    "df_temp_n3 = df_temp_n3[df_temp_n3['mechanical_data'].notnull()]\n",
    "df_temp_n3.isnull().sum()"
   ],
   "id": "3419a5f9bc82c213",
   "outputs": [
    {
     "data": {
      "text/plain": [
       "time1                      0\n",
       "accoustic_emmision_data    0\n",
       "time2                      0\n",
       "electrochemical_data       0\n",
       "time3                      0\n",
       "mechanical_data            0\n",
       "output                     0\n",
       "dtype: int64"
      ]
     },
     "execution_count": 153,
     "metadata": {},
     "output_type": "execute_result"
    }
   ],
   "execution_count": 153
  },
  {
   "metadata": {
    "ExecuteTime": {
     "end_time": "2025-09-19T08:34:59.613331Z",
     "start_time": "2025-09-19T08:34:59.610810Z"
    }
   },
   "cell_type": "code",
   "source": "df_temp_n3.shape",
   "id": "b9852cb08ea3f3e5",
   "outputs": [
    {
     "data": {
      "text/plain": [
       "(286198, 7)"
      ]
     },
     "execution_count": 154,
     "metadata": {},
     "output_type": "execute_result"
    }
   ],
   "execution_count": 154
  },
  {
   "metadata": {
    "ExecuteTime": {
     "end_time": "2025-09-19T08:35:40.722783Z",
     "start_time": "2025-09-19T08:35:40.719309Z"
    }
   },
   "cell_type": "code",
   "source": [
    "for col in time_cols:\n",
    "    df_temp_n3[col] = round(df_temp_n3[col], 2)"
   ],
   "id": "da6dff3b1512b07a",
   "outputs": [],
   "execution_count": 156
  },
  {
   "metadata": {
    "ExecuteTime": {
     "end_time": "2025-09-19T08:37:09.564048Z",
     "start_time": "2025-09-19T08:37:09.548939Z"
    }
   },
   "cell_type": "code",
   "source": "df_temp_n3.sort_values(by='time3').head()",
   "id": "e49ad0a6e4f8aa0e",
   "outputs": [
    {
     "data": {
      "text/plain": [
       "   time1  accoustic_emmision_data  time2  electrochemical_data  time3  \\\n",
       "0   0.01                  47200.0   0.01               0.00150   0.09   \n",
       "1   0.02                  15400.0   0.02               0.00146   0.11   \n",
       "2   0.03                   7190.0   0.03               0.00141   0.12   \n",
       "3   0.04                   8330.0   0.04               0.00137   0.14   \n",
       "4   0.05                  13600.0   0.05               0.00133   0.15   \n",
       "\n",
       "   mechanical_data  output  \n",
       "0         0.190301  anodic  \n",
       "1         0.190301  anodic  \n",
       "2         0.190301  anodic  \n",
       "3         0.190301  anodic  \n",
       "4         0.190313  anodic  "
      ],
      "text/html": [
       "<div>\n",
       "<style scoped>\n",
       "    .dataframe tbody tr th:only-of-type {\n",
       "        vertical-align: middle;\n",
       "    }\n",
       "\n",
       "    .dataframe tbody tr th {\n",
       "        vertical-align: top;\n",
       "    }\n",
       "\n",
       "    .dataframe thead th {\n",
       "        text-align: right;\n",
       "    }\n",
       "</style>\n",
       "<table border=\"1\" class=\"dataframe\">\n",
       "  <thead>\n",
       "    <tr style=\"text-align: right;\">\n",
       "      <th></th>\n",
       "      <th>time1</th>\n",
       "      <th>accoustic_emmision_data</th>\n",
       "      <th>time2</th>\n",
       "      <th>electrochemical_data</th>\n",
       "      <th>time3</th>\n",
       "      <th>mechanical_data</th>\n",
       "      <th>output</th>\n",
       "    </tr>\n",
       "  </thead>\n",
       "  <tbody>\n",
       "    <tr>\n",
       "      <th>0</th>\n",
       "      <td>0.01</td>\n",
       "      <td>47200.0</td>\n",
       "      <td>0.01</td>\n",
       "      <td>0.00150</td>\n",
       "      <td>0.09</td>\n",
       "      <td>0.190301</td>\n",
       "      <td>anodic</td>\n",
       "    </tr>\n",
       "    <tr>\n",
       "      <th>1</th>\n",
       "      <td>0.02</td>\n",
       "      <td>15400.0</td>\n",
       "      <td>0.02</td>\n",
       "      <td>0.00146</td>\n",
       "      <td>0.11</td>\n",
       "      <td>0.190301</td>\n",
       "      <td>anodic</td>\n",
       "    </tr>\n",
       "    <tr>\n",
       "      <th>2</th>\n",
       "      <td>0.03</td>\n",
       "      <td>7190.0</td>\n",
       "      <td>0.03</td>\n",
       "      <td>0.00141</td>\n",
       "      <td>0.12</td>\n",
       "      <td>0.190301</td>\n",
       "      <td>anodic</td>\n",
       "    </tr>\n",
       "    <tr>\n",
       "      <th>3</th>\n",
       "      <td>0.04</td>\n",
       "      <td>8330.0</td>\n",
       "      <td>0.04</td>\n",
       "      <td>0.00137</td>\n",
       "      <td>0.14</td>\n",
       "      <td>0.190301</td>\n",
       "      <td>anodic</td>\n",
       "    </tr>\n",
       "    <tr>\n",
       "      <th>4</th>\n",
       "      <td>0.05</td>\n",
       "      <td>13600.0</td>\n",
       "      <td>0.05</td>\n",
       "      <td>0.00133</td>\n",
       "      <td>0.15</td>\n",
       "      <td>0.190313</td>\n",
       "      <td>anodic</td>\n",
       "    </tr>\n",
       "  </tbody>\n",
       "</table>\n",
       "</div>"
      ]
     },
     "execution_count": 160,
     "metadata": {},
     "output_type": "execute_result"
    }
   ],
   "execution_count": 160
  },
  {
   "metadata": {
    "ExecuteTime": {
     "end_time": "2025-09-19T08:37:22.754801Z",
     "start_time": "2025-09-19T08:37:22.743689Z"
    }
   },
   "cell_type": "code",
   "source": [
    "df_time1 = df_temp_n3[['time1', 'accoustic_emmision_data']]\n",
    "df_time2 = df_temp_n3[['time2', 'electrochemical_data']]\n",
    "df_time3 = df_temp_n3[['time3', 'mechanical_data']]"
   ],
   "id": "3340d628cc9a68c4",
   "outputs": [],
   "execution_count": 161
  },
  {
   "metadata": {
    "ExecuteTime": {
     "end_time": "2025-09-19T08:37:35.077127Z",
     "start_time": "2025-09-19T08:37:35.061999Z"
    }
   },
   "cell_type": "code",
   "source": [
    "df_time_temp = df_time1.merge(df_time2, left_on='time1', right_on='time2')\n",
    "df_time_temp.shape"
   ],
   "id": "6deef43f798310b4",
   "outputs": [
    {
     "data": {
      "text/plain": [
       "(286167, 4)"
      ]
     },
     "execution_count": 162,
     "metadata": {},
     "output_type": "execute_result"
    }
   ],
   "execution_count": 162
  },
  {
   "metadata": {
    "ExecuteTime": {
     "end_time": "2025-09-19T08:38:25.918933Z",
     "start_time": "2025-09-19T08:38:25.884273Z"
    }
   },
   "cell_type": "code",
   "source": [
    "df_time_temp = df_time_temp[['time1', 'accoustic_emmision_data', 'electrochemical_data']]\n",
    "df_time_temp_1 = df_time_temp.merge(df_time3, left_on='time1', right_on='time3')\n",
    "df_time_temp_1.shape"
   ],
   "id": "16b7ba6fb3160cb1",
   "outputs": [
    {
     "data": {
      "text/plain": [
       "(190599, 5)"
      ]
     },
     "execution_count": 163,
     "metadata": {},
     "output_type": "execute_result"
    }
   ],
   "execution_count": 163
  },
  {
   "metadata": {
    "ExecuteTime": {
     "end_time": "2025-09-19T08:38:51.454724Z",
     "start_time": "2025-09-19T08:38:51.449732Z"
    }
   },
   "cell_type": "code",
   "source": "df_time_temp_1.isnull().sum()",
   "id": "931ace93409a36a9",
   "outputs": [
    {
     "data": {
      "text/plain": [
       "time1                      0\n",
       "accoustic_emmision_data    0\n",
       "electrochemical_data       0\n",
       "time3                      0\n",
       "mechanical_data            0\n",
       "dtype: int64"
      ]
     },
     "execution_count": 164,
     "metadata": {},
     "output_type": "execute_result"
    }
   ],
   "execution_count": 164
  },
  {
   "metadata": {
    "ExecuteTime": {
     "end_time": "2025-09-19T08:39:24.047346Z",
     "start_time": "2025-09-19T08:39:24.041704Z"
    }
   },
   "cell_type": "code",
   "source": "cleaned_n3 = df_time_temp_1.copy()",
   "id": "862b715ddf1b5eb1",
   "outputs": [],
   "execution_count": 165
  },
  {
   "metadata": {
    "ExecuteTime": {
     "end_time": "2025-09-19T08:39:36.139209Z",
     "start_time": "2025-09-19T08:39:36.133293Z"
    }
   },
   "cell_type": "code",
   "source": "cleaned_n3.head()",
   "id": "23b451dff93913c5",
   "outputs": [
    {
     "data": {
      "text/plain": [
       "   time1  accoustic_emmision_data  electrochemical_data  time3  \\\n",
       "0   0.09                  10700.0               0.00119   0.09   \n",
       "1   0.11                   7310.0               0.00113   0.11   \n",
       "2   0.12                   7360.0               0.00110   0.12   \n",
       "3   0.14                   7000.0               0.00105   0.14   \n",
       "4   0.15                   7020.0               0.00102   0.15   \n",
       "\n",
       "   mechanical_data  \n",
       "0         0.190301  \n",
       "1         0.190301  \n",
       "2         0.190301  \n",
       "3         0.190301  \n",
       "4         0.190313  "
      ],
      "text/html": [
       "<div>\n",
       "<style scoped>\n",
       "    .dataframe tbody tr th:only-of-type {\n",
       "        vertical-align: middle;\n",
       "    }\n",
       "\n",
       "    .dataframe tbody tr th {\n",
       "        vertical-align: top;\n",
       "    }\n",
       "\n",
       "    .dataframe thead th {\n",
       "        text-align: right;\n",
       "    }\n",
       "</style>\n",
       "<table border=\"1\" class=\"dataframe\">\n",
       "  <thead>\n",
       "    <tr style=\"text-align: right;\">\n",
       "      <th></th>\n",
       "      <th>time1</th>\n",
       "      <th>accoustic_emmision_data</th>\n",
       "      <th>electrochemical_data</th>\n",
       "      <th>time3</th>\n",
       "      <th>mechanical_data</th>\n",
       "    </tr>\n",
       "  </thead>\n",
       "  <tbody>\n",
       "    <tr>\n",
       "      <th>0</th>\n",
       "      <td>0.09</td>\n",
       "      <td>10700.0</td>\n",
       "      <td>0.00119</td>\n",
       "      <td>0.09</td>\n",
       "      <td>0.190301</td>\n",
       "    </tr>\n",
       "    <tr>\n",
       "      <th>1</th>\n",
       "      <td>0.11</td>\n",
       "      <td>7310.0</td>\n",
       "      <td>0.00113</td>\n",
       "      <td>0.11</td>\n",
       "      <td>0.190301</td>\n",
       "    </tr>\n",
       "    <tr>\n",
       "      <th>2</th>\n",
       "      <td>0.12</td>\n",
       "      <td>7360.0</td>\n",
       "      <td>0.00110</td>\n",
       "      <td>0.12</td>\n",
       "      <td>0.190301</td>\n",
       "    </tr>\n",
       "    <tr>\n",
       "      <th>3</th>\n",
       "      <td>0.14</td>\n",
       "      <td>7000.0</td>\n",
       "      <td>0.00105</td>\n",
       "      <td>0.14</td>\n",
       "      <td>0.190301</td>\n",
       "    </tr>\n",
       "    <tr>\n",
       "      <th>4</th>\n",
       "      <td>0.15</td>\n",
       "      <td>7020.0</td>\n",
       "      <td>0.00102</td>\n",
       "      <td>0.15</td>\n",
       "      <td>0.190313</td>\n",
       "    </tr>\n",
       "  </tbody>\n",
       "</table>\n",
       "</div>"
      ]
     },
     "execution_count": 167,
     "metadata": {},
     "output_type": "execute_result"
    }
   ],
   "execution_count": 167
  },
  {
   "metadata": {
    "ExecuteTime": {
     "end_time": "2025-09-19T08:41:57.557031Z",
     "start_time": "2025-09-19T08:41:57.547224Z"
    }
   },
   "cell_type": "code",
   "source": [
    "cleaned_n3 = cleaned_n3[['time1','accoustic_emmision_data', 'electrochemical_data', 'mechanical_data']]\n",
    "cleaned_n3.head()"
   ],
   "id": "a6d80993e7f5f7f3",
   "outputs": [
    {
     "data": {
      "text/plain": [
       "   time1  accoustic_emmision_data  electrochemical_data  mechanical_data\n",
       "0   0.09                  10700.0               0.00119         0.190301\n",
       "1   0.11                   7310.0               0.00113         0.190301\n",
       "2   0.12                   7360.0               0.00110         0.190301\n",
       "3   0.14                   7000.0               0.00105         0.190301\n",
       "4   0.15                   7020.0               0.00102         0.190313"
      ],
      "text/html": [
       "<div>\n",
       "<style scoped>\n",
       "    .dataframe tbody tr th:only-of-type {\n",
       "        vertical-align: middle;\n",
       "    }\n",
       "\n",
       "    .dataframe tbody tr th {\n",
       "        vertical-align: top;\n",
       "    }\n",
       "\n",
       "    .dataframe thead th {\n",
       "        text-align: right;\n",
       "    }\n",
       "</style>\n",
       "<table border=\"1\" class=\"dataframe\">\n",
       "  <thead>\n",
       "    <tr style=\"text-align: right;\">\n",
       "      <th></th>\n",
       "      <th>time1</th>\n",
       "      <th>accoustic_emmision_data</th>\n",
       "      <th>electrochemical_data</th>\n",
       "      <th>mechanical_data</th>\n",
       "    </tr>\n",
       "  </thead>\n",
       "  <tbody>\n",
       "    <tr>\n",
       "      <th>0</th>\n",
       "      <td>0.09</td>\n",
       "      <td>10700.0</td>\n",
       "      <td>0.00119</td>\n",
       "      <td>0.190301</td>\n",
       "    </tr>\n",
       "    <tr>\n",
       "      <th>1</th>\n",
       "      <td>0.11</td>\n",
       "      <td>7310.0</td>\n",
       "      <td>0.00113</td>\n",
       "      <td>0.190301</td>\n",
       "    </tr>\n",
       "    <tr>\n",
       "      <th>2</th>\n",
       "      <td>0.12</td>\n",
       "      <td>7360.0</td>\n",
       "      <td>0.00110</td>\n",
       "      <td>0.190301</td>\n",
       "    </tr>\n",
       "    <tr>\n",
       "      <th>3</th>\n",
       "      <td>0.14</td>\n",
       "      <td>7000.0</td>\n",
       "      <td>0.00105</td>\n",
       "      <td>0.190301</td>\n",
       "    </tr>\n",
       "    <tr>\n",
       "      <th>4</th>\n",
       "      <td>0.15</td>\n",
       "      <td>7020.0</td>\n",
       "      <td>0.00102</td>\n",
       "      <td>0.190313</td>\n",
       "    </tr>\n",
       "  </tbody>\n",
       "</table>\n",
       "</div>"
      ]
     },
     "execution_count": 169,
     "metadata": {},
     "output_type": "execute_result"
    }
   ],
   "execution_count": 169
  },
  {
   "metadata": {
    "ExecuteTime": {
     "end_time": "2025-09-20T15:38:24.504764Z",
     "start_time": "2025-09-20T15:38:24.246288Z"
    }
   },
   "cell_type": "code",
   "source": [
    "cleaned_n3['output'] = 'anodic'\n",
    "cleaned_n3.to_csv('dataset/n1_n2_n3_cleaned/anodic_N3.csv', index=False)"
   ],
   "id": "40d5792f80aa71a0",
   "outputs": [],
   "execution_count": 215
  },
  {
   "metadata": {},
   "cell_type": "markdown",
   "source": "### Concatination of N1, N2 and N3",
   "id": "8fec1a8f5c0792f3"
  },
  {
   "metadata": {
    "ExecuteTime": {
     "end_time": "2025-09-19T08:45:04.813840Z",
     "start_time": "2025-09-19T08:45:04.806650Z"
    }
   },
   "cell_type": "code",
   "source": [
    "df_anodic_conacat = pd.concat([cleaned_n1, cleaned_n2, cleaned_n3])\n",
    "df_anodic_conacat.shape"
   ],
   "id": "3ef566f31f77cece",
   "outputs": [
    {
     "data": {
      "text/plain": [
       "(582708, 4)"
      ]
     },
     "execution_count": 172,
     "metadata": {},
     "output_type": "execute_result"
    }
   ],
   "execution_count": 172
  },
  {
   "metadata": {
    "ExecuteTime": {
     "end_time": "2025-09-19T08:45:52.133440Z",
     "start_time": "2025-09-19T08:45:52.126343Z"
    }
   },
   "cell_type": "code",
   "source": "df_anodic_conacat.head()",
   "id": "7892bd9b81615c1a",
   "outputs": [
    {
     "data": {
      "text/plain": [
       "   time1  accoustic_emmision_data  electrochemical_data  mechanical_data\n",
       "0   0.05                  68800.0              0.000515         0.085482\n",
       "1   0.06                  58500.0              0.000509         0.085482\n",
       "2   0.08                  44200.0              0.000497         0.085482\n",
       "3   0.10                  24000.0              0.000487         0.085482\n",
       "4   0.11                  23100.0              0.000481         0.085482\n",
       "5   0.12                  23000.0              0.000476         0.083819\n",
       "6   0.14                  23000.0              0.000467         0.083819\n",
       "7   0.16                  23400.0              0.000458         0.083819\n",
       "8   0.17                  23100.0              0.000454         0.083819\n",
       "9   0.19                  22600.0              0.000446         0.081988"
      ],
      "text/html": [
       "<div>\n",
       "<style scoped>\n",
       "    .dataframe tbody tr th:only-of-type {\n",
       "        vertical-align: middle;\n",
       "    }\n",
       "\n",
       "    .dataframe tbody tr th {\n",
       "        vertical-align: top;\n",
       "    }\n",
       "\n",
       "    .dataframe thead th {\n",
       "        text-align: right;\n",
       "    }\n",
       "</style>\n",
       "<table border=\"1\" class=\"dataframe\">\n",
       "  <thead>\n",
       "    <tr style=\"text-align: right;\">\n",
       "      <th></th>\n",
       "      <th>time1</th>\n",
       "      <th>accoustic_emmision_data</th>\n",
       "      <th>electrochemical_data</th>\n",
       "      <th>mechanical_data</th>\n",
       "    </tr>\n",
       "  </thead>\n",
       "  <tbody>\n",
       "    <tr>\n",
       "      <th>0</th>\n",
       "      <td>0.05</td>\n",
       "      <td>68800.0</td>\n",
       "      <td>0.000515</td>\n",
       "      <td>0.085482</td>\n",
       "    </tr>\n",
       "    <tr>\n",
       "      <th>1</th>\n",
       "      <td>0.06</td>\n",
       "      <td>58500.0</td>\n",
       "      <td>0.000509</td>\n",
       "      <td>0.085482</td>\n",
       "    </tr>\n",
       "    <tr>\n",
       "      <th>2</th>\n",
       "      <td>0.08</td>\n",
       "      <td>44200.0</td>\n",
       "      <td>0.000497</td>\n",
       "      <td>0.085482</td>\n",
       "    </tr>\n",
       "    <tr>\n",
       "      <th>3</th>\n",
       "      <td>0.10</td>\n",
       "      <td>24000.0</td>\n",
       "      <td>0.000487</td>\n",
       "      <td>0.085482</td>\n",
       "    </tr>\n",
       "    <tr>\n",
       "      <th>4</th>\n",
       "      <td>0.11</td>\n",
       "      <td>23100.0</td>\n",
       "      <td>0.000481</td>\n",
       "      <td>0.085482</td>\n",
       "    </tr>\n",
       "    <tr>\n",
       "      <th>5</th>\n",
       "      <td>0.12</td>\n",
       "      <td>23000.0</td>\n",
       "      <td>0.000476</td>\n",
       "      <td>0.083819</td>\n",
       "    </tr>\n",
       "    <tr>\n",
       "      <th>6</th>\n",
       "      <td>0.14</td>\n",
       "      <td>23000.0</td>\n",
       "      <td>0.000467</td>\n",
       "      <td>0.083819</td>\n",
       "    </tr>\n",
       "    <tr>\n",
       "      <th>7</th>\n",
       "      <td>0.16</td>\n",
       "      <td>23400.0</td>\n",
       "      <td>0.000458</td>\n",
       "      <td>0.083819</td>\n",
       "    </tr>\n",
       "    <tr>\n",
       "      <th>8</th>\n",
       "      <td>0.17</td>\n",
       "      <td>23100.0</td>\n",
       "      <td>0.000454</td>\n",
       "      <td>0.083819</td>\n",
       "    </tr>\n",
       "    <tr>\n",
       "      <th>9</th>\n",
       "      <td>0.19</td>\n",
       "      <td>22600.0</td>\n",
       "      <td>0.000446</td>\n",
       "      <td>0.081988</td>\n",
       "    </tr>\n",
       "  </tbody>\n",
       "</table>\n",
       "</div>"
      ]
     },
     "execution_count": 174,
     "metadata": {},
     "output_type": "execute_result"
    }
   ],
   "execution_count": 174
  },
  {
   "metadata": {
    "ExecuteTime": {
     "end_time": "2025-09-19T09:00:26.227974Z",
     "start_time": "2025-09-19T09:00:19.353493Z"
    }
   },
   "cell_type": "code",
   "source": [
    "sns.lineplot(df_anodic_conacat, x='accoustic_emmision_data', y='mechanical_data')\n",
    "plt.show()"
   ],
   "id": "aba578f0816be097",
   "outputs": [
    {
     "data": {
      "text/plain": [
       "<Figure size 640x480 with 1 Axes>"
      ],
      "image/png": "[encoded data removed]"
     },
     "metadata": {},
     "output_type": "display_data"
    }
   ],
   "execution_count": 178
  },
  {
   "metadata": {
    "ExecuteTime": {
     "end_time": "2025-09-19T09:06:35.397672Z",
     "start_time": "2025-09-19T09:00:59.983857Z"
    }
   },
   "cell_type": "code",
   "source": [
    "sns.lineplot(df_anodic_conacat, x='electrochemical_data', y='mechanical_data')\n",
    "plt.show()"
   ],
   "id": "cc051c9b3b3e48f4",
   "outputs": [
    {
     "data": {
      "text/plain": [
       "<Figure size 640x480 with 1 Axes>"
      ],
      "image/png": "[encoded data removed]"
     },
     "metadata": {},
     "output_type": "display_data"
    }
   ],
   "execution_count": 180
  },
  {
   "metadata": {
    "ExecuteTime": {
     "end_time": "2025-09-19T09:08:02.340252Z",
     "start_time": "2025-09-19T09:07:55.307597Z"
    }
   },
   "cell_type": "code",
   "source": [
    "sns.lineplot(df_anodic_conacat, x='accoustic_emmision_data', y='electrochemical_data')\n",
    "plt.show()"
   ],
   "id": "76b1a3bc083618b9",
   "outputs": [
    {
     "data": {
      "text/plain": [
       "<Figure size 640x480 with 1 Axes>"
      ],
      "image/png": "[encoded data removed]"
     },
     "metadata": {},
     "output_type": "display_data"
    }
   ],
   "execution_count": 181
  },
  {
   "metadata": {
    "ExecuteTime": {
     "end_time": "2025-09-19T09:08:08.092977Z",
     "start_time": "2025-09-19T09:08:08.088116Z"
    }
   },
   "cell_type": "code",
   "source": "df_anodic_conacat['output'] = 'anodic'",
   "id": "8be6c55ab5839475",
   "outputs": [],
   "execution_count": 182
  },
  {
   "metadata": {
    "ExecuteTime": {
     "end_time": "2025-09-19T09:08:23.443956Z",
     "start_time": "2025-09-19T09:08:23.437707Z"
    }
   },
   "cell_type": "code",
   "source": "df_anodic_conacat.head()",
   "id": "80bcf18ed8578437",
   "outputs": [
    {
     "data": {
      "text/plain": [
       "   time1  accoustic_emmision_data  electrochemical_data  mechanical_data  \\\n",
       "0   0.05                  68800.0              0.000515         0.085482   \n",
       "1   0.06                  58500.0              0.000509         0.085482   \n",
       "2   0.08                  44200.0              0.000497         0.085482   \n",
       "3   0.10                  24000.0              0.000487         0.085482   \n",
       "4   0.11                  23100.0              0.000481         0.085482   \n",
       "\n",
       "   output  \n",
       "0  anodic  \n",
       "1  anodic  \n",
       "2  anodic  \n",
       "3  anodic  \n",
       "4  anodic  "
      ],
      "text/html": [
       "<div>\n",
       "<style scoped>\n",
       "    .dataframe tbody tr th:only-of-type {\n",
       "        vertical-align: middle;\n",
       "    }\n",
       "\n",
       "    .dataframe tbody tr th {\n",
       "        vertical-align: top;\n",
       "    }\n",
       "\n",
       "    .dataframe thead th {\n",
       "        text-align: right;\n",
       "    }\n",
       "</style>\n",
       "<table border=\"1\" class=\"dataframe\">\n",
       "  <thead>\n",
       "    <tr style=\"text-align: right;\">\n",
       "      <th></th>\n",
       "      <th>time1</th>\n",
       "      <th>accoustic_emmision_data</th>\n",
       "      <th>electrochemical_data</th>\n",
       "      <th>mechanical_data</th>\n",
       "      <th>output</th>\n",
       "    </tr>\n",
       "  </thead>\n",
       "  <tbody>\n",
       "    <tr>\n",
       "      <th>0</th>\n",
       "      <td>0.05</td>\n",
       "      <td>68800.0</td>\n",
       "      <td>0.000515</td>\n",
       "      <td>0.085482</td>\n",
       "      <td>anodic</td>\n",
       "    </tr>\n",
       "    <tr>\n",
       "      <th>1</th>\n",
       "      <td>0.06</td>\n",
       "      <td>58500.0</td>\n",
       "      <td>0.000509</td>\n",
       "      <td>0.085482</td>\n",
       "      <td>anodic</td>\n",
       "    </tr>\n",
       "    <tr>\n",
       "      <th>2</th>\n",
       "      <td>0.08</td>\n",
       "      <td>44200.0</td>\n",
       "      <td>0.000497</td>\n",
       "      <td>0.085482</td>\n",
       "      <td>anodic</td>\n",
       "    </tr>\n",
       "    <tr>\n",
       "      <th>3</th>\n",
       "      <td>0.10</td>\n",
       "      <td>24000.0</td>\n",
       "      <td>0.000487</td>\n",
       "      <td>0.085482</td>\n",
       "      <td>anodic</td>\n",
       "    </tr>\n",
       "    <tr>\n",
       "      <th>4</th>\n",
       "      <td>0.11</td>\n",
       "      <td>23100.0</td>\n",
       "      <td>0.000481</td>\n",
       "      <td>0.085482</td>\n",
       "      <td>anodic</td>\n",
       "    </tr>\n",
       "  </tbody>\n",
       "</table>\n",
       "</div>"
      ]
     },
     "execution_count": 183,
     "metadata": {},
     "output_type": "execute_result"
    }
   ],
   "execution_count": 183
  },
  {
   "metadata": {
    "ExecuteTime": {
     "end_time": "2025-09-19T09:11:31.648802Z",
     "start_time": "2025-09-19T09:11:30.871590Z"
    }
   },
   "cell_type": "code",
   "source": "df_anodic_conacat.to_csv('dataset/anodic_conacat.csv')",
   "id": "b69a506a761b485b",
   "outputs": [],
   "execution_count": 184
  },
  {
   "metadata": {
    "ExecuteTime": {
     "end_time": "2025-09-19T12:37:00.505182Z",
     "start_time": "2025-09-19T12:36:32.369500Z"
    }
   },
   "cell_type": "code",
   "source": [
    "num_plots = 3\n",
    "num_cols = 2  # Number of plots per row\n",
    "num_rows = (num_plots + num_cols - 1) // num_cols  # Calculate the number of rows needed\n",
    "\n",
    "fig, axes = plt.subplots(num_rows, num_cols, figsize=(5 * num_cols, 5 * num_rows))  # Adjust the figure size as needed\n",
    "axes = axes.flatten()  # Flatten the axes array for easier indexing\n",
    "\n",
    "for i, col in enumerate(['accoustic_emmision_data', 'electrochemical_data','mechanical_data']):\n",
    "    sns.histplot(df_anodic_conacat[col], ax=axes[i])\n",
    "    axes[i].set_title(col)  # Set the title to the name of the variable\n",
    "\n",
    "# If there are any empty plots (if the number of plots isn't a perfect multiple of num_cols), hide the axes\n",
    "for j in range(i + 1, num_rows * num_cols):\n",
    "    axes[j].axis('off')\n",
    "\n",
    "plt.tight_layout()\n",
    "plt.show()"
   ],
   "id": "87730026c696d5dc",
   "outputs": [
    {
     "data": {
      "text/plain": [
       "<Figure size 1000x1000 with 4 Axes>"
      ],
      "image/png": "[encoded data removed]"
     },
     "metadata": {},
     "output_type": "display_data"
    }
   ],
   "execution_count": 200
  },
  {
   "metadata": {
    "ExecuteTime": {
     "end_time": "2025-09-19T12:37:34.002341Z",
     "start_time": "2025-09-19T12:37:27.817555Z"
    }
   },
   "cell_type": "code",
   "source": [
    "num_plots = 3\n",
    "num_cols = 2  # Number of plots per row\n",
    "num_rows = (num_plots + num_cols - 1) // num_cols  # Calculate the number of rows needed\n",
    "\n",
    "fig, axes = plt.subplots(num_rows, num_cols, figsize=(5 * num_cols, 5 * num_rows))  # Adjust the figure size as needed\n",
    "axes = axes.flatten()  # Flatten the axes array for easier indexing\n",
    "\n",
    "for i, col in enumerate(['accoustic_emmision_data', 'electrochemical_data','mechanical_data']):\n",
    "    sns.histplot(cleaned_n1[col], ax=axes[i])\n",
    "    axes[i].set_title(col)  # Set the title to the name of the variable\n",
    "\n",
    "# If there are any empty plots (if the number of plots isn't a perfect multiple of num_cols), hide the axes\n",
    "for j in range(i + 1, num_rows * num_cols):\n",
    "    axes[j].axis('off')\n",
    "\n",
    "plt.tight_layout()\n",
    "plt.show()"
   ],
   "id": "2f40d07cb7c5363c",
   "outputs": [
    {
     "data": {
      "text/plain": [
       "<Figure size 1000x1000 with 4 Axes>"
      ],
      "image/png": "[encoded data removed]"
     },
     "metadata": {},
     "output_type": "display_data"
    }
   ],
   "execution_count": 201
  },
  {
   "metadata": {
    "ExecuteTime": {
     "end_time": "2025-09-19T12:38:18.854719Z",
     "start_time": "2025-09-19T12:38:18.290300Z"
    }
   },
   "cell_type": "code",
   "source": [
    "num_plots = 3\n",
    "num_cols = 2  # Number of plots per row\n",
    "num_rows = (num_plots + num_cols - 1) // num_cols  # Calculate the number of rows needed\n",
    "\n",
    "fig, axes = plt.subplots(num_rows, num_cols, figsize=(5 * num_cols, 5 * num_rows))  # Adjust the figure size as needed\n",
    "axes = axes.flatten()  # Flatten the axes array for easier indexing\n",
    "\n",
    "for i, col in enumerate(['accoustic_emmision_data', 'electrochemical_data','mechanical_data']):\n",
    "    sns.histplot(cleaned_n2[col], ax=axes[i])\n",
    "    axes[i].set_title(col)  # Set the title to the name of the variable\n",
    "\n",
    "# If there are any empty plots (if the number of plots isn't a perfect multiple of num_cols), hide the axes\n",
    "for j in range(i + 1, num_rows * num_cols):\n",
    "    axes[j].axis('off')\n",
    "\n",
    "plt.tight_layout()\n",
    "plt.show()"
   ],
   "id": "470623473abcf532",
   "outputs": [
    {
     "data": {
      "text/plain": [
       "<Figure size 1000x1000 with 4 Axes>"
      ],
      "image/png": "[encoded data removed]"
     },
     "metadata": {},
     "output_type": "display_data"
    }
   ],
   "execution_count": 202
  },
  {
   "metadata": {
    "ExecuteTime": {
     "end_time": "2025-09-19T12:38:47.469324Z",
     "start_time": "2025-09-19T12:38:28.075134Z"
    }
   },
   "cell_type": "code",
   "source": [
    "num_plots = 3\n",
    "num_cols = 2  # Number of plots per row\n",
    "num_rows = (num_plots + num_cols - 1) // num_cols  # Calculate the number of rows needed\n",
    "\n",
    "fig, axes = plt.subplots(num_rows, num_cols, figsize=(5 * num_cols, 5 * num_rows))  # Adjust the figure size as needed\n",
    "axes = axes.flatten()  # Flatten the axes array for easier indexing\n",
    "\n",
    "for i, col in enumerate(['accoustic_emmision_data', 'electrochemical_data','mechanical_data']):\n",
    "    sns.histplot(cleaned_n3[col], ax=axes[i])\n",
    "    axes[i].set_title(col)  # Set the title to the name of the variable\n",
    "\n",
    "# If there are any empty plots (if the number of plots isn't a perfect multiple of num_cols), hide the axes\n",
    "for j in range(i + 1, num_rows * num_cols):\n",
    "    axes[j].axis('off')\n",
    "\n",
    "plt.tight_layout()\n",
    "plt.show()"
   ],
   "id": "c544790c27b7f950",
   "outputs": [
    {
     "data": {
      "text/plain": [
       "<Figure size 1000x1000 with 4 Axes>"
      ],
      "image/png": "[encoded data removed]"
     },
     "metadata": {},
     "output_type": "display_data"
    }
   ],
   "execution_count": 203
  },
  {
   "metadata": {},
   "cell_type": "code",
   "outputs": [],
   "execution_count": null,
   "source": "",
   "id": "32d869358e3896bb"
  }
 ],
 "metadata": {
  "kernelspec": {
   "display_name": "Python 3",
   "language": "python",
   "name": "python3"
  },
  "language_info": {
   "codemirror_mode": {
    "name": "ipython",
    "version": 2
   },
   "file_extension": ".py",
   "mimetype": "text/x-python",
   "name": "python",
   "nbconvert_exporter": "python",
   "pygments_lexer": "ipython2",
   "version": "2.7.6"
  }
 },
 "nbformat": 4,
 "nbformat_minor": 5
}
