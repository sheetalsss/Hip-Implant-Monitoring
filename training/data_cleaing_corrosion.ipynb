{
 "cells": [
  {
   "cell_type": "code",
   "id": "initial_id",
   "metadata": {
    "collapsed": true,
    "ExecuteTime": {
     "end_time": "2025-09-19T04:42:28.733253Z",
     "start_time": "2025-09-19T04:42:28.730362Z"
    }
   },
   "source": "import pandas as pd",
   "outputs": [],
   "execution_count": 6
  },
  {
   "metadata": {
    "ExecuteTime": {
     "end_time": "2025-09-19T13:51:20.362139Z",
     "start_time": "2025-09-19T13:51:18.606304Z"
    }
   },
   "cell_type": "code",
   "source": [
    "df_corrosion_n1 = pd.read_csv('dataset/copy_of_original_data/copy_corrosion_N1.csv')\n",
    "df_corrosion_n2 = pd.read_csv('dataset/copy_of_original_data/copy_corrosion_N2.csv')\n",
    "df_corrosion_n3 = pd.read_csv('dataset/copy_of_original_data/copy_corrosion_N3.csv')"
   ],
   "id": "b9f3ca3923fc04ff",
   "outputs": [
    {
     "name": "stderr",
     "output_type": "stream",
     "text": [
      "/var/folders/0l/p2_v2ssd19s30xk4x88_7cy00000gn/T/ipykernel_1208/654642129.py:1: DtypeWarning: Columns (0,1,3,4,6,7) have mixed types. Specify dtype option on import or set low_memory=False.\n",
      "  df_corrosion_n1 = pd.read_csv('dataset/copy_of_original_data/copy_corrosion_N1.csv')\n",
      "/var/folders/0l/p2_v2ssd19s30xk4x88_7cy00000gn/T/ipykernel_1208/654642129.py:2: DtypeWarning: Columns (0,1,3,4,6,7) have mixed types. Specify dtype option on import or set low_memory=False.\n",
      "  df_corrosion_n2 = pd.read_csv('dataset/copy_of_original_data/copy_corrosion_N2.csv')\n",
      "/var/folders/0l/p2_v2ssd19s30xk4x88_7cy00000gn/T/ipykernel_1208/654642129.py:3: DtypeWarning: Columns (0,1,3,4,6,7) have mixed types. Specify dtype option on import or set low_memory=False.\n",
      "  df_corrosion_n3 = pd.read_csv('dataset/copy_of_original_data/copy_corrosion_N3.csv')\n"
     ]
    }
   ],
   "execution_count": 38
  },
  {
   "metadata": {
    "ExecuteTime": {
     "end_time": "2025-09-19T13:51:30.948320Z",
     "start_time": "2025-09-19T13:51:30.714899Z"
    }
   },
   "cell_type": "code",
   "source": [
    "df_corrosion_n1.drop(columns=['Unnamed: 2', 'Unnamed: 5'], axis=1, inplace=True)\n",
    "df_corrosion_n1 = df_corrosion_n1.rename(columns={\n",
    "    'Input A (Acoustic Emission Data)' : 'time1',\n",
    "    'Input B (Electrochemical Data)' : 'time2',\n",
    "    'Input C (Mechanical Data)' : 'time3',\n",
    "    'Unnamed: 1' : 'accoustic_emmision_data',\n",
    "    'Unnamed: 4' : 'electrochemical_data',\n",
    "    'Unnamed: 7' : 'mechanical_data'\n",
    "})\n",
    "df_corrosion_n1.columns"
   ],
   "id": "62b947b1b830c420",
   "outputs": [
    {
     "data": {
      "text/plain": [
       "Index(['time1', 'accoustic_emmision_data', 'time2', 'electrochemical_data',\n",
       "       'time3', 'mechanical_data'],\n",
       "      dtype='object')"
      ]
     },
     "execution_count": 39,
     "metadata": {},
     "output_type": "execute_result"
    }
   ],
   "execution_count": 39
  },
  {
   "metadata": {
    "ExecuteTime": {
     "end_time": "2025-09-19T13:51:34.292441Z",
     "start_time": "2025-09-19T13:51:34.277811Z"
    }
   },
   "cell_type": "code",
   "source": "df_corrosion_n1['output'] = 'None'",
   "id": "993860eca902e6e7",
   "outputs": [],
   "execution_count": 40
  },
  {
   "metadata": {
    "ExecuteTime": {
     "end_time": "2025-09-19T13:51:35.546611Z",
     "start_time": "2025-09-19T13:51:35.464272Z"
    }
   },
   "cell_type": "code",
   "source": [
    "df_corrosion_n2.drop(columns=['Unnamed: 2', 'Unnamed: 5', 'Unnamed: 8'], axis=1, inplace=True)\n",
    "df_corrosion_n2 = df_corrosion_n2.rename(columns={\n",
    "    'Input A (Acoustic Emission Data)' : 'time1',\n",
    "    'Input B (Electrochemical Data)' : 'time2',\n",
    "    'Input C (Mechanical Data)' : 'time3',\n",
    "    'Unnamed: 1' : 'accoustic_emmision_data',\n",
    "    'Unnamed: 4' : 'electrochemical_data',\n",
    "    'Unnamed: 7' : 'mechanical_data',\n",
    "    'Output D (Corrosion Condition) ?':'output'\n",
    "})\n",
    "df_corrosion_n2.columns"
   ],
   "id": "bc2cc3384dc25602",
   "outputs": [
    {
     "data": {
      "text/plain": [
       "Index(['time1', 'accoustic_emmision_data', 'time2', 'electrochemical_data',\n",
       "       'time3', 'mechanical_data', 'output'],\n",
       "      dtype='object')"
      ]
     },
     "execution_count": 41,
     "metadata": {},
     "output_type": "execute_result"
    }
   ],
   "execution_count": 41
  },
  {
   "metadata": {
    "ExecuteTime": {
     "end_time": "2025-09-19T13:51:36.586410Z",
     "start_time": "2025-09-19T13:51:36.484743Z"
    }
   },
   "cell_type": "code",
   "source": [
    "df_corrosion_n3.drop(columns=['Unnamed: 2', 'Unnamed: 5', 'Unnamed: 8'], axis=1, inplace=True)\n",
    "df_corrosion_n3 = df_corrosion_n2.rename(columns={\n",
    "    'Input A (Acoustic Emission Data)' : 'time1',\n",
    "    'Input B (Electrochemical Data)' : 'time2',\n",
    "    'Input C (Mechanical Data)' : 'time3',\n",
    "    'Unnamed: 1' : 'accoustic_emmision_data',\n",
    "    'Unnamed: 4' : 'electrochemical_data',\n",
    "    'Unnamed: 7' : 'mechanical_data',\n",
    "    'Output D (Corrosion Condition) ?':'output'\n",
    "})\n",
    "df_corrosion_n3.columns"
   ],
   "id": "1bbdd4faceb4e1b0",
   "outputs": [
    {
     "data": {
      "text/plain": [
       "Index(['time1', 'accoustic_emmision_data', 'time2', 'electrochemical_data',\n",
       "       'time3', 'mechanical_data', 'output'],\n",
       "      dtype='object')"
      ]
     },
     "execution_count": 42,
     "metadata": {},
     "output_type": "execute_result"
    }
   ],
   "execution_count": 42
  },
  {
   "metadata": {},
   "cell_type": "markdown",
   "source": "### Corrosion set N1 data cleaning",
   "id": "560bd7e21a7868b6"
  },
  {
   "metadata": {
    "ExecuteTime": {
     "end_time": "2025-09-19T13:52:24.497851Z",
     "start_time": "2025-09-19T13:52:24.269959Z"
    }
   },
   "cell_type": "code",
   "source": [
    "df_temp = df_corrosion_n1[~df_corrosion_n1['accoustic_emmision_data'].isnull()]\n",
    "df_temp = df_temp[df_temp['electrochemical_data'].notnull()]\n",
    "df_temp = df_temp[df_temp['mechanical_data'].notnull()]\n",
    "df_temp = df_temp.iloc[2:].reset_index(drop=True)\n",
    "df_temp.isnull().sum(), df_temp.shape"
   ],
   "id": "c26c61d8f3af64f1",
   "outputs": [
    {
     "data": {
      "text/plain": [
       "(time1                      0\n",
       " accoustic_emmision_data    0\n",
       " time2                      0\n",
       " electrochemical_data       0\n",
       " time3                      0\n",
       " mechanical_data            0\n",
       " output                     0\n",
       " dtype: int64,\n",
       " (243600, 7))"
      ]
     },
     "execution_count": 43,
     "metadata": {},
     "output_type": "execute_result"
    }
   ],
   "execution_count": 43
  },
  {
   "metadata": {
    "ExecuteTime": {
     "end_time": "2025-09-19T13:52:33.525202Z",
     "start_time": "2025-09-19T13:52:33.429485Z"
    }
   },
   "cell_type": "code",
   "source": [
    "cols = ['time1', 'accoustic_emmision_data', 'time2', 'electrochemical_data',\n",
    "       'time3', 'mechanical_data']\n",
    "for col in cols:\n",
    "    df_temp[col] = pd.to_numeric(df_temp[col], errors='coerce')\n",
    "df_temp.shape"
   ],
   "id": "95adb296e04b8bd",
   "outputs": [
    {
     "data": {
      "text/plain": [
       "(243600, 7)"
      ]
     },
     "execution_count": 44,
     "metadata": {},
     "output_type": "execute_result"
    }
   ],
   "execution_count": 44
  },
  {
   "metadata": {
    "ExecuteTime": {
     "end_time": "2025-09-19T13:52:40.704311Z",
     "start_time": "2025-09-19T13:52:40.670728Z"
    }
   },
   "cell_type": "code",
   "source": [
    "df_temp = df_temp[df_temp['accoustic_emmision_data'].notnull()]\n",
    "df_temp.isnull().sum()"
   ],
   "id": "f1e50f663c9cd228",
   "outputs": [
    {
     "data": {
      "text/plain": [
       "time1                      0\n",
       "accoustic_emmision_data    0\n",
       "time2                      0\n",
       "electrochemical_data       0\n",
       "time3                      0\n",
       "mechanical_data            0\n",
       "output                     0\n",
       "dtype: int64"
      ]
     },
     "execution_count": 45,
     "metadata": {},
     "output_type": "execute_result"
    }
   ],
   "execution_count": 45
  },
  {
   "metadata": {
    "ExecuteTime": {
     "end_time": "2025-09-19T13:52:49.241673Z",
     "start_time": "2025-09-19T13:52:49.218930Z"
    }
   },
   "cell_type": "code",
   "source": [
    "time_cols = ['time1','time2','time3']\n",
    "for col in time_cols:\n",
    "    df_temp[col] = round(df_temp[col], 2)"
   ],
   "id": "1780f64bc8ba9d61",
   "outputs": [],
   "execution_count": 46
  },
  {
   "metadata": {
    "ExecuteTime": {
     "end_time": "2025-09-19T13:52:56.027546Z",
     "start_time": "2025-09-19T13:52:56.013375Z"
    }
   },
   "cell_type": "code",
   "source": [
    "df_time1 = df_temp[['time1', 'accoustic_emmision_data']]\n",
    "df_time2 = df_temp[['time2', 'electrochemical_data']]\n",
    "df_time3 = df_temp[['time3', 'mechanical_data']]"
   ],
   "id": "9f880dc2105e9b83",
   "outputs": [],
   "execution_count": 47
  },
  {
   "metadata": {
    "ExecuteTime": {
     "end_time": "2025-09-19T13:53:02.666626Z",
     "start_time": "2025-09-19T13:53:02.605619Z"
    }
   },
   "cell_type": "code",
   "source": "df_time3.sort_values(by='time3')",
   "id": "b643d868eaa6a76f",
   "outputs": [
    {
     "data": {
      "text/plain": [
       "          time3  mechanical_data\n",
       "0          0.05         0.004036\n",
       "1          0.06         0.004036\n",
       "2          0.08         0.004036\n",
       "3          0.09         0.004036\n",
       "4          0.11         0.002699\n",
       "...         ...              ...\n",
       "243595  3630.55         0.030747\n",
       "243596  3630.56         0.030747\n",
       "243597  3630.58         0.030747\n",
       "243598  3630.59         0.033663\n",
       "243599  3630.61         0.033663\n",
       "\n",
       "[243600 rows x 2 columns]"
      ],
      "text/html": [
       "<div>\n",
       "<style scoped>\n",
       "    .dataframe tbody tr th:only-of-type {\n",
       "        vertical-align: middle;\n",
       "    }\n",
       "\n",
       "    .dataframe tbody tr th {\n",
       "        vertical-align: top;\n",
       "    }\n",
       "\n",
       "    .dataframe thead th {\n",
       "        text-align: right;\n",
       "    }\n",
       "</style>\n",
       "<table border=\"1\" class=\"dataframe\">\n",
       "  <thead>\n",
       "    <tr style=\"text-align: right;\">\n",
       "      <th></th>\n",
       "      <th>time3</th>\n",
       "      <th>mechanical_data</th>\n",
       "    </tr>\n",
       "  </thead>\n",
       "  <tbody>\n",
       "    <tr>\n",
       "      <th>0</th>\n",
       "      <td>0.05</td>\n",
       "      <td>0.004036</td>\n",
       "    </tr>\n",
       "    <tr>\n",
       "      <th>1</th>\n",
       "      <td>0.06</td>\n",
       "      <td>0.004036</td>\n",
       "    </tr>\n",
       "    <tr>\n",
       "      <th>2</th>\n",
       "      <td>0.08</td>\n",
       "      <td>0.004036</td>\n",
       "    </tr>\n",
       "    <tr>\n",
       "      <th>3</th>\n",
       "      <td>0.09</td>\n",
       "      <td>0.004036</td>\n",
       "    </tr>\n",
       "    <tr>\n",
       "      <th>4</th>\n",
       "      <td>0.11</td>\n",
       "      <td>0.002699</td>\n",
       "    </tr>\n",
       "    <tr>\n",
       "      <th>...</th>\n",
       "      <td>...</td>\n",
       "      <td>...</td>\n",
       "    </tr>\n",
       "    <tr>\n",
       "      <th>243595</th>\n",
       "      <td>3630.55</td>\n",
       "      <td>0.030747</td>\n",
       "    </tr>\n",
       "    <tr>\n",
       "      <th>243596</th>\n",
       "      <td>3630.56</td>\n",
       "      <td>0.030747</td>\n",
       "    </tr>\n",
       "    <tr>\n",
       "      <th>243597</th>\n",
       "      <td>3630.58</td>\n",
       "      <td>0.030747</td>\n",
       "    </tr>\n",
       "    <tr>\n",
       "      <th>243598</th>\n",
       "      <td>3630.59</td>\n",
       "      <td>0.033663</td>\n",
       "    </tr>\n",
       "    <tr>\n",
       "      <th>243599</th>\n",
       "      <td>3630.61</td>\n",
       "      <td>0.033663</td>\n",
       "    </tr>\n",
       "  </tbody>\n",
       "</table>\n",
       "<p>243600 rows × 2 columns</p>\n",
       "</div>"
      ]
     },
     "execution_count": 48,
     "metadata": {},
     "output_type": "execute_result"
    }
   ],
   "execution_count": 48
  },
  {
   "metadata": {
    "ExecuteTime": {
     "end_time": "2025-09-19T13:53:20.901917Z",
     "start_time": "2025-09-19T13:53:20.875873Z"
    }
   },
   "cell_type": "code",
   "source": [
    "df_time_temp = df_time1.merge(df_time2, left_on='time1', right_on='time2')\n",
    "df_time_temp.shape"
   ],
   "id": "316967be8a2f5217",
   "outputs": [
    {
     "data": {
      "text/plain": [
       "(204222, 4)"
      ]
     },
     "execution_count": 49,
     "metadata": {},
     "output_type": "execute_result"
    }
   ],
   "execution_count": 49
  },
  {
   "metadata": {
    "ExecuteTime": {
     "end_time": "2025-09-19T13:53:29.251880Z",
     "start_time": "2025-09-19T13:53:29.226138Z"
    }
   },
   "cell_type": "code",
   "source": [
    "df_time_temp = df_time_temp[['time1', 'accoustic_emmision_data', 'electrochemical_data']]\n",
    "df_time_temp_1 = df_time_temp.merge(df_time3, left_on='time1', right_on='time3')\n",
    "df_time_temp_1.shape, df_time_temp_1.isnull().sum()"
   ],
   "id": "f06c9757d08a87db",
   "outputs": [
    {
     "data": {
      "text/plain": [
       "((137620, 5),\n",
       " time1                      0\n",
       " accoustic_emmision_data    0\n",
       " electrochemical_data       0\n",
       " time3                      0\n",
       " mechanical_data            0\n",
       " dtype: int64)"
      ]
     },
     "execution_count": 50,
     "metadata": {},
     "output_type": "execute_result"
    }
   ],
   "execution_count": 50
  },
  {
   "metadata": {
    "ExecuteTime": {
     "end_time": "2025-09-19T13:53:45.658431Z",
     "start_time": "2025-09-19T13:53:45.645995Z"
    }
   },
   "cell_type": "code",
   "source": [
    "cleaned_n1 = df_time_temp_1.copy()\n",
    "cleaned_n1 = cleaned_n1[['time1', 'accoustic_emmision_data', 'electrochemical_data', 'mechanical_data']]\n",
    "cleaned_n1.head()"
   ],
   "id": "39ad88a1e98e06d8",
   "outputs": [
    {
     "data": {
      "text/plain": [
       "   time1  accoustic_emmision_data  electrochemical_data  mechanical_data\n",
       "0   0.05             1.140000e+09              0.000003         0.004036\n",
       "1   0.06             1.150000e+09              0.000003         0.004036\n",
       "2   0.08             1.150000e+09              0.000003         0.004036\n",
       "3   0.09             1.140000e+09              0.000003         0.004036\n",
       "4   0.11             1.140000e+09              0.000003         0.002699"
      ],
      "text/html": [
       "<div>\n",
       "<style scoped>\n",
       "    .dataframe tbody tr th:only-of-type {\n",
       "        vertical-align: middle;\n",
       "    }\n",
       "\n",
       "    .dataframe tbody tr th {\n",
       "        vertical-align: top;\n",
       "    }\n",
       "\n",
       "    .dataframe thead th {\n",
       "        text-align: right;\n",
       "    }\n",
       "</style>\n",
       "<table border=\"1\" class=\"dataframe\">\n",
       "  <thead>\n",
       "    <tr style=\"text-align: right;\">\n",
       "      <th></th>\n",
       "      <th>time1</th>\n",
       "      <th>accoustic_emmision_data</th>\n",
       "      <th>electrochemical_data</th>\n",
       "      <th>mechanical_data</th>\n",
       "    </tr>\n",
       "  </thead>\n",
       "  <tbody>\n",
       "    <tr>\n",
       "      <th>0</th>\n",
       "      <td>0.05</td>\n",
       "      <td>1.140000e+09</td>\n",
       "      <td>0.000003</td>\n",
       "      <td>0.004036</td>\n",
       "    </tr>\n",
       "    <tr>\n",
       "      <th>1</th>\n",
       "      <td>0.06</td>\n",
       "      <td>1.150000e+09</td>\n",
       "      <td>0.000003</td>\n",
       "      <td>0.004036</td>\n",
       "    </tr>\n",
       "    <tr>\n",
       "      <th>2</th>\n",
       "      <td>0.08</td>\n",
       "      <td>1.150000e+09</td>\n",
       "      <td>0.000003</td>\n",
       "      <td>0.004036</td>\n",
       "    </tr>\n",
       "    <tr>\n",
       "      <th>3</th>\n",
       "      <td>0.09</td>\n",
       "      <td>1.140000e+09</td>\n",
       "      <td>0.000003</td>\n",
       "      <td>0.004036</td>\n",
       "    </tr>\n",
       "    <tr>\n",
       "      <th>4</th>\n",
       "      <td>0.11</td>\n",
       "      <td>1.140000e+09</td>\n",
       "      <td>0.000003</td>\n",
       "      <td>0.002699</td>\n",
       "    </tr>\n",
       "  </tbody>\n",
       "</table>\n",
       "</div>"
      ]
     },
     "execution_count": 51,
     "metadata": {},
     "output_type": "execute_result"
    }
   ],
   "execution_count": 51
  },
  {
   "metadata": {
    "ExecuteTime": {
     "end_time": "2025-09-20T15:41:24.262238Z",
     "start_time": "2025-09-20T15:41:24.000747Z"
    }
   },
   "cell_type": "code",
   "source": [
    "cleaned_n1['output'] = 'corrosion'\n",
    "cleaned_n1.to_csv('dataset/n1_n2_n3_cleaned/corrosion_N1.csv', index=False)\n",
    "cleaned_n1.head()"
   ],
   "id": "dbfd33689a290e73",
   "outputs": [
    {
     "data": {
      "text/plain": [
       "   time1  accoustic_emmision_data  electrochemical_data  mechanical_data  \\\n",
       "0   0.05             1.140000e+09              0.000003         0.004036   \n",
       "1   0.06             1.150000e+09              0.000003         0.004036   \n",
       "2   0.08             1.150000e+09              0.000003         0.004036   \n",
       "3   0.09             1.140000e+09              0.000003         0.004036   \n",
       "4   0.11             1.140000e+09              0.000003         0.002699   \n",
       "\n",
       "      output  \n",
       "0  corrosion  \n",
       "1  corrosion  \n",
       "2  corrosion  \n",
       "3  corrosion  \n",
       "4  corrosion  "
      ],
      "text/html": [
       "<div>\n",
       "<style scoped>\n",
       "    .dataframe tbody tr th:only-of-type {\n",
       "        vertical-align: middle;\n",
       "    }\n",
       "\n",
       "    .dataframe tbody tr th {\n",
       "        vertical-align: top;\n",
       "    }\n",
       "\n",
       "    .dataframe thead th {\n",
       "        text-align: right;\n",
       "    }\n",
       "</style>\n",
       "<table border=\"1\" class=\"dataframe\">\n",
       "  <thead>\n",
       "    <tr style=\"text-align: right;\">\n",
       "      <th></th>\n",
       "      <th>time1</th>\n",
       "      <th>accoustic_emmision_data</th>\n",
       "      <th>electrochemical_data</th>\n",
       "      <th>mechanical_data</th>\n",
       "      <th>output</th>\n",
       "    </tr>\n",
       "  </thead>\n",
       "  <tbody>\n",
       "    <tr>\n",
       "      <th>0</th>\n",
       "      <td>0.05</td>\n",
       "      <td>1.140000e+09</td>\n",
       "      <td>0.000003</td>\n",
       "      <td>0.004036</td>\n",
       "      <td>corrosion</td>\n",
       "    </tr>\n",
       "    <tr>\n",
       "      <th>1</th>\n",
       "      <td>0.06</td>\n",
       "      <td>1.150000e+09</td>\n",
       "      <td>0.000003</td>\n",
       "      <td>0.004036</td>\n",
       "      <td>corrosion</td>\n",
       "    </tr>\n",
       "    <tr>\n",
       "      <th>2</th>\n",
       "      <td>0.08</td>\n",
       "      <td>1.150000e+09</td>\n",
       "      <td>0.000003</td>\n",
       "      <td>0.004036</td>\n",
       "      <td>corrosion</td>\n",
       "    </tr>\n",
       "    <tr>\n",
       "      <th>3</th>\n",
       "      <td>0.09</td>\n",
       "      <td>1.140000e+09</td>\n",
       "      <td>0.000003</td>\n",
       "      <td>0.004036</td>\n",
       "      <td>corrosion</td>\n",
       "    </tr>\n",
       "    <tr>\n",
       "      <th>4</th>\n",
       "      <td>0.11</td>\n",
       "      <td>1.140000e+09</td>\n",
       "      <td>0.000003</td>\n",
       "      <td>0.002699</td>\n",
       "      <td>corrosion</td>\n",
       "    </tr>\n",
       "  </tbody>\n",
       "</table>\n",
       "</div>"
      ]
     },
     "execution_count": 93,
     "metadata": {},
     "output_type": "execute_result"
    }
   ],
   "execution_count": 93
  },
  {
   "metadata": {},
   "cell_type": "markdown",
   "source": "### Corrosion set N2 data cleaning",
   "id": "7b25115ad66e428b"
  },
  {
   "metadata": {
    "ExecuteTime": {
     "end_time": "2025-09-19T13:55:27.289906Z",
     "start_time": "2025-09-19T13:55:27.273689Z"
    }
   },
   "cell_type": "code",
   "source": "df_corrosion_n2.output = 'corrosion'",
   "id": "5c6de9f64526fb03",
   "outputs": [],
   "execution_count": 53
  },
  {
   "metadata": {
    "ExecuteTime": {
     "end_time": "2025-09-19T13:55:28.092410Z",
     "start_time": "2025-09-19T13:55:27.937887Z"
    }
   },
   "cell_type": "code",
   "source": [
    "df_temp = df_corrosion_n2[~df_corrosion_n2['accoustic_emmision_data'].isnull()]\n",
    "df_temp = df_temp[df_temp['electrochemical_data'].notnull()]\n",
    "df_temp = df_temp[df_temp['mechanical_data'].notnull()]\n",
    "df_temp = df_temp.iloc[2:].reset_index(drop=True)\n",
    "df_temp.isnull().sum(), df_temp.shape"
   ],
   "id": "92dc19357434cd9",
   "outputs": [
    {
     "data": {
      "text/plain": [
       "(time1                      0\n",
       " accoustic_emmision_data    0\n",
       " time2                      0\n",
       " electrochemical_data       0\n",
       " time3                      0\n",
       " mechanical_data            0\n",
       " output                     0\n",
       " dtype: int64,\n",
       " (290353, 7))"
      ]
     },
     "execution_count": 54,
     "metadata": {},
     "output_type": "execute_result"
    }
   ],
   "execution_count": 54
  },
  {
   "metadata": {
    "ExecuteTime": {
     "end_time": "2025-09-19T13:55:35.328391Z",
     "start_time": "2025-09-19T13:55:35.241911Z"
    }
   },
   "cell_type": "code",
   "source": [
    "cols = ['time1', 'accoustic_emmision_data', 'time2', 'electrochemical_data',\n",
    "       'time3', 'mechanical_data']\n",
    "for col in cols:\n",
    "    df_temp[col] = pd.to_numeric(df_temp[col], errors='coerce')\n",
    "df_temp.shape"
   ],
   "id": "b03039a0eb506066",
   "outputs": [
    {
     "data": {
      "text/plain": [
       "(290353, 7)"
      ]
     },
     "execution_count": 55,
     "metadata": {},
     "output_type": "execute_result"
    }
   ],
   "execution_count": 55
  },
  {
   "metadata": {
    "ExecuteTime": {
     "end_time": "2025-09-19T13:55:41.221176Z",
     "start_time": "2025-09-19T13:55:41.193534Z"
    }
   },
   "cell_type": "code",
   "source": [
    "df_temp = df_temp[df_temp['accoustic_emmision_data'].notnull()]\n",
    "df_temp.isnull().sum()"
   ],
   "id": "e91c0670dcf67298",
   "outputs": [
    {
     "data": {
      "text/plain": [
       "time1                      0\n",
       "accoustic_emmision_data    0\n",
       "time2                      0\n",
       "electrochemical_data       0\n",
       "time3                      0\n",
       "mechanical_data            0\n",
       "output                     0\n",
       "dtype: int64"
      ]
     },
     "execution_count": 56,
     "metadata": {},
     "output_type": "execute_result"
    }
   ],
   "execution_count": 56
  },
  {
   "metadata": {
    "ExecuteTime": {
     "end_time": "2025-09-19T13:55:49.153632Z",
     "start_time": "2025-09-19T13:55:49.147810Z"
    }
   },
   "cell_type": "code",
   "source": [
    "time_cols = ['time1','time2','time3']\n",
    "for col in time_cols:\n",
    "    df_temp[col] = round(df_temp[col], 2)"
   ],
   "id": "c28983961970e81e",
   "outputs": [],
   "execution_count": 57
  },
  {
   "metadata": {
    "ExecuteTime": {
     "end_time": "2025-09-19T13:55:58.332237Z",
     "start_time": "2025-09-19T13:55:58.318455Z"
    }
   },
   "cell_type": "code",
   "source": [
    "df_time1 = df_temp[['time1', 'accoustic_emmision_data']]\n",
    "df_time2 = df_temp[['time2', 'electrochemical_data']]\n",
    "df_time3 = df_temp[['time3', 'mechanical_data']]"
   ],
   "id": "ddb3c327ecff9b74",
   "outputs": [],
   "execution_count": 58
  },
  {
   "metadata": {
    "ExecuteTime": {
     "end_time": "2025-09-19T13:56:05.737912Z",
     "start_time": "2025-09-19T13:56:05.726205Z"
    }
   },
   "cell_type": "code",
   "source": "df_time3.sort_values(by='time3')",
   "id": "6eb0143e119c5b0c",
   "outputs": [
    {
     "data": {
      "text/plain": [
       "          time3  mechanical_data\n",
       "0          0.01         0.007012\n",
       "1          0.03         0.007012\n",
       "2          0.04         0.007012\n",
       "3          0.06         0.007012\n",
       "4          0.07         0.007012\n",
       "...         ...              ...\n",
       "290348  4319.12         0.044614\n",
       "290349  4319.14         0.044614\n",
       "290350  4319.15         0.044687\n",
       "290351  4319.17         0.044687\n",
       "290352  4319.18         0.044687\n",
       "\n",
       "[290353 rows x 2 columns]"
      ],
      "text/html": [
       "<div>\n",
       "<style scoped>\n",
       "    .dataframe tbody tr th:only-of-type {\n",
       "        vertical-align: middle;\n",
       "    }\n",
       "\n",
       "    .dataframe tbody tr th {\n",
       "        vertical-align: top;\n",
       "    }\n",
       "\n",
       "    .dataframe thead th {\n",
       "        text-align: right;\n",
       "    }\n",
       "</style>\n",
       "<table border=\"1\" class=\"dataframe\">\n",
       "  <thead>\n",
       "    <tr style=\"text-align: right;\">\n",
       "      <th></th>\n",
       "      <th>time3</th>\n",
       "      <th>mechanical_data</th>\n",
       "    </tr>\n",
       "  </thead>\n",
       "  <tbody>\n",
       "    <tr>\n",
       "      <th>0</th>\n",
       "      <td>0.01</td>\n",
       "      <td>0.007012</td>\n",
       "    </tr>\n",
       "    <tr>\n",
       "      <th>1</th>\n",
       "      <td>0.03</td>\n",
       "      <td>0.007012</td>\n",
       "    </tr>\n",
       "    <tr>\n",
       "      <th>2</th>\n",
       "      <td>0.04</td>\n",
       "      <td>0.007012</td>\n",
       "    </tr>\n",
       "    <tr>\n",
       "      <th>3</th>\n",
       "      <td>0.06</td>\n",
       "      <td>0.007012</td>\n",
       "    </tr>\n",
       "    <tr>\n",
       "      <th>4</th>\n",
       "      <td>0.07</td>\n",
       "      <td>0.007012</td>\n",
       "    </tr>\n",
       "    <tr>\n",
       "      <th>...</th>\n",
       "      <td>...</td>\n",
       "      <td>...</td>\n",
       "    </tr>\n",
       "    <tr>\n",
       "      <th>290348</th>\n",
       "      <td>4319.12</td>\n",
       "      <td>0.044614</td>\n",
       "    </tr>\n",
       "    <tr>\n",
       "      <th>290349</th>\n",
       "      <td>4319.14</td>\n",
       "      <td>0.044614</td>\n",
       "    </tr>\n",
       "    <tr>\n",
       "      <th>290350</th>\n",
       "      <td>4319.15</td>\n",
       "      <td>0.044687</td>\n",
       "    </tr>\n",
       "    <tr>\n",
       "      <th>290351</th>\n",
       "      <td>4319.17</td>\n",
       "      <td>0.044687</td>\n",
       "    </tr>\n",
       "    <tr>\n",
       "      <th>290352</th>\n",
       "      <td>4319.18</td>\n",
       "      <td>0.044687</td>\n",
       "    </tr>\n",
       "  </tbody>\n",
       "</table>\n",
       "<p>290353 rows × 2 columns</p>\n",
       "</div>"
      ]
     },
     "execution_count": 59,
     "metadata": {},
     "output_type": "execute_result"
    }
   ],
   "execution_count": 59
  },
  {
   "metadata": {
    "ExecuteTime": {
     "end_time": "2025-09-19T13:56:19.467529Z",
     "start_time": "2025-09-19T13:56:19.418176Z"
    }
   },
   "cell_type": "code",
   "source": [
    "df_time_temp = df_time1.merge(df_time2, left_on='time1', right_on='time2')\n",
    "df_time_temp.shape"
   ],
   "id": "c506b499315966a9",
   "outputs": [
    {
     "data": {
      "text/plain": [
       "(290350, 4)"
      ]
     },
     "execution_count": 60,
     "metadata": {},
     "output_type": "execute_result"
    }
   ],
   "execution_count": 60
  },
  {
   "metadata": {
    "ExecuteTime": {
     "end_time": "2025-09-19T13:56:26.152634Z",
     "start_time": "2025-09-19T13:56:26.109160Z"
    }
   },
   "cell_type": "code",
   "source": [
    "df_time_temp = df_time_temp[['time1', 'accoustic_emmision_data', 'electrochemical_data']]\n",
    "df_time_temp_1 = df_time_temp.merge(df_time3, left_on='time1', right_on='time3')\n",
    "df_time_temp_1.shape, df_time_temp_1.isnull().sum()"
   ],
   "id": "d4a3cfc8370072db",
   "outputs": [
    {
     "data": {
      "text/plain": [
       "((195185, 5),\n",
       " time1                      0\n",
       " accoustic_emmision_data    0\n",
       " electrochemical_data       0\n",
       " time3                      0\n",
       " mechanical_data            0\n",
       " dtype: int64)"
      ]
     },
     "execution_count": 61,
     "metadata": {},
     "output_type": "execute_result"
    }
   ],
   "execution_count": 61
  },
  {
   "metadata": {
    "ExecuteTime": {
     "end_time": "2025-09-19T13:56:35.166040Z",
     "start_time": "2025-09-19T13:56:35.107830Z"
    }
   },
   "cell_type": "code",
   "source": [
    "cleaned_n2 = df_time_temp_1.copy()\n",
    "cleaned_n2 = cleaned_n2[['time1', 'accoustic_emmision_data', 'electrochemical_data', 'mechanical_data']]\n",
    "cleaned_n2.head()"
   ],
   "id": "4f97e6a3e909c1e5",
   "outputs": [
    {
     "data": {
      "text/plain": [
       "   time1  accoustic_emmision_data  electrochemical_data  mechanical_data\n",
       "0   0.01                1640000.0         -4.850000e-07         0.007012\n",
       "1   0.03                 312000.0         -3.140000e-07         0.007012\n",
       "2   0.04                 313000.0         -5.280000e-07         0.007012\n",
       "3   0.06                 320000.0         -4.820000e-07         0.007012\n",
       "4   0.07                 326000.0         -3.870000e-07         0.007012"
      ],
      "text/html": [
       "<div>\n",
       "<style scoped>\n",
       "    .dataframe tbody tr th:only-of-type {\n",
       "        vertical-align: middle;\n",
       "    }\n",
       "\n",
       "    .dataframe tbody tr th {\n",
       "        vertical-align: top;\n",
       "    }\n",
       "\n",
       "    .dataframe thead th {\n",
       "        text-align: right;\n",
       "    }\n",
       "</style>\n",
       "<table border=\"1\" class=\"dataframe\">\n",
       "  <thead>\n",
       "    <tr style=\"text-align: right;\">\n",
       "      <th></th>\n",
       "      <th>time1</th>\n",
       "      <th>accoustic_emmision_data</th>\n",
       "      <th>electrochemical_data</th>\n",
       "      <th>mechanical_data</th>\n",
       "    </tr>\n",
       "  </thead>\n",
       "  <tbody>\n",
       "    <tr>\n",
       "      <th>0</th>\n",
       "      <td>0.01</td>\n",
       "      <td>1640000.0</td>\n",
       "      <td>-4.850000e-07</td>\n",
       "      <td>0.007012</td>\n",
       "    </tr>\n",
       "    <tr>\n",
       "      <th>1</th>\n",
       "      <td>0.03</td>\n",
       "      <td>312000.0</td>\n",
       "      <td>-3.140000e-07</td>\n",
       "      <td>0.007012</td>\n",
       "    </tr>\n",
       "    <tr>\n",
       "      <th>2</th>\n",
       "      <td>0.04</td>\n",
       "      <td>313000.0</td>\n",
       "      <td>-5.280000e-07</td>\n",
       "      <td>0.007012</td>\n",
       "    </tr>\n",
       "    <tr>\n",
       "      <th>3</th>\n",
       "      <td>0.06</td>\n",
       "      <td>320000.0</td>\n",
       "      <td>-4.820000e-07</td>\n",
       "      <td>0.007012</td>\n",
       "    </tr>\n",
       "    <tr>\n",
       "      <th>4</th>\n",
       "      <td>0.07</td>\n",
       "      <td>326000.0</td>\n",
       "      <td>-3.870000e-07</td>\n",
       "      <td>0.007012</td>\n",
       "    </tr>\n",
       "  </tbody>\n",
       "</table>\n",
       "</div>"
      ]
     },
     "execution_count": 62,
     "metadata": {},
     "output_type": "execute_result"
    }
   ],
   "execution_count": 62
  },
  {
   "metadata": {
    "ExecuteTime": {
     "end_time": "2025-09-20T15:42:01.499315Z",
     "start_time": "2025-09-20T15:42:01.225407Z"
    }
   },
   "cell_type": "code",
   "source": [
    "cleaned_n2['output'] = 'corrosion'\n",
    "cleaned_n2.to_csv('dataset/n1_n2_n3_cleaned/corrosion_N2.csv', index=False)\n",
    "cleaned_n2.head()"
   ],
   "id": "165b402d2f6bfd2b",
   "outputs": [
    {
     "data": {
      "text/plain": [
       "   time1  accoustic_emmision_data  electrochemical_data  mechanical_data  \\\n",
       "0   0.01                1640000.0         -4.850000e-07         0.007012   \n",
       "1   0.03                 312000.0         -3.140000e-07         0.007012   \n",
       "2   0.04                 313000.0         -5.280000e-07         0.007012   \n",
       "3   0.06                 320000.0         -4.820000e-07         0.007012   \n",
       "4   0.07                 326000.0         -3.870000e-07         0.007012   \n",
       "\n",
       "      output  \n",
       "0  corrosion  \n",
       "1  corrosion  \n",
       "2  corrosion  \n",
       "3  corrosion  \n",
       "4  corrosion  "
      ],
      "text/html": [
       "<div>\n",
       "<style scoped>\n",
       "    .dataframe tbody tr th:only-of-type {\n",
       "        vertical-align: middle;\n",
       "    }\n",
       "\n",
       "    .dataframe tbody tr th {\n",
       "        vertical-align: top;\n",
       "    }\n",
       "\n",
       "    .dataframe thead th {\n",
       "        text-align: right;\n",
       "    }\n",
       "</style>\n",
       "<table border=\"1\" class=\"dataframe\">\n",
       "  <thead>\n",
       "    <tr style=\"text-align: right;\">\n",
       "      <th></th>\n",
       "      <th>time1</th>\n",
       "      <th>accoustic_emmision_data</th>\n",
       "      <th>electrochemical_data</th>\n",
       "      <th>mechanical_data</th>\n",
       "      <th>output</th>\n",
       "    </tr>\n",
       "  </thead>\n",
       "  <tbody>\n",
       "    <tr>\n",
       "      <th>0</th>\n",
       "      <td>0.01</td>\n",
       "      <td>1640000.0</td>\n",
       "      <td>-4.850000e-07</td>\n",
       "      <td>0.007012</td>\n",
       "      <td>corrosion</td>\n",
       "    </tr>\n",
       "    <tr>\n",
       "      <th>1</th>\n",
       "      <td>0.03</td>\n",
       "      <td>312000.0</td>\n",
       "      <td>-3.140000e-07</td>\n",
       "      <td>0.007012</td>\n",
       "      <td>corrosion</td>\n",
       "    </tr>\n",
       "    <tr>\n",
       "      <th>2</th>\n",
       "      <td>0.04</td>\n",
       "      <td>313000.0</td>\n",
       "      <td>-5.280000e-07</td>\n",
       "      <td>0.007012</td>\n",
       "      <td>corrosion</td>\n",
       "    </tr>\n",
       "    <tr>\n",
       "      <th>3</th>\n",
       "      <td>0.06</td>\n",
       "      <td>320000.0</td>\n",
       "      <td>-4.820000e-07</td>\n",
       "      <td>0.007012</td>\n",
       "      <td>corrosion</td>\n",
       "    </tr>\n",
       "    <tr>\n",
       "      <th>4</th>\n",
       "      <td>0.07</td>\n",
       "      <td>326000.0</td>\n",
       "      <td>-3.870000e-07</td>\n",
       "      <td>0.007012</td>\n",
       "      <td>corrosion</td>\n",
       "    </tr>\n",
       "  </tbody>\n",
       "</table>\n",
       "</div>"
      ]
     },
     "execution_count": 94,
     "metadata": {},
     "output_type": "execute_result"
    }
   ],
   "execution_count": 94
  },
  {
   "metadata": {},
   "cell_type": "markdown",
   "source": "### Corrosion set N3 data cleaning",
   "id": "291bb5abec283619"
  },
  {
   "metadata": {
    "ExecuteTime": {
     "end_time": "2025-09-19T13:57:43.577619Z",
     "start_time": "2025-09-19T13:57:43.561807Z"
    }
   },
   "cell_type": "code",
   "source": "df_corrosion_n3.output = 'corrosion'",
   "id": "df18f279ecab8a6d",
   "outputs": [],
   "execution_count": 66
  },
  {
   "metadata": {
    "ExecuteTime": {
     "end_time": "2025-09-19T13:57:44.146954Z",
     "start_time": "2025-09-19T13:57:43.964620Z"
    }
   },
   "cell_type": "code",
   "source": [
    "df_temp = df_corrosion_n3[~df_corrosion_n3['accoustic_emmision_data'].isnull()]\n",
    "df_temp = df_temp[df_temp['electrochemical_data'].notnull()]\n",
    "df_temp = df_temp[df_temp['mechanical_data'].notnull()]\n",
    "df_temp = df_temp.iloc[2:].reset_index(drop=True)\n",
    "df_temp.isnull().sum(), df_temp.shape"
   ],
   "id": "65256f8f0f6fe916",
   "outputs": [
    {
     "data": {
      "text/plain": [
       "(time1                      0\n",
       " accoustic_emmision_data    0\n",
       " time2                      0\n",
       " electrochemical_data       0\n",
       " time3                      0\n",
       " mechanical_data            0\n",
       " output                     0\n",
       " dtype: int64,\n",
       " (290353, 7))"
      ]
     },
     "execution_count": 67,
     "metadata": {},
     "output_type": "execute_result"
    }
   ],
   "execution_count": 67
  },
  {
   "metadata": {
    "ExecuteTime": {
     "end_time": "2025-09-19T13:57:45.018146Z",
     "start_time": "2025-09-19T13:57:44.924995Z"
    }
   },
   "cell_type": "code",
   "source": [
    "cols = ['time1', 'accoustic_emmision_data', 'time2', 'electrochemical_data',\n",
    "       'time3', 'mechanical_data']\n",
    "for col in cols:\n",
    "    df_temp[col] = pd.to_numeric(df_temp[col], errors='coerce')\n",
    "df_temp.shape"
   ],
   "id": "a1d71102dfa7cb7e",
   "outputs": [
    {
     "data": {
      "text/plain": [
       "(290353, 7)"
      ]
     },
     "execution_count": 68,
     "metadata": {},
     "output_type": "execute_result"
    }
   ],
   "execution_count": 68
  },
  {
   "metadata": {
    "ExecuteTime": {
     "end_time": "2025-09-19T13:57:45.654191Z",
     "start_time": "2025-09-19T13:57:45.626375Z"
    }
   },
   "cell_type": "code",
   "source": [
    "df_temp = df_temp[df_temp['accoustic_emmision_data'].notnull()]\n",
    "df_temp.isnull().sum()"
   ],
   "id": "ea4b4f58ed634030",
   "outputs": [
    {
     "data": {
      "text/plain": [
       "time1                      0\n",
       "accoustic_emmision_data    0\n",
       "time2                      0\n",
       "electrochemical_data       0\n",
       "time3                      0\n",
       "mechanical_data            0\n",
       "output                     0\n",
       "dtype: int64"
      ]
     },
     "execution_count": 69,
     "metadata": {},
     "output_type": "execute_result"
    }
   ],
   "execution_count": 69
  },
  {
   "metadata": {
    "ExecuteTime": {
     "end_time": "2025-09-19T13:57:52.886942Z",
     "start_time": "2025-09-19T13:57:52.877606Z"
    }
   },
   "cell_type": "code",
   "source": [
    "time_cols = ['time1','time2','time3']\n",
    "for col in time_cols:\n",
    "    df_temp[col] = round(df_temp[col], 2)"
   ],
   "id": "3270e1d719b7d085",
   "outputs": [],
   "execution_count": 70
  },
  {
   "metadata": {
    "ExecuteTime": {
     "end_time": "2025-09-19T13:58:05.611082Z",
     "start_time": "2025-09-19T13:58:05.602472Z"
    }
   },
   "cell_type": "code",
   "source": [
    "df_time1 = df_temp[['time1', 'accoustic_emmision_data']]\n",
    "df_time2 = df_temp[['time2', 'electrochemical_data']]\n",
    "df_time3 = df_temp[['time3', 'mechanical_data']]"
   ],
   "id": "1e2e469428d78d56",
   "outputs": [],
   "execution_count": 72
  },
  {
   "metadata": {
    "ExecuteTime": {
     "end_time": "2025-09-19T13:58:35.310427Z",
     "start_time": "2025-09-19T13:58:35.293452Z"
    }
   },
   "cell_type": "code",
   "source": "df_time3.sort_values(by='time3')",
   "id": "2cd84aad4f7e48e6",
   "outputs": [
    {
     "data": {
      "text/plain": [
       "          time3  mechanical_data\n",
       "0          0.01         0.007012\n",
       "1          0.03         0.007012\n",
       "2          0.04         0.007012\n",
       "3          0.06         0.007012\n",
       "4          0.07         0.007012\n",
       "...         ...              ...\n",
       "290348  4319.12         0.044614\n",
       "290349  4319.14         0.044614\n",
       "290350  4319.15         0.044687\n",
       "290351  4319.17         0.044687\n",
       "290352  4319.18         0.044687\n",
       "\n",
       "[290353 rows x 2 columns]"
      ],
      "text/html": [
       "<div>\n",
       "<style scoped>\n",
       "    .dataframe tbody tr th:only-of-type {\n",
       "        vertical-align: middle;\n",
       "    }\n",
       "\n",
       "    .dataframe tbody tr th {\n",
       "        vertical-align: top;\n",
       "    }\n",
       "\n",
       "    .dataframe thead th {\n",
       "        text-align: right;\n",
       "    }\n",
       "</style>\n",
       "<table border=\"1\" class=\"dataframe\">\n",
       "  <thead>\n",
       "    <tr style=\"text-align: right;\">\n",
       "      <th></th>\n",
       "      <th>time3</th>\n",
       "      <th>mechanical_data</th>\n",
       "    </tr>\n",
       "  </thead>\n",
       "  <tbody>\n",
       "    <tr>\n",
       "      <th>0</th>\n",
       "      <td>0.01</td>\n",
       "      <td>0.007012</td>\n",
       "    </tr>\n",
       "    <tr>\n",
       "      <th>1</th>\n",
       "      <td>0.03</td>\n",
       "      <td>0.007012</td>\n",
       "    </tr>\n",
       "    <tr>\n",
       "      <th>2</th>\n",
       "      <td>0.04</td>\n",
       "      <td>0.007012</td>\n",
       "    </tr>\n",
       "    <tr>\n",
       "      <th>3</th>\n",
       "      <td>0.06</td>\n",
       "      <td>0.007012</td>\n",
       "    </tr>\n",
       "    <tr>\n",
       "      <th>4</th>\n",
       "      <td>0.07</td>\n",
       "      <td>0.007012</td>\n",
       "    </tr>\n",
       "    <tr>\n",
       "      <th>...</th>\n",
       "      <td>...</td>\n",
       "      <td>...</td>\n",
       "    </tr>\n",
       "    <tr>\n",
       "      <th>290348</th>\n",
       "      <td>4319.12</td>\n",
       "      <td>0.044614</td>\n",
       "    </tr>\n",
       "    <tr>\n",
       "      <th>290349</th>\n",
       "      <td>4319.14</td>\n",
       "      <td>0.044614</td>\n",
       "    </tr>\n",
       "    <tr>\n",
       "      <th>290350</th>\n",
       "      <td>4319.15</td>\n",
       "      <td>0.044687</td>\n",
       "    </tr>\n",
       "    <tr>\n",
       "      <th>290351</th>\n",
       "      <td>4319.17</td>\n",
       "      <td>0.044687</td>\n",
       "    </tr>\n",
       "    <tr>\n",
       "      <th>290352</th>\n",
       "      <td>4319.18</td>\n",
       "      <td>0.044687</td>\n",
       "    </tr>\n",
       "  </tbody>\n",
       "</table>\n",
       "<p>290353 rows × 2 columns</p>\n",
       "</div>"
      ]
     },
     "execution_count": 74,
     "metadata": {},
     "output_type": "execute_result"
    }
   ],
   "execution_count": 74
  },
  {
   "metadata": {
    "ExecuteTime": {
     "end_time": "2025-09-19T13:58:46.647146Z",
     "start_time": "2025-09-19T13:58:46.606226Z"
    }
   },
   "cell_type": "code",
   "source": [
    "df_time_temp = df_time1.merge(df_time2, left_on='time1', right_on='time2')\n",
    "df_time_temp.shape"
   ],
   "id": "fd4280c739e93048",
   "outputs": [
    {
     "data": {
      "text/plain": [
       "(290350, 4)"
      ]
     },
     "execution_count": 75,
     "metadata": {},
     "output_type": "execute_result"
    }
   ],
   "execution_count": 75
  },
  {
   "metadata": {
    "ExecuteTime": {
     "end_time": "2025-09-19T13:58:53.456757Z",
     "start_time": "2025-09-19T13:58:53.429553Z"
    }
   },
   "cell_type": "code",
   "source": [
    "df_time_temp = df_time_temp[['time1', 'accoustic_emmision_data', 'electrochemical_data']]\n",
    "df_time_temp_1 = df_time_temp.merge(df_time3, left_on='time1', right_on='time3')\n",
    "df_time_temp_1.shape, df_time_temp_1.isnull().sum()"
   ],
   "id": "1ee3fd1fb849ef87",
   "outputs": [
    {
     "data": {
      "text/plain": [
       "((195185, 5),\n",
       " time1                      0\n",
       " accoustic_emmision_data    0\n",
       " electrochemical_data       0\n",
       " time3                      0\n",
       " mechanical_data            0\n",
       " dtype: int64)"
      ]
     },
     "execution_count": 76,
     "metadata": {},
     "output_type": "execute_result"
    }
   ],
   "execution_count": 76
  },
  {
   "metadata": {
    "ExecuteTime": {
     "end_time": "2025-09-19T13:59:00.077049Z",
     "start_time": "2025-09-19T13:59:00.052512Z"
    }
   },
   "cell_type": "code",
   "source": [
    "cleaned_n3 = df_time_temp_1.copy()\n",
    "cleaned_n3 = cleaned_n3[['time1', 'accoustic_emmision_data', 'electrochemical_data', 'mechanical_data']]\n",
    "cleaned_n3.head()"
   ],
   "id": "e2e66582ed634c88",
   "outputs": [
    {
     "data": {
      "text/plain": [
       "   time1  accoustic_emmision_data  electrochemical_data  mechanical_data\n",
       "0   0.01                1640000.0         -4.850000e-07         0.007012\n",
       "1   0.03                 312000.0         -3.140000e-07         0.007012\n",
       "2   0.04                 313000.0         -5.280000e-07         0.007012\n",
       "3   0.06                 320000.0         -4.820000e-07         0.007012\n",
       "4   0.07                 326000.0         -3.870000e-07         0.007012"
      ],
      "text/html": [
       "<div>\n",
       "<style scoped>\n",
       "    .dataframe tbody tr th:only-of-type {\n",
       "        vertical-align: middle;\n",
       "    }\n",
       "\n",
       "    .dataframe tbody tr th {\n",
       "        vertical-align: top;\n",
       "    }\n",
       "\n",
       "    .dataframe thead th {\n",
       "        text-align: right;\n",
       "    }\n",
       "</style>\n",
       "<table border=\"1\" class=\"dataframe\">\n",
       "  <thead>\n",
       "    <tr style=\"text-align: right;\">\n",
       "      <th></th>\n",
       "      <th>time1</th>\n",
       "      <th>accoustic_emmision_data</th>\n",
       "      <th>electrochemical_data</th>\n",
       "      <th>mechanical_data</th>\n",
       "    </tr>\n",
       "  </thead>\n",
       "  <tbody>\n",
       "    <tr>\n",
       "      <th>0</th>\n",
       "      <td>0.01</td>\n",
       "      <td>1640000.0</td>\n",
       "      <td>-4.850000e-07</td>\n",
       "      <td>0.007012</td>\n",
       "    </tr>\n",
       "    <tr>\n",
       "      <th>1</th>\n",
       "      <td>0.03</td>\n",
       "      <td>312000.0</td>\n",
       "      <td>-3.140000e-07</td>\n",
       "      <td>0.007012</td>\n",
       "    </tr>\n",
       "    <tr>\n",
       "      <th>2</th>\n",
       "      <td>0.04</td>\n",
       "      <td>313000.0</td>\n",
       "      <td>-5.280000e-07</td>\n",
       "      <td>0.007012</td>\n",
       "    </tr>\n",
       "    <tr>\n",
       "      <th>3</th>\n",
       "      <td>0.06</td>\n",
       "      <td>320000.0</td>\n",
       "      <td>-4.820000e-07</td>\n",
       "      <td>0.007012</td>\n",
       "    </tr>\n",
       "    <tr>\n",
       "      <th>4</th>\n",
       "      <td>0.07</td>\n",
       "      <td>326000.0</td>\n",
       "      <td>-3.870000e-07</td>\n",
       "      <td>0.007012</td>\n",
       "    </tr>\n",
       "  </tbody>\n",
       "</table>\n",
       "</div>"
      ]
     },
     "execution_count": 77,
     "metadata": {},
     "output_type": "execute_result"
    }
   ],
   "execution_count": 77
  },
  {
   "metadata": {
    "ExecuteTime": {
     "end_time": "2025-09-20T15:42:28.830940Z",
     "start_time": "2025-09-20T15:42:28.573417Z"
    }
   },
   "cell_type": "code",
   "source": [
    "cleaned_n3['output'] = 'corrosion'\n",
    "cleaned_n3.to_csv('dataset/n1_n2_n3_cleaned/corrosion_N3.csv', index=False)\n",
    "cleaned_n3.head()"
   ],
   "id": "fd57e703ac7a288",
   "outputs": [
    {
     "data": {
      "text/plain": [
       "   time1  accoustic_emmision_data  electrochemical_data  mechanical_data  \\\n",
       "0   0.01                1640000.0         -4.850000e-07         0.007012   \n",
       "1   0.03                 312000.0         -3.140000e-07         0.007012   \n",
       "2   0.04                 313000.0         -5.280000e-07         0.007012   \n",
       "3   0.06                 320000.0         -4.820000e-07         0.007012   \n",
       "4   0.07                 326000.0         -3.870000e-07         0.007012   \n",
       "\n",
       "      output  \n",
       "0  corrosion  \n",
       "1  corrosion  \n",
       "2  corrosion  \n",
       "3  corrosion  \n",
       "4  corrosion  "
      ],
      "text/html": [
       "<div>\n",
       "<style scoped>\n",
       "    .dataframe tbody tr th:only-of-type {\n",
       "        vertical-align: middle;\n",
       "    }\n",
       "\n",
       "    .dataframe tbody tr th {\n",
       "        vertical-align: top;\n",
       "    }\n",
       "\n",
       "    .dataframe thead th {\n",
       "        text-align: right;\n",
       "    }\n",
       "</style>\n",
       "<table border=\"1\" class=\"dataframe\">\n",
       "  <thead>\n",
       "    <tr style=\"text-align: right;\">\n",
       "      <th></th>\n",
       "      <th>time1</th>\n",
       "      <th>accoustic_emmision_data</th>\n",
       "      <th>electrochemical_data</th>\n",
       "      <th>mechanical_data</th>\n",
       "      <th>output</th>\n",
       "    </tr>\n",
       "  </thead>\n",
       "  <tbody>\n",
       "    <tr>\n",
       "      <th>0</th>\n",
       "      <td>0.01</td>\n",
       "      <td>1640000.0</td>\n",
       "      <td>-4.850000e-07</td>\n",
       "      <td>0.007012</td>\n",
       "      <td>corrosion</td>\n",
       "    </tr>\n",
       "    <tr>\n",
       "      <th>1</th>\n",
       "      <td>0.03</td>\n",
       "      <td>312000.0</td>\n",
       "      <td>-3.140000e-07</td>\n",
       "      <td>0.007012</td>\n",
       "      <td>corrosion</td>\n",
       "    </tr>\n",
       "    <tr>\n",
       "      <th>2</th>\n",
       "      <td>0.04</td>\n",
       "      <td>313000.0</td>\n",
       "      <td>-5.280000e-07</td>\n",
       "      <td>0.007012</td>\n",
       "      <td>corrosion</td>\n",
       "    </tr>\n",
       "    <tr>\n",
       "      <th>3</th>\n",
       "      <td>0.06</td>\n",
       "      <td>320000.0</td>\n",
       "      <td>-4.820000e-07</td>\n",
       "      <td>0.007012</td>\n",
       "      <td>corrosion</td>\n",
       "    </tr>\n",
       "    <tr>\n",
       "      <th>4</th>\n",
       "      <td>0.07</td>\n",
       "      <td>326000.0</td>\n",
       "      <td>-3.870000e-07</td>\n",
       "      <td>0.007012</td>\n",
       "      <td>corrosion</td>\n",
       "    </tr>\n",
       "  </tbody>\n",
       "</table>\n",
       "</div>"
      ]
     },
     "execution_count": 95,
     "metadata": {},
     "output_type": "execute_result"
    }
   ],
   "execution_count": 95
  },
  {
   "metadata": {},
   "cell_type": "markdown",
   "source": "### Concatinating N1, N2 and, N3",
   "id": "6085273301d5538b"
  },
  {
   "metadata": {
    "ExecuteTime": {
     "end_time": "2025-09-19T14:00:45.699093Z",
     "start_time": "2025-09-19T14:00:45.668783Z"
    }
   },
   "cell_type": "code",
   "source": [
    "df_corrosion_concat = pd.concat([cleaned_n1, cleaned_n2, cleaned_n3])\n",
    "df_corrosion_concat.isnull().sum(), df_corrosion_concat.shape"
   ],
   "id": "6b7f1da6cf2ec8f8",
   "outputs": [
    {
     "data": {
      "text/plain": [
       "(time1                      0\n",
       " accoustic_emmision_data    0\n",
       " electrochemical_data       0\n",
       " mechanical_data            0\n",
       " dtype: int64,\n",
       " (527990, 4))"
      ]
     },
     "execution_count": 80,
     "metadata": {},
     "output_type": "execute_result"
    }
   ],
   "execution_count": 80
  },
  {
   "metadata": {
    "ExecuteTime": {
     "end_time": "2025-09-19T15:33:17.289199Z",
     "start_time": "2025-09-19T15:33:17.272746Z"
    }
   },
   "cell_type": "code",
   "source": "df_corrosion_concat['output'] = 'corrosion'",
   "id": "a58723263c9328fc",
   "outputs": [],
   "execution_count": 91
  },
  {
   "metadata": {
    "ExecuteTime": {
     "end_time": "2025-09-19T15:33:19.802879Z",
     "start_time": "2025-09-19T15:33:19.140028Z"
    }
   },
   "cell_type": "code",
   "source": "df_corrosion_concat.to_csv('dataset/corrosion_concat.csv', index=False)",
   "id": "d3afeb6911053cdb",
   "outputs": [],
   "execution_count": 92
  },
  {
   "metadata": {},
   "cell_type": "code",
   "outputs": [],
   "execution_count": null,
   "source": [
    "import matplotlib.pyplot as plt\n",
    "import seaborn as sns"
   ],
   "id": "6ef856c1359ab992"
  },
  {
   "metadata": {
    "ExecuteTime": {
     "end_time": "2025-09-19T14:03:42.995626Z",
     "start_time": "2025-09-19T14:03:02.214485Z"
    }
   },
   "cell_type": "code",
   "source": [
    "num_plots = 3\n",
    "num_cols = 2  # Number of plots per row\n",
    "num_rows = (num_plots + num_cols - 1) // num_cols  # Calculate the number of rows needed\n",
    "\n",
    "fig, axes = plt.subplots(num_rows, num_cols, figsize=(5 * num_cols, 5 * num_rows))  # Adjust the figure size as needed\n",
    "axes = axes.flatten()  # Flatten the axes array for easier indexing\n",
    "\n",
    "for i, col in enumerate(['accoustic_emmision_data', 'electrochemical_data','mechanical_data']):\n",
    "    sns.histplot(df_corrosion_concat[col], ax=axes[i])\n",
    "    axes[i].set_title(col)  # Set the title to the name of the variable\n",
    "\n",
    "# If there are any empty plots (if the number of plots isn't a perfect multiple of num_cols), hide the axes\n",
    "for j in range(i + 1, num_rows * num_cols):\n",
    "    axes[j].axis('off')\n",
    "\n",
    "plt.tight_layout()\n",
    "plt.show()"
   ],
   "id": "f704d8ae4018dd05",
   "outputs": [
    {
     "data": {
      "text/plain": [
       "<Figure size 1000x1000 with 4 Axes>"
      ],
      "image/png": "[encoded data removed]"
     },
     "metadata": {},
     "output_type": "display_data"
    }
   ],
   "execution_count": 87
  },
  {
   "metadata": {
    "ExecuteTime": {
     "end_time": "2025-09-19T14:01:40.995910Z",
     "start_time": "2025-09-19T14:01:38.852393Z"
    }
   },
   "cell_type": "code",
   "source": [
    "num_plots = 3\n",
    "num_cols = 2  # Number of plots per row\n",
    "num_rows = (num_plots + num_cols - 1) // num_cols  # Calculate the number of rows needed\n",
    "\n",
    "fig, axes = plt.subplots(num_rows, num_cols, figsize=(5 * num_cols, 5 * num_rows))  # Adjust the figure size as needed\n",
    "axes = axes.flatten()  # Flatten the axes array for easier indexing\n",
    "\n",
    "for i, col in enumerate(['accoustic_emmision_data', 'electrochemical_data','mechanical_data']):\n",
    "    sns.histplot(cleaned_n1[col], ax=axes[i])\n",
    "    axes[i].set_title(col)  # Set the title to the name of the variable\n",
    "\n",
    "# If there are any empty plots (if the number of plots isn't a perfect multiple of num_cols), hide the axes\n",
    "for j in range(i + 1, num_rows * num_cols):\n",
    "    axes[j].axis('off')\n",
    "\n",
    "plt.tight_layout()\n",
    "plt.show()"
   ],
   "id": "42af478bd8be1536",
   "outputs": [
    {
     "data": {
      "text/plain": [
       "<Figure size 1000x1000 with 4 Axes>"
      ],
      "image/png": "[encoded data removed]"
     },
     "metadata": {},
     "output_type": "display_data"
    }
   ],
   "execution_count": 84
  },
  {
   "metadata": {
    "ExecuteTime": {
     "end_time": "2025-09-19T14:01:58.818411Z",
     "start_time": "2025-09-19T14:01:58.008202Z"
    }
   },
   "cell_type": "code",
   "source": [
    "num_plots = 3\n",
    "num_cols = 2  # Number of plots per row\n",
    "num_rows = (num_plots + num_cols - 1) // num_cols  # Calculate the number of rows needed\n",
    "\n",
    "fig, axes = plt.subplots(num_rows, num_cols, figsize=(5 * num_cols, 5 * num_rows))  # Adjust the figure size as needed\n",
    "axes = axes.flatten()  # Flatten the axes array for easier indexing\n",
    "\n",
    "for i, col in enumerate(['accoustic_emmision_data', 'electrochemical_data','mechanical_data']):\n",
    "    sns.histplot(cleaned_n2[col], ax=axes[i])\n",
    "    axes[i].set_title(col)  # Set the title to the name of the variable\n",
    "\n",
    "# If there are any empty plots (if the number of plots isn't a perfect multiple of num_cols), hide the axes\n",
    "for j in range(i + 1, num_rows * num_cols):\n",
    "    axes[j].axis('off')\n",
    "\n",
    "plt.tight_layout()\n",
    "plt.show()"
   ],
   "id": "8501def3f5cd87cb",
   "outputs": [
    {
     "data": {
      "text/plain": [
       "<Figure size 1000x1000 with 4 Axes>"
      ],
      "image/png": "[encoded data removed]"
     },
     "metadata": {},
     "output_type": "display_data"
    }
   ],
   "execution_count": 85
  },
  {
   "metadata": {
    "ExecuteTime": {
     "end_time": "2025-09-19T14:02:07.600366Z",
     "start_time": "2025-09-19T14:02:06.645227Z"
    }
   },
   "cell_type": "code",
   "source": [
    "num_plots = 3\n",
    "num_cols = 2  # Number of plots per row\n",
    "num_rows = (num_plots + num_cols - 1) // num_cols  # Calculate the number of rows needed\n",
    "\n",
    "fig, axes = plt.subplots(num_rows, num_cols, figsize=(5 * num_cols, 5 * num_rows))  # Adjust the figure size as needed\n",
    "axes = axes.flatten()  # Flatten the axes array for easier indexing\n",
    "\n",
    "for i, col in enumerate(['accoustic_emmision_data', 'electrochemical_data','mechanical_data']):\n",
    "    sns.histplot(cleaned_n3[col], ax=axes[i])\n",
    "    axes[i].set_title(col)  # Set the title to the name of the variable\n",
    "\n",
    "# If there are any empty plots (if the number of plots isn't a perfect multiple of num_cols), hide the axes\n",
    "for j in range(i + 1, num_rows * num_cols):\n",
    "    axes[j].axis('off')\n",
    "\n",
    "plt.tight_layout()\n",
    "plt.show()"
   ],
   "id": "7205b24e04af3aa3",
   "outputs": [
    {
     "data": {
      "text/plain": [
       "<Figure size 1000x1000 with 4 Axes>"
      ],
      "image/png": "[encoded data removed]"
     },
     "metadata": {},
     "output_type": "display_data"
    }
   ],
   "execution_count": 86
  },
  {
   "metadata": {},
   "cell_type": "code",
   "outputs": [],
   "execution_count": null,
   "source": "",
   "id": "a8bec00cb63d6a72"
  }
 ],
 "metadata": {
  "kernelspec": {
   "display_name": "Python 3",
   "language": "python",
   "name": "python3"
  },
  "language_info": {
   "codemirror_mode": {
    "name": "ipython",
    "version": 2
   },
   "file_extension": ".py",
   "mimetype": "text/x-python",
   "name": "python",
   "nbconvert_exporter": "python",
   "pygments_lexer": "ipython2",
   "version": "2.7.6"
  }
 },
 "nbformat": 4,
 "nbformat_minor": 5
}
