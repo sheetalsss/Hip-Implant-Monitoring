{
 "cells": [
  {
   "cell_type": "code",
   "id": "initial_id",
   "metadata": {
    "collapsed": true,
    "ExecuteTime": {
     "end_time": "2025-09-19T14:33:11.538726Z",
     "start_time": "2025-09-19T14:33:11.535819Z"
    }
   },
   "source": "import pandas as pd",
   "outputs": [],
   "execution_count": 57
  },
  {
   "metadata": {
    "ExecuteTime": {
     "end_time": "2025-09-19T14:33:12.651951Z",
     "start_time": "2025-09-19T14:33:11.545636Z"
    }
   },
   "cell_type": "code",
   "source": [
    "df_cathodic_n1 = pd.read_csv('dataset/copy_of_original_data/copy_cathodic_N1.csv')\n",
    "df_cathodic_n2 = pd.read_csv('dataset/copy_of_original_data/copy_cathodic_N2.csv')\n",
    "df_cathodic_n3 = pd.read_csv('dataset/copy_of_original_data/copy_cathodic_N3.csv')"
   ],
   "id": "ca2834ea1a9cdc51",
   "outputs": [
    {
     "name": "stderr",
     "output_type": "stream",
     "text": [
      "/var/folders/0l/p2_v2ssd19s30xk4x88_7cy00000gn/T/ipykernel_5693/1540722125.py:1: DtypeWarning: Columns (0,1,3,4,6,7) have mixed types. Specify dtype option on import or set low_memory=False.\n",
      "  df_cathodic_n1 = pd.read_csv('dataset/copy_of_original_data/copy_cathodic_N1.csv')\n",
      "/var/folders/0l/p2_v2ssd19s30xk4x88_7cy00000gn/T/ipykernel_5693/1540722125.py:2: DtypeWarning: Columns (0,1,3,4,6,7) have mixed types. Specify dtype option on import or set low_memory=False.\n",
      "  df_cathodic_n2 = pd.read_csv('dataset/copy_of_original_data/copy_cathodic_N2.csv')\n",
      "/var/folders/0l/p2_v2ssd19s30xk4x88_7cy00000gn/T/ipykernel_5693/1540722125.py:3: DtypeWarning: Columns (0,1,3,4,6,7) have mixed types. Specify dtype option on import or set low_memory=False.\n",
      "  df_cathodic_n3 = pd.read_csv('dataset/copy_of_original_data/copy_cathodic_N3.csv')\n"
     ]
    }
   ],
   "execution_count": 58
  },
  {
   "metadata": {
    "ExecuteTime": {
     "end_time": "2025-09-19T14:33:12.660357Z",
     "start_time": "2025-09-19T14:33:12.655948Z"
    }
   },
   "cell_type": "code",
   "source": "df_cathodic_n1.columns",
   "id": "1ddc72c6d3305501",
   "outputs": [
    {
     "data": {
      "text/plain": [
       "Index(['Input A (Acoustic Emission Data)', 'Unnamed: 1', 'Unnamed: 2',\n",
       "       'Input B (Electrochemical Data)', 'Unnamed: 4', 'Unnamed: 5',\n",
       "       'Input C (Mechanical Data)', 'Unnamed: 7', 'Unnamed: 8',\n",
       "       'Output D (Cathodic Condition) ?'],\n",
       "      dtype='object')"
      ]
     },
     "execution_count": 59,
     "metadata": {},
     "output_type": "execute_result"
    }
   ],
   "execution_count": 59
  },
  {
   "metadata": {
    "ExecuteTime": {
     "end_time": "2025-09-19T14:33:12.668629Z",
     "start_time": "2025-09-19T14:33:12.666364Z"
    }
   },
   "cell_type": "code",
   "source": "df_cathodic_n2.columns",
   "id": "10dff3b234738f7c",
   "outputs": [
    {
     "data": {
      "text/plain": [
       "Index(['Input A (Acoustic Emission Data)', 'Unnamed: 1', 'Unnamed: 2',\n",
       "       'Input B (Electrochemical Data)', 'Unnamed: 4', 'Unnamed: 5',\n",
       "       'Input C (Mechanical Data)', 'Unnamed: 7', 'Unnamed: 8',\n",
       "       'Output D (Cathodic Condition) ?'],\n",
       "      dtype='object')"
      ]
     },
     "execution_count": 60,
     "metadata": {},
     "output_type": "execute_result"
    }
   ],
   "execution_count": 60
  },
  {
   "metadata": {
    "ExecuteTime": {
     "end_time": "2025-09-19T14:33:12.678501Z",
     "start_time": "2025-09-19T14:33:12.675524Z"
    }
   },
   "cell_type": "code",
   "source": "df_cathodic_n3.columns",
   "id": "3f562b61ae0ff26e",
   "outputs": [
    {
     "data": {
      "text/plain": [
       "Index(['Input A (Acoustic Emission Data)', 'Unnamed: 1', 'Unnamed: 2',\n",
       "       'Input B (Electrochemical Data)', 'Unnamed: 4', 'Unnamed: 5',\n",
       "       'Input C (Mechanical Data)', 'Unnamed: 7', 'Unnamed: 8',\n",
       "       'Output D (Cathodic Condition) ?'],\n",
       "      dtype='object')"
      ]
     },
     "execution_count": 61,
     "metadata": {},
     "output_type": "execute_result"
    }
   ],
   "execution_count": 61
  },
  {
   "metadata": {
    "ExecuteTime": {
     "end_time": "2025-09-19T14:33:12.715232Z",
     "start_time": "2025-09-19T14:33:12.684344Z"
    }
   },
   "cell_type": "code",
   "source": [
    "df_cathodic_n1.drop(columns=['Unnamed: 2', 'Unnamed: 5', 'Unnamed: 8'], axis=1, inplace=True)\n",
    "df_cathodic_n1 = df_cathodic_n1.rename(columns={\n",
    "    'Input A (Acoustic Emission Data)' : 'time1',\n",
    "    'Input B (Electrochemical Data)' : 'time2',\n",
    "    'Input C (Mechanical Data)' : 'time3',\n",
    "    'Unnamed: 1' : 'accoustic_emmision_data',\n",
    "    'Unnamed: 4' : 'electrochemical_data',\n",
    "    'Unnamed: 7' : 'mechanical_data',\n",
    "    'Output D (Cathodic Condition) ?':'output'\n",
    "})\n",
    "df_cathodic_n1.columns"
   ],
   "id": "db19b5a421b4690b",
   "outputs": [
    {
     "data": {
      "text/plain": [
       "Index(['time1', 'accoustic_emmision_data', 'time2', 'electrochemical_data',\n",
       "       'time3', 'mechanical_data', 'output'],\n",
       "      dtype='object')"
      ]
     },
     "execution_count": 62,
     "metadata": {},
     "output_type": "execute_result"
    }
   ],
   "execution_count": 62
  },
  {
   "metadata": {
    "ExecuteTime": {
     "end_time": "2025-09-19T14:33:12.744010Z",
     "start_time": "2025-09-19T14:33:12.718492Z"
    }
   },
   "cell_type": "code",
   "source": [
    "df_cathodic_n2.drop(columns=['Unnamed: 2', 'Unnamed: 5', 'Unnamed: 8'], axis=1, inplace=True)\n",
    "df_cathodic_n2 = df_cathodic_n2.rename(columns={\n",
    "    'Input A (Acoustic Emission Data)' : 'time1',\n",
    "    'Input B (Electrochemical Data)' : 'time2',\n",
    "    'Input C (Mechanical Data)' : 'time3',\n",
    "    'Unnamed: 1' : 'accoustic_emmision_data',\n",
    "    'Unnamed: 4' : 'electrochemical_data',\n",
    "    'Unnamed: 7' : 'mechanical_data',\n",
    "    'Output D (Cathodic Condition) ?':'output'\n",
    "})\n",
    "df_cathodic_n2.columns"
   ],
   "id": "f0b54acaaee19cbf",
   "outputs": [
    {
     "data": {
      "text/plain": [
       "Index(['time1', 'accoustic_emmision_data', 'time2', 'electrochemical_data',\n",
       "       'time3', 'mechanical_data', 'output'],\n",
       "      dtype='object')"
      ]
     },
     "execution_count": 63,
     "metadata": {},
     "output_type": "execute_result"
    }
   ],
   "execution_count": 63
  },
  {
   "metadata": {
    "ExecuteTime": {
     "end_time": "2025-09-19T14:33:12.771026Z",
     "start_time": "2025-09-19T14:33:12.748174Z"
    }
   },
   "cell_type": "code",
   "source": [
    "df_cathodic_n3.drop(columns=['Unnamed: 2', 'Unnamed: 5', 'Unnamed: 8'], axis=1, inplace=True)\n",
    "df_cathodic_n3 = df_cathodic_n3.rename(columns={\n",
    "    'Input A (Acoustic Emission Data)' : 'time1',\n",
    "    'Input B (Electrochemical Data)' : 'time2',\n",
    "    'Input C (Mechanical Data)' : 'time3',\n",
    "    'Unnamed: 1' : 'accoustic_emmision_data',\n",
    "    'Unnamed: 4' : 'electrochemical_data',\n",
    "    'Unnamed: 7' : 'mechanical_data',\n",
    "    'Output D (Cathodic Condition) ?':'output'\n",
    "})\n",
    "df_cathodic_n3.columns"
   ],
   "id": "b453b57404afe465",
   "outputs": [
    {
     "data": {
      "text/plain": [
       "Index(['time1', 'accoustic_emmision_data', 'time2', 'electrochemical_data',\n",
       "       'time3', 'mechanical_data', 'output'],\n",
       "      dtype='object')"
      ]
     },
     "execution_count": 64,
     "metadata": {},
     "output_type": "execute_result"
    }
   ],
   "execution_count": 64
  },
  {
   "metadata": {
    "ExecuteTime": {
     "end_time": "2025-09-19T14:33:12.781218Z",
     "start_time": "2025-09-19T14:33:12.774927Z"
    }
   },
   "cell_type": "code",
   "source": [
    "df_cathodic_n1.output = 'cathodic'\n",
    "df_cathodic_n2.output = 'cathodic'\n",
    "df_cathodic_n3.output = 'cathodic'"
   ],
   "id": "c752cd26b4fe29c6",
   "outputs": [],
   "execution_count": 65
  },
  {
   "metadata": {},
   "cell_type": "markdown",
   "source": "### Cathodic set N1 data cleaning",
   "id": "6f6094bc44b9905"
  },
  {
   "metadata": {
    "ExecuteTime": {
     "end_time": "2025-09-19T14:33:12.865196Z",
     "start_time": "2025-09-19T14:33:12.784624Z"
    }
   },
   "cell_type": "code",
   "source": [
    "df_temp = df_cathodic_n1[~df_cathodic_n1['accoustic_emmision_data'].isnull()]\n",
    "df_temp = df_temp[df_temp['electrochemical_data'].notnull()]\n",
    "df_temp = df_temp[df_temp['mechanical_data'].notnull()]\n",
    "df_temp = df_temp.iloc[2:].reset_index(drop=True)\n",
    "df_temp.isnull().sum(), df_temp.shape"
   ],
   "id": "31faf597c7f242dd",
   "outputs": [
    {
     "data": {
      "text/plain": [
       "(time1                      0\n",
       " accoustic_emmision_data    0\n",
       " time2                      0\n",
       " electrochemical_data       0\n",
       " time3                      0\n",
       " mechanical_data            0\n",
       " output                     0\n",
       " dtype: int64,\n",
       " (247651, 7))"
      ]
     },
     "execution_count": 66,
     "metadata": {},
     "output_type": "execute_result"
    }
   ],
   "execution_count": 66
  },
  {
   "metadata": {
    "ExecuteTime": {
     "end_time": "2025-09-19T14:33:12.948162Z",
     "start_time": "2025-09-19T14:33:12.873289Z"
    }
   },
   "cell_type": "code",
   "source": [
    "cols = ['time1', 'accoustic_emmision_data', 'time2', 'electrochemical_data',\n",
    "       'time3', 'mechanical_data']\n",
    "for col in cols:\n",
    "    df_temp[col] = pd.to_numeric(df_temp[col], errors='coerce')\n",
    "df_temp.shape"
   ],
   "id": "f1cbe48ece9882cc",
   "outputs": [
    {
     "data": {
      "text/plain": [
       "(247651, 7)"
      ]
     },
     "execution_count": 67,
     "metadata": {},
     "output_type": "execute_result"
    }
   ],
   "execution_count": 67
  },
  {
   "metadata": {
    "ExecuteTime": {
     "end_time": "2025-09-19T14:33:12.964948Z",
     "start_time": "2025-09-19T14:33:12.951471Z"
    }
   },
   "cell_type": "code",
   "source": [
    "df_temp = df_temp[df_temp['accoustic_emmision_data'].notnull()]\n",
    "df_temp.isnull().sum()"
   ],
   "id": "94ae4f61a080c9c5",
   "outputs": [
    {
     "data": {
      "text/plain": [
       "time1                      0\n",
       "accoustic_emmision_data    0\n",
       "time2                      0\n",
       "electrochemical_data       0\n",
       "time3                      0\n",
       "mechanical_data            0\n",
       "output                     0\n",
       "dtype: int64"
      ]
     },
     "execution_count": 68,
     "metadata": {},
     "output_type": "execute_result"
    }
   ],
   "execution_count": 68
  },
  {
   "metadata": {
    "ExecuteTime": {
     "end_time": "2025-09-19T14:33:12.975082Z",
     "start_time": "2025-09-19T14:33:12.971917Z"
    }
   },
   "cell_type": "code",
   "source": [
    "time_cols = ['time1','time2','time3']\n",
    "for col in time_cols:\n",
    "    df_temp[col] = round(df_temp[col], 2)"
   ],
   "id": "8fa4cd031dd3fa7",
   "outputs": [],
   "execution_count": 69
  },
  {
   "metadata": {
    "ExecuteTime": {
     "end_time": "2025-09-19T14:33:12.980998Z",
     "start_time": "2025-09-19T14:33:12.977192Z"
    }
   },
   "cell_type": "code",
   "source": [
    "df_time1 = df_temp[['time1', 'accoustic_emmision_data']]\n",
    "df_time2 = df_temp[['time2', 'electrochemical_data']]\n",
    "df_time3 = df_temp[['time3', 'mechanical_data']]"
   ],
   "id": "e4afca9af2eb351e",
   "outputs": [],
   "execution_count": 70
  },
  {
   "metadata": {
    "ExecuteTime": {
     "end_time": "2025-09-19T14:33:13.004770Z",
     "start_time": "2025-09-19T14:33:12.983609Z"
    }
   },
   "cell_type": "code",
   "source": "df_time3.sort_values(by='time3')",
   "id": "893a9af17e1ba642",
   "outputs": [
    {
     "data": {
      "text/plain": [
       "          time3  mechanical_data\n",
       "0          0.06         0.040518\n",
       "1          0.07         0.040518\n",
       "2          0.09         0.040482\n",
       "3          0.10         0.040482\n",
       "4          0.12         0.040482\n",
       "...         ...              ...\n",
       "247646  3684.91         0.177410\n",
       "247647  3684.93         0.177410\n",
       "247648  3684.94         0.177410\n",
       "247649  3684.96         0.177410\n",
       "247650  3684.97         0.177361\n",
       "\n",
       "[247651 rows x 2 columns]"
      ],
      "text/html": [
       "<div>\n",
       "<style scoped>\n",
       "    .dataframe tbody tr th:only-of-type {\n",
       "        vertical-align: middle;\n",
       "    }\n",
       "\n",
       "    .dataframe tbody tr th {\n",
       "        vertical-align: top;\n",
       "    }\n",
       "\n",
       "    .dataframe thead th {\n",
       "        text-align: right;\n",
       "    }\n",
       "</style>\n",
       "<table border=\"1\" class=\"dataframe\">\n",
       "  <thead>\n",
       "    <tr style=\"text-align: right;\">\n",
       "      <th></th>\n",
       "      <th>time3</th>\n",
       "      <th>mechanical_data</th>\n",
       "    </tr>\n",
       "  </thead>\n",
       "  <tbody>\n",
       "    <tr>\n",
       "      <th>0</th>\n",
       "      <td>0.06</td>\n",
       "      <td>0.040518</td>\n",
       "    </tr>\n",
       "    <tr>\n",
       "      <th>1</th>\n",
       "      <td>0.07</td>\n",
       "      <td>0.040518</td>\n",
       "    </tr>\n",
       "    <tr>\n",
       "      <th>2</th>\n",
       "      <td>0.09</td>\n",
       "      <td>0.040482</td>\n",
       "    </tr>\n",
       "    <tr>\n",
       "      <th>3</th>\n",
       "      <td>0.10</td>\n",
       "      <td>0.040482</td>\n",
       "    </tr>\n",
       "    <tr>\n",
       "      <th>4</th>\n",
       "      <td>0.12</td>\n",
       "      <td>0.040482</td>\n",
       "    </tr>\n",
       "    <tr>\n",
       "      <th>...</th>\n",
       "      <td>...</td>\n",
       "      <td>...</td>\n",
       "    </tr>\n",
       "    <tr>\n",
       "      <th>247646</th>\n",
       "      <td>3684.91</td>\n",
       "      <td>0.177410</td>\n",
       "    </tr>\n",
       "    <tr>\n",
       "      <th>247647</th>\n",
       "      <td>3684.93</td>\n",
       "      <td>0.177410</td>\n",
       "    </tr>\n",
       "    <tr>\n",
       "      <th>247648</th>\n",
       "      <td>3684.94</td>\n",
       "      <td>0.177410</td>\n",
       "    </tr>\n",
       "    <tr>\n",
       "      <th>247649</th>\n",
       "      <td>3684.96</td>\n",
       "      <td>0.177410</td>\n",
       "    </tr>\n",
       "    <tr>\n",
       "      <th>247650</th>\n",
       "      <td>3684.97</td>\n",
       "      <td>0.177361</td>\n",
       "    </tr>\n",
       "  </tbody>\n",
       "</table>\n",
       "<p>247651 rows × 2 columns</p>\n",
       "</div>"
      ]
     },
     "execution_count": 71,
     "metadata": {},
     "output_type": "execute_result"
    }
   ],
   "execution_count": 71
  },
  {
   "metadata": {
    "ExecuteTime": {
     "end_time": "2025-09-19T14:33:13.025724Z",
     "start_time": "2025-09-19T14:33:13.008012Z"
    }
   },
   "cell_type": "code",
   "source": [
    "df_time_temp = df_time1.merge(df_time2, left_on='time1', right_on='time2')\n",
    "df_time_temp.shape"
   ],
   "id": "c55e113266bbdad9",
   "outputs": [
    {
     "data": {
      "text/plain": [
       "(202903, 4)"
      ]
     },
     "execution_count": 72,
     "metadata": {},
     "output_type": "execute_result"
    }
   ],
   "execution_count": 72
  },
  {
   "metadata": {
    "ExecuteTime": {
     "end_time": "2025-09-19T14:33:13.069326Z",
     "start_time": "2025-09-19T14:33:13.029976Z"
    }
   },
   "cell_type": "code",
   "source": [
    "df_time_temp = df_time_temp[['time1', 'accoustic_emmision_data', 'electrochemical_data']]\n",
    "df_time_temp_1 = df_time_temp.merge(df_time3, left_on='time1', right_on='time3')\n",
    "df_time_temp_1.shape, df_time_temp_1.isnull().sum()"
   ],
   "id": "bd597acb0064b7b",
   "outputs": [
    {
     "data": {
      "text/plain": [
       "((136749, 5),\n",
       " time1                      0\n",
       " accoustic_emmision_data    0\n",
       " electrochemical_data       0\n",
       " time3                      0\n",
       " mechanical_data            0\n",
       " dtype: int64)"
      ]
     },
     "execution_count": 73,
     "metadata": {},
     "output_type": "execute_result"
    }
   ],
   "execution_count": 73
  },
  {
   "metadata": {
    "ExecuteTime": {
     "end_time": "2025-09-19T14:33:13.081235Z",
     "start_time": "2025-09-19T14:33:13.073982Z"
    }
   },
   "cell_type": "code",
   "source": "df_time_temp_1.head(10)",
   "id": "fe1beea4e6047856",
   "outputs": [
    {
     "data": {
      "text/plain": [
       "   time1  accoustic_emmision_data  electrochemical_data  time3  \\\n",
       "0   0.06                  80700.0             -0.000007   0.06   \n",
       "1   0.07                  68300.0             -0.000007   0.07   \n",
       "2   0.09                  58400.0             -0.000007   0.09   \n",
       "3   0.10                  56900.0             -0.000007   0.10   \n",
       "4   0.12                  56200.0             -0.000007   0.12   \n",
       "5   0.13                  56500.0             -0.000007   0.13   \n",
       "6   0.14                  57200.0             -0.000007   0.14   \n",
       "7   0.16                  63500.0             -0.000006   0.16   \n",
       "8   0.18                  89400.0             -0.000006   0.18   \n",
       "9   0.19                 119000.0             -0.000006   0.19   \n",
       "\n",
       "   mechanical_data  \n",
       "0         0.040518  \n",
       "1         0.040518  \n",
       "2         0.040482  \n",
       "3         0.040482  \n",
       "4         0.040482  \n",
       "5         0.040482  \n",
       "6         0.040458  \n",
       "7         0.040458  \n",
       "8         0.040458  \n",
       "9         0.040458  "
      ],
      "text/html": [
       "<div>\n",
       "<style scoped>\n",
       "    .dataframe tbody tr th:only-of-type {\n",
       "        vertical-align: middle;\n",
       "    }\n",
       "\n",
       "    .dataframe tbody tr th {\n",
       "        vertical-align: top;\n",
       "    }\n",
       "\n",
       "    .dataframe thead th {\n",
       "        text-align: right;\n",
       "    }\n",
       "</style>\n",
       "<table border=\"1\" class=\"dataframe\">\n",
       "  <thead>\n",
       "    <tr style=\"text-align: right;\">\n",
       "      <th></th>\n",
       "      <th>time1</th>\n",
       "      <th>accoustic_emmision_data</th>\n",
       "      <th>electrochemical_data</th>\n",
       "      <th>time3</th>\n",
       "      <th>mechanical_data</th>\n",
       "    </tr>\n",
       "  </thead>\n",
       "  <tbody>\n",
       "    <tr>\n",
       "      <th>0</th>\n",
       "      <td>0.06</td>\n",
       "      <td>80700.0</td>\n",
       "      <td>-0.000007</td>\n",
       "      <td>0.06</td>\n",
       "      <td>0.040518</td>\n",
       "    </tr>\n",
       "    <tr>\n",
       "      <th>1</th>\n",
       "      <td>0.07</td>\n",
       "      <td>68300.0</td>\n",
       "      <td>-0.000007</td>\n",
       "      <td>0.07</td>\n",
       "      <td>0.040518</td>\n",
       "    </tr>\n",
       "    <tr>\n",
       "      <th>2</th>\n",
       "      <td>0.09</td>\n",
       "      <td>58400.0</td>\n",
       "      <td>-0.000007</td>\n",
       "      <td>0.09</td>\n",
       "      <td>0.040482</td>\n",
       "    </tr>\n",
       "    <tr>\n",
       "      <th>3</th>\n",
       "      <td>0.10</td>\n",
       "      <td>56900.0</td>\n",
       "      <td>-0.000007</td>\n",
       "      <td>0.10</td>\n",
       "      <td>0.040482</td>\n",
       "    </tr>\n",
       "    <tr>\n",
       "      <th>4</th>\n",
       "      <td>0.12</td>\n",
       "      <td>56200.0</td>\n",
       "      <td>-0.000007</td>\n",
       "      <td>0.12</td>\n",
       "      <td>0.040482</td>\n",
       "    </tr>\n",
       "    <tr>\n",
       "      <th>5</th>\n",
       "      <td>0.13</td>\n",
       "      <td>56500.0</td>\n",
       "      <td>-0.000007</td>\n",
       "      <td>0.13</td>\n",
       "      <td>0.040482</td>\n",
       "    </tr>\n",
       "    <tr>\n",
       "      <th>6</th>\n",
       "      <td>0.14</td>\n",
       "      <td>57200.0</td>\n",
       "      <td>-0.000007</td>\n",
       "      <td>0.14</td>\n",
       "      <td>0.040458</td>\n",
       "    </tr>\n",
       "    <tr>\n",
       "      <th>7</th>\n",
       "      <td>0.16</td>\n",
       "      <td>63500.0</td>\n",
       "      <td>-0.000006</td>\n",
       "      <td>0.16</td>\n",
       "      <td>0.040458</td>\n",
       "    </tr>\n",
       "    <tr>\n",
       "      <th>8</th>\n",
       "      <td>0.18</td>\n",
       "      <td>89400.0</td>\n",
       "      <td>-0.000006</td>\n",
       "      <td>0.18</td>\n",
       "      <td>0.040458</td>\n",
       "    </tr>\n",
       "    <tr>\n",
       "      <th>9</th>\n",
       "      <td>0.19</td>\n",
       "      <td>119000.0</td>\n",
       "      <td>-0.000006</td>\n",
       "      <td>0.19</td>\n",
       "      <td>0.040458</td>\n",
       "    </tr>\n",
       "  </tbody>\n",
       "</table>\n",
       "</div>"
      ]
     },
     "execution_count": 74,
     "metadata": {},
     "output_type": "execute_result"
    }
   ],
   "execution_count": 74
  },
  {
   "metadata": {
    "ExecuteTime": {
     "end_time": "2025-09-19T14:33:13.128749Z",
     "start_time": "2025-09-19T14:33:13.089765Z"
    }
   },
   "cell_type": "code",
   "source": [
    "cleaned_n1 = df_time_temp_1.copy()\n",
    "cleaned_n1 = cleaned_n1[['time1', 'accoustic_emmision_data', 'electrochemical_data', 'mechanical_data']]\n",
    "cleaned_n1.head()"
   ],
   "id": "c8c7e555de89fa2d",
   "outputs": [
    {
     "data": {
      "text/plain": [
       "   time1  accoustic_emmision_data  electrochemical_data  mechanical_data\n",
       "0   0.06                  80700.0             -0.000007         0.040518\n",
       "1   0.07                  68300.0             -0.000007         0.040518\n",
       "2   0.09                  58400.0             -0.000007         0.040482\n",
       "3   0.10                  56900.0             -0.000007         0.040482\n",
       "4   0.12                  56200.0             -0.000007         0.040482"
      ],
      "text/html": [
       "<div>\n",
       "<style scoped>\n",
       "    .dataframe tbody tr th:only-of-type {\n",
       "        vertical-align: middle;\n",
       "    }\n",
       "\n",
       "    .dataframe tbody tr th {\n",
       "        vertical-align: top;\n",
       "    }\n",
       "\n",
       "    .dataframe thead th {\n",
       "        text-align: right;\n",
       "    }\n",
       "</style>\n",
       "<table border=\"1\" class=\"dataframe\">\n",
       "  <thead>\n",
       "    <tr style=\"text-align: right;\">\n",
       "      <th></th>\n",
       "      <th>time1</th>\n",
       "      <th>accoustic_emmision_data</th>\n",
       "      <th>electrochemical_data</th>\n",
       "      <th>mechanical_data</th>\n",
       "    </tr>\n",
       "  </thead>\n",
       "  <tbody>\n",
       "    <tr>\n",
       "      <th>0</th>\n",
       "      <td>0.06</td>\n",
       "      <td>80700.0</td>\n",
       "      <td>-0.000007</td>\n",
       "      <td>0.040518</td>\n",
       "    </tr>\n",
       "    <tr>\n",
       "      <th>1</th>\n",
       "      <td>0.07</td>\n",
       "      <td>68300.0</td>\n",
       "      <td>-0.000007</td>\n",
       "      <td>0.040518</td>\n",
       "    </tr>\n",
       "    <tr>\n",
       "      <th>2</th>\n",
       "      <td>0.09</td>\n",
       "      <td>58400.0</td>\n",
       "      <td>-0.000007</td>\n",
       "      <td>0.040482</td>\n",
       "    </tr>\n",
       "    <tr>\n",
       "      <th>3</th>\n",
       "      <td>0.10</td>\n",
       "      <td>56900.0</td>\n",
       "      <td>-0.000007</td>\n",
       "      <td>0.040482</td>\n",
       "    </tr>\n",
       "    <tr>\n",
       "      <th>4</th>\n",
       "      <td>0.12</td>\n",
       "      <td>56200.0</td>\n",
       "      <td>-0.000007</td>\n",
       "      <td>0.040482</td>\n",
       "    </tr>\n",
       "  </tbody>\n",
       "</table>\n",
       "</div>"
      ]
     },
     "execution_count": 75,
     "metadata": {},
     "output_type": "execute_result"
    }
   ],
   "execution_count": 75
  },
  {
   "metadata": {
    "ExecuteTime": {
     "end_time": "2025-09-20T15:39:01.028867Z",
     "start_time": "2025-09-20T15:39:00.840712Z"
    }
   },
   "cell_type": "code",
   "source": [
    "cleaned_n1['output'] = 'cathodic'\n",
    "cleaned_n1.to_csv('dataset/n1_n2_n3_cleaned/cathodic_N1.csv', index=False)"
   ],
   "id": "6677a02efe5626bf",
   "outputs": [],
   "execution_count": 102
  },
  {
   "metadata": {
    "ExecuteTime": {
     "end_time": "2025-09-20T15:39:11.317199Z",
     "start_time": "2025-09-20T15:39:11.311800Z"
    }
   },
   "cell_type": "code",
   "source": "cleaned_n1.head()",
   "id": "75ebe4b3f750e843",
   "outputs": [
    {
     "data": {
      "text/plain": [
       "   time1  accoustic_emmision_data  electrochemical_data  mechanical_data  \\\n",
       "0   0.06                  80700.0             -0.000007         0.040518   \n",
       "1   0.07                  68300.0             -0.000007         0.040518   \n",
       "2   0.09                  58400.0             -0.000007         0.040482   \n",
       "3   0.10                  56900.0             -0.000007         0.040482   \n",
       "4   0.12                  56200.0             -0.000007         0.040482   \n",
       "\n",
       "     output  \n",
       "0  cathodic  \n",
       "1  cathodic  \n",
       "2  cathodic  \n",
       "3  cathodic  \n",
       "4  cathodic  "
      ],
      "text/html": [
       "<div>\n",
       "<style scoped>\n",
       "    .dataframe tbody tr th:only-of-type {\n",
       "        vertical-align: middle;\n",
       "    }\n",
       "\n",
       "    .dataframe tbody tr th {\n",
       "        vertical-align: top;\n",
       "    }\n",
       "\n",
       "    .dataframe thead th {\n",
       "        text-align: right;\n",
       "    }\n",
       "</style>\n",
       "<table border=\"1\" class=\"dataframe\">\n",
       "  <thead>\n",
       "    <tr style=\"text-align: right;\">\n",
       "      <th></th>\n",
       "      <th>time1</th>\n",
       "      <th>accoustic_emmision_data</th>\n",
       "      <th>electrochemical_data</th>\n",
       "      <th>mechanical_data</th>\n",
       "      <th>output</th>\n",
       "    </tr>\n",
       "  </thead>\n",
       "  <tbody>\n",
       "    <tr>\n",
       "      <th>0</th>\n",
       "      <td>0.06</td>\n",
       "      <td>80700.0</td>\n",
       "      <td>-0.000007</td>\n",
       "      <td>0.040518</td>\n",
       "      <td>cathodic</td>\n",
       "    </tr>\n",
       "    <tr>\n",
       "      <th>1</th>\n",
       "      <td>0.07</td>\n",
       "      <td>68300.0</td>\n",
       "      <td>-0.000007</td>\n",
       "      <td>0.040518</td>\n",
       "      <td>cathodic</td>\n",
       "    </tr>\n",
       "    <tr>\n",
       "      <th>2</th>\n",
       "      <td>0.09</td>\n",
       "      <td>58400.0</td>\n",
       "      <td>-0.000007</td>\n",
       "      <td>0.040482</td>\n",
       "      <td>cathodic</td>\n",
       "    </tr>\n",
       "    <tr>\n",
       "      <th>3</th>\n",
       "      <td>0.10</td>\n",
       "      <td>56900.0</td>\n",
       "      <td>-0.000007</td>\n",
       "      <td>0.040482</td>\n",
       "      <td>cathodic</td>\n",
       "    </tr>\n",
       "    <tr>\n",
       "      <th>4</th>\n",
       "      <td>0.12</td>\n",
       "      <td>56200.0</td>\n",
       "      <td>-0.000007</td>\n",
       "      <td>0.040482</td>\n",
       "      <td>cathodic</td>\n",
       "    </tr>\n",
       "  </tbody>\n",
       "</table>\n",
       "</div>"
      ]
     },
     "execution_count": 103,
     "metadata": {},
     "output_type": "execute_result"
    }
   ],
   "execution_count": 103
  },
  {
   "metadata": {
    "ExecuteTime": {
     "end_time": "2025-09-19T14:33:24.167674Z",
     "start_time": "2025-09-19T14:33:13.132004Z"
    }
   },
   "cell_type": "code",
   "source": [
    "import seaborn as sns\n",
    "import matplotlib.pyplot as plt\n",
    "sns.lineplot(cleaned_n1, y='accoustic_emmision_data', x='mechanical_data')\n",
    "plt.show()"
   ],
   "id": "16975d6388ff995d",
   "outputs": [
    {
     "data": {
      "text/plain": [
       "<Figure size 640x480 with 1 Axes>"
      ],
      "image/png": "[encoded data removed]"
     },
     "metadata": {},
     "output_type": "display_data"
    }
   ],
   "execution_count": 76
  },
  {
   "metadata": {},
   "cell_type": "markdown",
   "source": "### Cathodic set N2 data cleaning",
   "id": "5842400c83045fbf"
  },
  {
   "metadata": {
    "ExecuteTime": {
     "end_time": "2025-09-19T14:33:24.255032Z",
     "start_time": "2025-09-19T14:33:24.171139Z"
    }
   },
   "cell_type": "code",
   "source": [
    "df_temp = df_cathodic_n2[~df_cathodic_n2['accoustic_emmision_data'].isnull()]\n",
    "df_temp = df_temp[df_temp['electrochemical_data'].notnull()]\n",
    "df_temp = df_temp[df_temp['mechanical_data'].notnull()]\n",
    "df_temp = df_temp.iloc[2:].reset_index(drop=True)\n",
    "df_temp.isnull().sum(), df_temp.shape"
   ],
   "id": "1e073ec0639a69b1",
   "outputs": [
    {
     "data": {
      "text/plain": [
       "(time1                      0\n",
       " accoustic_emmision_data    0\n",
       " time2                      0\n",
       " electrochemical_data       0\n",
       " time3                      0\n",
       " mechanical_data            0\n",
       " output                     0\n",
       " dtype: int64,\n",
       " (295322, 7))"
      ]
     },
     "execution_count": 77,
     "metadata": {},
     "output_type": "execute_result"
    }
   ],
   "execution_count": 77
  },
  {
   "metadata": {
    "ExecuteTime": {
     "end_time": "2025-09-19T14:33:24.340866Z",
     "start_time": "2025-09-19T14:33:24.258113Z"
    }
   },
   "cell_type": "code",
   "source": [
    "cols = ['time1', 'accoustic_emmision_data', 'time2', 'electrochemical_data',\n",
    "       'time3', 'mechanical_data']\n",
    "for col in cols:\n",
    "    df_temp[col] = pd.to_numeric(df_temp[col], errors='coerce')\n",
    "df_temp.shape"
   ],
   "id": "63d08bdb1fa87261",
   "outputs": [
    {
     "data": {
      "text/plain": [
       "(295322, 7)"
      ]
     },
     "execution_count": 78,
     "metadata": {},
     "output_type": "execute_result"
    }
   ],
   "execution_count": 78
  },
  {
   "metadata": {
    "ExecuteTime": {
     "end_time": "2025-09-19T14:33:24.365153Z",
     "start_time": "2025-09-19T14:33:24.351147Z"
    }
   },
   "cell_type": "code",
   "source": [
    "df_temp = df_temp[df_temp['accoustic_emmision_data'].notnull()]\n",
    "df_temp.isnull().sum()"
   ],
   "id": "deb805b2f465c06a",
   "outputs": [
    {
     "data": {
      "text/plain": [
       "time1                      0\n",
       "accoustic_emmision_data    0\n",
       "time2                      0\n",
       "electrochemical_data       0\n",
       "time3                      0\n",
       "mechanical_data            0\n",
       "output                     0\n",
       "dtype: int64"
      ]
     },
     "execution_count": 79,
     "metadata": {},
     "output_type": "execute_result"
    }
   ],
   "execution_count": 79
  },
  {
   "metadata": {
    "ExecuteTime": {
     "end_time": "2025-09-19T14:33:24.378754Z",
     "start_time": "2025-09-19T14:33:24.373213Z"
    }
   },
   "cell_type": "code",
   "source": [
    "time_cols = ['time1','time2','time3']\n",
    "for col in time_cols:\n",
    "    df_temp[col] = round(df_temp[col], 2)"
   ],
   "id": "d2e623ef48ca1d0",
   "outputs": [],
   "execution_count": 80
  },
  {
   "metadata": {
    "ExecuteTime": {
     "end_time": "2025-09-19T14:33:24.384849Z",
     "start_time": "2025-09-19T14:33:24.380983Z"
    }
   },
   "cell_type": "code",
   "source": [
    "df_time1 = df_temp[['time1', 'accoustic_emmision_data']]\n",
    "df_time2 = df_temp[['time2', 'electrochemical_data']]\n",
    "df_time3 = df_temp[['time3', 'mechanical_data']]"
   ],
   "id": "a920ee32b9364a1",
   "outputs": [],
   "execution_count": 81
  },
  {
   "metadata": {
    "ExecuteTime": {
     "end_time": "2025-09-19T14:33:24.397436Z",
     "start_time": "2025-09-19T14:33:24.388084Z"
    }
   },
   "cell_type": "code",
   "source": "df_time3.sort_values(by='time3')",
   "id": "3f341db697f6422b",
   "outputs": [
    {
     "data": {
      "text/plain": [
       "          time3  mechanical_data\n",
       "0          0.05         0.035542\n",
       "1          0.07         0.035542\n",
       "2          0.08         0.035747\n",
       "3          0.09         0.035747\n",
       "4          0.11         0.035747\n",
       "...         ...              ...\n",
       "295317  4406.04         0.018060\n",
       "295318  4406.06         0.018060\n",
       "295319  4406.07         0.018060\n",
       "295320  4406.09         0.018060\n",
       "295321  4406.10         0.017976\n",
       "\n",
       "[295322 rows x 2 columns]"
      ],
      "text/html": [
       "<div>\n",
       "<style scoped>\n",
       "    .dataframe tbody tr th:only-of-type {\n",
       "        vertical-align: middle;\n",
       "    }\n",
       "\n",
       "    .dataframe tbody tr th {\n",
       "        vertical-align: top;\n",
       "    }\n",
       "\n",
       "    .dataframe thead th {\n",
       "        text-align: right;\n",
       "    }\n",
       "</style>\n",
       "<table border=\"1\" class=\"dataframe\">\n",
       "  <thead>\n",
       "    <tr style=\"text-align: right;\">\n",
       "      <th></th>\n",
       "      <th>time3</th>\n",
       "      <th>mechanical_data</th>\n",
       "    </tr>\n",
       "  </thead>\n",
       "  <tbody>\n",
       "    <tr>\n",
       "      <th>0</th>\n",
       "      <td>0.05</td>\n",
       "      <td>0.035542</td>\n",
       "    </tr>\n",
       "    <tr>\n",
       "      <th>1</th>\n",
       "      <td>0.07</td>\n",
       "      <td>0.035542</td>\n",
       "    </tr>\n",
       "    <tr>\n",
       "      <th>2</th>\n",
       "      <td>0.08</td>\n",
       "      <td>0.035747</td>\n",
       "    </tr>\n",
       "    <tr>\n",
       "      <th>3</th>\n",
       "      <td>0.09</td>\n",
       "      <td>0.035747</td>\n",
       "    </tr>\n",
       "    <tr>\n",
       "      <th>4</th>\n",
       "      <td>0.11</td>\n",
       "      <td>0.035747</td>\n",
       "    </tr>\n",
       "    <tr>\n",
       "      <th>...</th>\n",
       "      <td>...</td>\n",
       "      <td>...</td>\n",
       "    </tr>\n",
       "    <tr>\n",
       "      <th>295317</th>\n",
       "      <td>4406.04</td>\n",
       "      <td>0.018060</td>\n",
       "    </tr>\n",
       "    <tr>\n",
       "      <th>295318</th>\n",
       "      <td>4406.06</td>\n",
       "      <td>0.018060</td>\n",
       "    </tr>\n",
       "    <tr>\n",
       "      <th>295319</th>\n",
       "      <td>4406.07</td>\n",
       "      <td>0.018060</td>\n",
       "    </tr>\n",
       "    <tr>\n",
       "      <th>295320</th>\n",
       "      <td>4406.09</td>\n",
       "      <td>0.018060</td>\n",
       "    </tr>\n",
       "    <tr>\n",
       "      <th>295321</th>\n",
       "      <td>4406.10</td>\n",
       "      <td>0.017976</td>\n",
       "    </tr>\n",
       "  </tbody>\n",
       "</table>\n",
       "<p>295322 rows × 2 columns</p>\n",
       "</div>"
      ]
     },
     "execution_count": 82,
     "metadata": {},
     "output_type": "execute_result"
    }
   ],
   "execution_count": 82
  },
  {
   "metadata": {
    "ExecuteTime": {
     "end_time": "2025-09-19T14:33:24.408773Z",
     "start_time": "2025-09-19T14:33:24.401003Z"
    }
   },
   "cell_type": "code",
   "source": [
    "df_time_temp = df_time1.merge(df_time2, left_on='time1', right_on='time2')\n",
    "df_time_temp.shape"
   ],
   "id": "8c1284b4a1c2cd94",
   "outputs": [
    {
     "data": {
      "text/plain": [
       "(262552, 4)"
      ]
     },
     "execution_count": 83,
     "metadata": {},
     "output_type": "execute_result"
    }
   ],
   "execution_count": 83
  },
  {
   "metadata": {
    "ExecuteTime": {
     "end_time": "2025-09-19T14:33:24.431624Z",
     "start_time": "2025-09-19T14:33:24.418816Z"
    }
   },
   "cell_type": "code",
   "source": [
    "df_time_temp = df_time_temp[['time1', 'accoustic_emmision_data', 'electrochemical_data']]\n",
    "df_time_temp_1 = df_time_temp.merge(df_time3, left_on='time1', right_on='time3')\n",
    "df_time_temp_1.shape, df_time_temp_1.isnull().sum()"
   ],
   "id": "ab8b39de8931f201",
   "outputs": [
    {
     "data": {
      "text/plain": [
       "((176792, 5),\n",
       " time1                      0\n",
       " accoustic_emmision_data    0\n",
       " electrochemical_data       0\n",
       " time3                      0\n",
       " mechanical_data            0\n",
       " dtype: int64)"
      ]
     },
     "execution_count": 84,
     "metadata": {},
     "output_type": "execute_result"
    }
   ],
   "execution_count": 84
  },
  {
   "metadata": {
    "ExecuteTime": {
     "end_time": "2025-09-19T14:33:24.447371Z",
     "start_time": "2025-09-19T14:33:24.440224Z"
    }
   },
   "cell_type": "code",
   "source": [
    "cleaned_n2 = df_time_temp_1.copy()\n",
    "cleaned_n2 = cleaned_n2[['time1', 'accoustic_emmision_data', 'electrochemical_data', 'mechanical_data']]\n",
    "cleaned_n2.head()"
   ],
   "id": "e6156bcf60b66f3e",
   "outputs": [
    {
     "data": {
      "text/plain": [
       "   time1  accoustic_emmision_data  electrochemical_data  mechanical_data\n",
       "0   0.05                  37100.0             -0.000006         0.035542\n",
       "1   0.07                  32400.0             -0.000006         0.035542\n",
       "2   0.08                  34100.0             -0.000006         0.035747\n",
       "3   0.09                  40500.0             -0.000006         0.035747\n",
       "4   0.11                  14300.0             -0.000006         0.035747"
      ],
      "text/html": [
       "<div>\n",
       "<style scoped>\n",
       "    .dataframe tbody tr th:only-of-type {\n",
       "        vertical-align: middle;\n",
       "    }\n",
       "\n",
       "    .dataframe tbody tr th {\n",
       "        vertical-align: top;\n",
       "    }\n",
       "\n",
       "    .dataframe thead th {\n",
       "        text-align: right;\n",
       "    }\n",
       "</style>\n",
       "<table border=\"1\" class=\"dataframe\">\n",
       "  <thead>\n",
       "    <tr style=\"text-align: right;\">\n",
       "      <th></th>\n",
       "      <th>time1</th>\n",
       "      <th>accoustic_emmision_data</th>\n",
       "      <th>electrochemical_data</th>\n",
       "      <th>mechanical_data</th>\n",
       "    </tr>\n",
       "  </thead>\n",
       "  <tbody>\n",
       "    <tr>\n",
       "      <th>0</th>\n",
       "      <td>0.05</td>\n",
       "      <td>37100.0</td>\n",
       "      <td>-0.000006</td>\n",
       "      <td>0.035542</td>\n",
       "    </tr>\n",
       "    <tr>\n",
       "      <th>1</th>\n",
       "      <td>0.07</td>\n",
       "      <td>32400.0</td>\n",
       "      <td>-0.000006</td>\n",
       "      <td>0.035542</td>\n",
       "    </tr>\n",
       "    <tr>\n",
       "      <th>2</th>\n",
       "      <td>0.08</td>\n",
       "      <td>34100.0</td>\n",
       "      <td>-0.000006</td>\n",
       "      <td>0.035747</td>\n",
       "    </tr>\n",
       "    <tr>\n",
       "      <th>3</th>\n",
       "      <td>0.09</td>\n",
       "      <td>40500.0</td>\n",
       "      <td>-0.000006</td>\n",
       "      <td>0.035747</td>\n",
       "    </tr>\n",
       "    <tr>\n",
       "      <th>4</th>\n",
       "      <td>0.11</td>\n",
       "      <td>14300.0</td>\n",
       "      <td>-0.000006</td>\n",
       "      <td>0.035747</td>\n",
       "    </tr>\n",
       "  </tbody>\n",
       "</table>\n",
       "</div>"
      ]
     },
     "execution_count": 85,
     "metadata": {},
     "output_type": "execute_result"
    }
   ],
   "execution_count": 85
  },
  {
   "metadata": {
    "ExecuteTime": {
     "end_time": "2025-09-19T14:33:39.291640Z",
     "start_time": "2025-09-19T14:33:24.461713Z"
    }
   },
   "cell_type": "code",
   "source": [
    "sns.lineplot(cleaned_n2, y='accoustic_emmision_data', x='mechanical_data')\n",
    "plt.show()"
   ],
   "id": "2043598b43141c2a",
   "outputs": [
    {
     "data": {
      "text/plain": [
       "<Figure size 640x480 with 1 Axes>"
      ],
      "image/png": "[encoded data removed]"
     },
     "metadata": {},
     "output_type": "display_data"
    }
   ],
   "execution_count": 86
  },
  {
   "metadata": {
    "ExecuteTime": {
     "end_time": "2025-09-20T15:39:49.253885Z",
     "start_time": "2025-09-20T15:39:49.010619Z"
    }
   },
   "cell_type": "code",
   "source": [
    "cleaned_n2['output'] = 'cathodic'\n",
    "cleaned_n2.to_csv('dataset/n1_n2_n3_cleaned/cathodic_N2.csv', index=False)\n",
    "cleaned_n2.head()"
   ],
   "id": "fa587a9ddd1eb794",
   "outputs": [
    {
     "data": {
      "text/plain": [
       "   time1  accoustic_emmision_data  electrochemical_data  mechanical_data  \\\n",
       "0   0.05                  37100.0             -0.000006         0.035542   \n",
       "1   0.07                  32400.0             -0.000006         0.035542   \n",
       "2   0.08                  34100.0             -0.000006         0.035747   \n",
       "3   0.09                  40500.0             -0.000006         0.035747   \n",
       "4   0.11                  14300.0             -0.000006         0.035747   \n",
       "\n",
       "     output  \n",
       "0  cathodic  \n",
       "1  cathodic  \n",
       "2  cathodic  \n",
       "3  cathodic  \n",
       "4  cathodic  "
      ],
      "text/html": [
       "<div>\n",
       "<style scoped>\n",
       "    .dataframe tbody tr th:only-of-type {\n",
       "        vertical-align: middle;\n",
       "    }\n",
       "\n",
       "    .dataframe tbody tr th {\n",
       "        vertical-align: top;\n",
       "    }\n",
       "\n",
       "    .dataframe thead th {\n",
       "        text-align: right;\n",
       "    }\n",
       "</style>\n",
       "<table border=\"1\" class=\"dataframe\">\n",
       "  <thead>\n",
       "    <tr style=\"text-align: right;\">\n",
       "      <th></th>\n",
       "      <th>time1</th>\n",
       "      <th>accoustic_emmision_data</th>\n",
       "      <th>electrochemical_data</th>\n",
       "      <th>mechanical_data</th>\n",
       "      <th>output</th>\n",
       "    </tr>\n",
       "  </thead>\n",
       "  <tbody>\n",
       "    <tr>\n",
       "      <th>0</th>\n",
       "      <td>0.05</td>\n",
       "      <td>37100.0</td>\n",
       "      <td>-0.000006</td>\n",
       "      <td>0.035542</td>\n",
       "      <td>cathodic</td>\n",
       "    </tr>\n",
       "    <tr>\n",
       "      <th>1</th>\n",
       "      <td>0.07</td>\n",
       "      <td>32400.0</td>\n",
       "      <td>-0.000006</td>\n",
       "      <td>0.035542</td>\n",
       "      <td>cathodic</td>\n",
       "    </tr>\n",
       "    <tr>\n",
       "      <th>2</th>\n",
       "      <td>0.08</td>\n",
       "      <td>34100.0</td>\n",
       "      <td>-0.000006</td>\n",
       "      <td>0.035747</td>\n",
       "      <td>cathodic</td>\n",
       "    </tr>\n",
       "    <tr>\n",
       "      <th>3</th>\n",
       "      <td>0.09</td>\n",
       "      <td>40500.0</td>\n",
       "      <td>-0.000006</td>\n",
       "      <td>0.035747</td>\n",
       "      <td>cathodic</td>\n",
       "    </tr>\n",
       "    <tr>\n",
       "      <th>4</th>\n",
       "      <td>0.11</td>\n",
       "      <td>14300.0</td>\n",
       "      <td>-0.000006</td>\n",
       "      <td>0.035747</td>\n",
       "      <td>cathodic</td>\n",
       "    </tr>\n",
       "  </tbody>\n",
       "</table>\n",
       "</div>"
      ]
     },
     "execution_count": 104,
     "metadata": {},
     "output_type": "execute_result"
    }
   ],
   "execution_count": 104
  },
  {
   "metadata": {},
   "cell_type": "markdown",
   "source": "### Cathodic set N3 data cleaning",
   "id": "410ce17f1b38554f"
  },
  {
   "metadata": {
    "ExecuteTime": {
     "end_time": "2025-09-19T14:33:39.368032Z",
     "start_time": "2025-09-19T14:33:39.296991Z"
    }
   },
   "cell_type": "code",
   "source": [
    "df_temp = df_cathodic_n3[~df_cathodic_n3['accoustic_emmision_data'].isnull()]\n",
    "df_temp = df_temp[df_temp['electrochemical_data'].notnull()]\n",
    "df_temp = df_temp[df_temp['mechanical_data'].notnull()]\n",
    "df_temp = df_temp.iloc[2:].reset_index(drop=True)\n",
    "df_temp.isnull().sum(), df_temp.shape"
   ],
   "id": "d5e555e88270720b",
   "outputs": [
    {
     "data": {
      "text/plain": [
       "(time1                      0\n",
       " accoustic_emmision_data    0\n",
       " time2                      0\n",
       " electrochemical_data       0\n",
       " time3                      0\n",
       " mechanical_data            0\n",
       " output                     0\n",
       " dtype: int64,\n",
       " (243600, 7))"
      ]
     },
     "execution_count": 87,
     "metadata": {},
     "output_type": "execute_result"
    }
   ],
   "execution_count": 87
  },
  {
   "metadata": {
    "ExecuteTime": {
     "end_time": "2025-09-19T14:33:39.462137Z",
     "start_time": "2025-09-19T14:33:39.377349Z"
    }
   },
   "cell_type": "code",
   "source": [
    "cols = ['time1', 'accoustic_emmision_data', 'time2', 'electrochemical_data',\n",
    "       'time3', 'mechanical_data']\n",
    "for col in cols:\n",
    "    df_temp[col] = pd.to_numeric(df_temp[col], errors='coerce')\n",
    "df_temp.shape"
   ],
   "id": "2ec4af02dd4023db",
   "outputs": [
    {
     "data": {
      "text/plain": [
       "(243600, 7)"
      ]
     },
     "execution_count": 88,
     "metadata": {},
     "output_type": "execute_result"
    }
   ],
   "execution_count": 88
  },
  {
   "metadata": {
    "ExecuteTime": {
     "end_time": "2025-09-19T14:33:39.478533Z",
     "start_time": "2025-09-19T14:33:39.465347Z"
    }
   },
   "cell_type": "code",
   "source": [
    "df_temp = df_temp[df_temp['accoustic_emmision_data'].notnull()]\n",
    "df_temp.isnull().sum()"
   ],
   "id": "d1ca0611b4cdde42",
   "outputs": [
    {
     "data": {
      "text/plain": [
       "time1                      0\n",
       "accoustic_emmision_data    0\n",
       "time2                      0\n",
       "electrochemical_data       0\n",
       "time3                      0\n",
       "mechanical_data            0\n",
       "output                     0\n",
       "dtype: int64"
      ]
     },
     "execution_count": 89,
     "metadata": {},
     "output_type": "execute_result"
    }
   ],
   "execution_count": 89
  },
  {
   "metadata": {
    "ExecuteTime": {
     "end_time": "2025-09-19T14:33:39.483216Z",
     "start_time": "2025-09-19T14:33:39.480958Z"
    }
   },
   "cell_type": "code",
   "source": [
    "time_cols = ['time1','time2','time3']\n",
    "for col in time_cols:\n",
    "    df_temp[col] = round(df_temp[col], 2)"
   ],
   "id": "691fc69e3be9c121",
   "outputs": [],
   "execution_count": 90
  },
  {
   "metadata": {
    "ExecuteTime": {
     "end_time": "2025-09-19T14:33:39.491342Z",
     "start_time": "2025-09-19T14:33:39.487499Z"
    }
   },
   "cell_type": "code",
   "source": [
    "df_time1 = df_temp[['time1', 'accoustic_emmision_data']]\n",
    "df_time2 = df_temp[['time2', 'electrochemical_data']]\n",
    "df_time3 = df_temp[['time3', 'mechanical_data']]\n",
    "df_time3 = df_time3[349:]"
   ],
   "id": "92ec547862ac7dae",
   "outputs": [],
   "execution_count": 91
  },
  {
   "metadata": {
    "ExecuteTime": {
     "end_time": "2025-09-19T14:33:39.498629Z",
     "start_time": "2025-09-19T14:33:39.493989Z"
    }
   },
   "cell_type": "code",
   "source": "df_time3[df_time3.time3 == 0.05]",
   "id": "ee84d7a23a2bae77",
   "outputs": [
    {
     "data": {
      "text/plain": [
       "     time3  mechanical_data\n",
       "349   0.05          0.05153"
      ],
      "text/html": [
       "<div>\n",
       "<style scoped>\n",
       "    .dataframe tbody tr th:only-of-type {\n",
       "        vertical-align: middle;\n",
       "    }\n",
       "\n",
       "    .dataframe tbody tr th {\n",
       "        vertical-align: top;\n",
       "    }\n",
       "\n",
       "    .dataframe thead th {\n",
       "        text-align: right;\n",
       "    }\n",
       "</style>\n",
       "<table border=\"1\" class=\"dataframe\">\n",
       "  <thead>\n",
       "    <tr style=\"text-align: right;\">\n",
       "      <th></th>\n",
       "      <th>time3</th>\n",
       "      <th>mechanical_data</th>\n",
       "    </tr>\n",
       "  </thead>\n",
       "  <tbody>\n",
       "    <tr>\n",
       "      <th>349</th>\n",
       "      <td>0.05</td>\n",
       "      <td>0.05153</td>\n",
       "    </tr>\n",
       "  </tbody>\n",
       "</table>\n",
       "</div>"
      ]
     },
     "execution_count": 92,
     "metadata": {},
     "output_type": "execute_result"
    }
   ],
   "execution_count": 92
  },
  {
   "metadata": {
    "ExecuteTime": {
     "end_time": "2025-09-19T14:33:39.513131Z",
     "start_time": "2025-09-19T14:33:39.509614Z"
    }
   },
   "cell_type": "code",
   "source": "df_time3[df_time3.time3 == 0.08]",
   "id": "aff54578e8e7e648",
   "outputs": [
    {
     "data": {
      "text/plain": [
       "     time3  mechanical_data\n",
       "351   0.08          0.05153"
      ],
      "text/html": [
       "<div>\n",
       "<style scoped>\n",
       "    .dataframe tbody tr th:only-of-type {\n",
       "        vertical-align: middle;\n",
       "    }\n",
       "\n",
       "    .dataframe tbody tr th {\n",
       "        vertical-align: top;\n",
       "    }\n",
       "\n",
       "    .dataframe thead th {\n",
       "        text-align: right;\n",
       "    }\n",
       "</style>\n",
       "<table border=\"1\" class=\"dataframe\">\n",
       "  <thead>\n",
       "    <tr style=\"text-align: right;\">\n",
       "      <th></th>\n",
       "      <th>time3</th>\n",
       "      <th>mechanical_data</th>\n",
       "    </tr>\n",
       "  </thead>\n",
       "  <tbody>\n",
       "    <tr>\n",
       "      <th>351</th>\n",
       "      <td>0.08</td>\n",
       "      <td>0.05153</td>\n",
       "    </tr>\n",
       "  </tbody>\n",
       "</table>\n",
       "</div>"
      ]
     },
     "execution_count": 93,
     "metadata": {},
     "output_type": "execute_result"
    }
   ],
   "execution_count": 93
  },
  {
   "metadata": {
    "ExecuteTime": {
     "end_time": "2025-09-19T14:33:39.523162Z",
     "start_time": "2025-09-19T14:33:39.520996Z"
    }
   },
   "cell_type": "code",
   "source": "df_time3.iloc[348]",
   "id": "bdd5034e67d91d8",
   "outputs": [
    {
     "data": {
      "text/plain": [
       "time3              5.20000\n",
       "mechanical_data    0.04647\n",
       "Name: 697, dtype: float64"
      ]
     },
     "execution_count": 94,
     "metadata": {},
     "output_type": "execute_result"
    }
   ],
   "execution_count": 94
  },
  {
   "metadata": {
    "ExecuteTime": {
     "end_time": "2025-09-19T14:33:39.540151Z",
     "start_time": "2025-09-19T14:33:39.530741Z"
    }
   },
   "cell_type": "code",
   "source": [
    "df_time_temp = df_time1.merge(df_time2, left_on='time1', right_on='time2')\n",
    "df_time_temp.shape"
   ],
   "id": "acef620d0a9aa13d",
   "outputs": [
    {
     "data": {
      "text/plain": [
       "(240013, 4)"
      ]
     },
     "execution_count": 95,
     "metadata": {},
     "output_type": "execute_result"
    }
   ],
   "execution_count": 95
  },
  {
   "metadata": {
    "ExecuteTime": {
     "end_time": "2025-09-19T14:33:39.572102Z",
     "start_time": "2025-09-19T14:33:39.548001Z"
    }
   },
   "cell_type": "code",
   "source": [
    "df_time_temp = df_time_temp[['time1', 'accoustic_emmision_data', 'electrochemical_data']]\n",
    "df_time_temp_1 = df_time_temp.merge(df_time3, left_on='time1', right_on='time3')\n",
    "df_time_temp_1.shape, df_time_temp_1.isnull().sum()"
   ],
   "id": "8fb18290106b082e",
   "outputs": [
    {
     "data": {
      "text/plain": [
       "((161877, 5),\n",
       " time1                      0\n",
       " accoustic_emmision_data    0\n",
       " electrochemical_data       0\n",
       " time3                      0\n",
       " mechanical_data            0\n",
       " dtype: int64)"
      ]
     },
     "execution_count": 96,
     "metadata": {},
     "output_type": "execute_result"
    }
   ],
   "execution_count": 96
  },
  {
   "metadata": {
    "ExecuteTime": {
     "end_time": "2025-09-19T14:33:39.587452Z",
     "start_time": "2025-09-19T14:33:39.579775Z"
    }
   },
   "cell_type": "code",
   "source": [
    "cleaned_n3 = df_time_temp_1.copy()\n",
    "cleaned_n3 = cleaned_n3[['time1', 'accoustic_emmision_data', 'electrochemical_data', 'mechanical_data']]\n",
    "cleaned_n3.head()"
   ],
   "id": "7a174e20ccdbaae7",
   "outputs": [
    {
     "data": {
      "text/plain": [
       "   time1  accoustic_emmision_data  electrochemical_data  mechanical_data\n",
       "0   0.05                    62600              -0.00001         0.051530\n",
       "1   0.07                    62498              -0.00001         0.051530\n",
       "2   0.08                    62537              -0.00001         0.051530\n",
       "3   0.10                    62482              -0.00001         0.051530\n",
       "4   0.11                    62491              -0.00001         0.051723"
      ],
      "text/html": [
       "<div>\n",
       "<style scoped>\n",
       "    .dataframe tbody tr th:only-of-type {\n",
       "        vertical-align: middle;\n",
       "    }\n",
       "\n",
       "    .dataframe tbody tr th {\n",
       "        vertical-align: top;\n",
       "    }\n",
       "\n",
       "    .dataframe thead th {\n",
       "        text-align: right;\n",
       "    }\n",
       "</style>\n",
       "<table border=\"1\" class=\"dataframe\">\n",
       "  <thead>\n",
       "    <tr style=\"text-align: right;\">\n",
       "      <th></th>\n",
       "      <th>time1</th>\n",
       "      <th>accoustic_emmision_data</th>\n",
       "      <th>electrochemical_data</th>\n",
       "      <th>mechanical_data</th>\n",
       "    </tr>\n",
       "  </thead>\n",
       "  <tbody>\n",
       "    <tr>\n",
       "      <th>0</th>\n",
       "      <td>0.05</td>\n",
       "      <td>62600</td>\n",
       "      <td>-0.00001</td>\n",
       "      <td>0.051530</td>\n",
       "    </tr>\n",
       "    <tr>\n",
       "      <th>1</th>\n",
       "      <td>0.07</td>\n",
       "      <td>62498</td>\n",
       "      <td>-0.00001</td>\n",
       "      <td>0.051530</td>\n",
       "    </tr>\n",
       "    <tr>\n",
       "      <th>2</th>\n",
       "      <td>0.08</td>\n",
       "      <td>62537</td>\n",
       "      <td>-0.00001</td>\n",
       "      <td>0.051530</td>\n",
       "    </tr>\n",
       "    <tr>\n",
       "      <th>3</th>\n",
       "      <td>0.10</td>\n",
       "      <td>62482</td>\n",
       "      <td>-0.00001</td>\n",
       "      <td>0.051530</td>\n",
       "    </tr>\n",
       "    <tr>\n",
       "      <th>4</th>\n",
       "      <td>0.11</td>\n",
       "      <td>62491</td>\n",
       "      <td>-0.00001</td>\n",
       "      <td>0.051723</td>\n",
       "    </tr>\n",
       "  </tbody>\n",
       "</table>\n",
       "</div>"
      ]
     },
     "execution_count": 97,
     "metadata": {},
     "output_type": "execute_result"
    }
   ],
   "execution_count": 97
  },
  {
   "metadata": {
    "ExecuteTime": {
     "end_time": "2025-09-20T15:40:20.367137Z",
     "start_time": "2025-09-20T15:40:20.168179Z"
    }
   },
   "cell_type": "code",
   "source": [
    "cleaned_n3['output'] = 'cathodic'\n",
    "cleaned_n3.to_csv('dataset/n1_n2_n3_cleaned/cathodic_N3.csv', index=False)\n",
    "cleaned_n3.head()"
   ],
   "id": "fb2da82b74a2c272",
   "outputs": [
    {
     "data": {
      "text/plain": [
       "   time1  accoustic_emmision_data  electrochemical_data  mechanical_data  \\\n",
       "0   0.05                    62600              -0.00001         0.051530   \n",
       "1   0.07                    62498              -0.00001         0.051530   \n",
       "2   0.08                    62537              -0.00001         0.051530   \n",
       "3   0.10                    62482              -0.00001         0.051530   \n",
       "4   0.11                    62491              -0.00001         0.051723   \n",
       "\n",
       "     output  \n",
       "0  cathodic  \n",
       "1  cathodic  \n",
       "2  cathodic  \n",
       "3  cathodic  \n",
       "4  cathodic  "
      ],
      "text/html": [
       "<div>\n",
       "<style scoped>\n",
       "    .dataframe tbody tr th:only-of-type {\n",
       "        vertical-align: middle;\n",
       "    }\n",
       "\n",
       "    .dataframe tbody tr th {\n",
       "        vertical-align: top;\n",
       "    }\n",
       "\n",
       "    .dataframe thead th {\n",
       "        text-align: right;\n",
       "    }\n",
       "</style>\n",
       "<table border=\"1\" class=\"dataframe\">\n",
       "  <thead>\n",
       "    <tr style=\"text-align: right;\">\n",
       "      <th></th>\n",
       "      <th>time1</th>\n",
       "      <th>accoustic_emmision_data</th>\n",
       "      <th>electrochemical_data</th>\n",
       "      <th>mechanical_data</th>\n",
       "      <th>output</th>\n",
       "    </tr>\n",
       "  </thead>\n",
       "  <tbody>\n",
       "    <tr>\n",
       "      <th>0</th>\n",
       "      <td>0.05</td>\n",
       "      <td>62600</td>\n",
       "      <td>-0.00001</td>\n",
       "      <td>0.051530</td>\n",
       "      <td>cathodic</td>\n",
       "    </tr>\n",
       "    <tr>\n",
       "      <th>1</th>\n",
       "      <td>0.07</td>\n",
       "      <td>62498</td>\n",
       "      <td>-0.00001</td>\n",
       "      <td>0.051530</td>\n",
       "      <td>cathodic</td>\n",
       "    </tr>\n",
       "    <tr>\n",
       "      <th>2</th>\n",
       "      <td>0.08</td>\n",
       "      <td>62537</td>\n",
       "      <td>-0.00001</td>\n",
       "      <td>0.051530</td>\n",
       "      <td>cathodic</td>\n",
       "    </tr>\n",
       "    <tr>\n",
       "      <th>3</th>\n",
       "      <td>0.10</td>\n",
       "      <td>62482</td>\n",
       "      <td>-0.00001</td>\n",
       "      <td>0.051530</td>\n",
       "      <td>cathodic</td>\n",
       "    </tr>\n",
       "    <tr>\n",
       "      <th>4</th>\n",
       "      <td>0.11</td>\n",
       "      <td>62491</td>\n",
       "      <td>-0.00001</td>\n",
       "      <td>0.051723</td>\n",
       "      <td>cathodic</td>\n",
       "    </tr>\n",
       "  </tbody>\n",
       "</table>\n",
       "</div>"
      ]
     },
     "execution_count": 105,
     "metadata": {},
     "output_type": "execute_result"
    }
   ],
   "execution_count": 105
  },
  {
   "metadata": {},
   "cell_type": "markdown",
   "source": "### Concatinating cathodic N1, N2 and, N3",
   "id": "849e47e246449ff9"
  },
  {
   "metadata": {
    "ExecuteTime": {
     "end_time": "2025-09-19T14:33:39.596862Z",
     "start_time": "2025-09-19T14:33:39.591037Z"
    }
   },
   "cell_type": "code",
   "source": [
    "df_cathodic_concat = pd.concat([cleaned_n1, cleaned_n2, cleaned_n3])\n",
    "df_cathodic_concat.isnull().sum(), df_cathodic_concat.shape"
   ],
   "id": "df3271b8df8387bf",
   "outputs": [
    {
     "data": {
      "text/plain": [
       "(time1                      0\n",
       " accoustic_emmision_data    0\n",
       " electrochemical_data       0\n",
       " mechanical_data            0\n",
       " dtype: int64,\n",
       " (475418, 4))"
      ]
     },
     "execution_count": 98,
     "metadata": {},
     "output_type": "execute_result"
    }
   ],
   "execution_count": 98
  },
  {
   "metadata": {
    "ExecuteTime": {
     "end_time": "2025-09-19T14:33:48.436153Z",
     "start_time": "2025-09-19T14:33:48.429519Z"
    }
   },
   "cell_type": "code",
   "source": "df_cathodic_concat['output'] = 'cathodic'",
   "id": "ec4dfe960b3f8381",
   "outputs": [],
   "execution_count": 100
  },
  {
   "metadata": {
    "ExecuteTime": {
     "end_time": "2025-09-19T14:33:49.785576Z",
     "start_time": "2025-09-19T14:33:49.196723Z"
    }
   },
   "cell_type": "code",
   "source": "df_cathodic_concat.to_csv('dataset/cathodic_concat.csv', index=False)",
   "id": "d9b589a2cb3139df",
   "outputs": [],
   "execution_count": 101
  },
  {
   "metadata": {
    "ExecuteTime": {
     "end_time": "2025-09-19T13:03:16.527756Z",
     "start_time": "2025-09-19T13:03:16.441017Z"
    }
   },
   "cell_type": "code",
   "source": [
    "import pandas as pd\n",
    "\n",
    "df = pd.read_csv('dataset/cathodic_concat.csv')"
   ],
   "id": "9baf3328dc20b9e3",
   "outputs": [],
   "execution_count": 1
  },
  {
   "metadata": {
    "ExecuteTime": {
     "end_time": "2025-09-19T14:09:51.671012Z",
     "start_time": "2025-09-19T13:15:25.965869Z"
    }
   },
   "cell_type": "code",
   "source": [
    "num_plots = 3\n",
    "num_cols = 2  # Number of plots per row\n",
    "num_rows = (num_plots + num_cols - 1) // num_cols  # Calculate the number of rows needed\n",
    "\n",
    "fig, axes = plt.subplots(num_rows, num_cols, figsize=(5 * num_cols, 5 * num_rows))  # Adjust the figure size as needed\n",
    "axes = axes.flatten()  # Flatten the axes array for easier indexing\n",
    "\n",
    "for i, col in enumerate(['accoustic_emmision_data', 'electrochemical_data','mechanical_data']):\n",
    "    sns.histplot(df[col], ax=axes[i])\n",
    "    axes[i].set_title(col)  # Set the title to the name of the variable\n",
    "\n",
    "# If there are any empty plots (if the number of plots isn't a perfect multiple of num_cols), hide the axes\n",
    "for j in range(i + 1, num_rows * num_cols):\n",
    "    axes[j].axis('off')\n",
    "\n",
    "plt.tight_layout()\n",
    "plt.show()"
   ],
   "id": "8f8dfe9767bfa53",
   "outputs": [
    {
     "ename": "KeyboardInterrupt",
     "evalue": "",
     "output_type": "error",
     "traceback": [
      "\u001B[31m---------------------------------------------------------------------------\u001B[39m",
      "\u001B[31mKeyboardInterrupt\u001B[39m                         Traceback (most recent call last)",
      "\u001B[36mCell\u001B[39m\u001B[36m \u001B[39m\u001B[32mIn[50]\u001B[39m\u001B[32m, line 17\u001B[39m\n\u001B[32m     14\u001B[39m     axes[j].axis(\u001B[33m'\u001B[39m\u001B[33moff\u001B[39m\u001B[33m'\u001B[39m)\n\u001B[32m     16\u001B[39m plt.tight_layout()\n\u001B[32m---> \u001B[39m\u001B[32m17\u001B[39m \u001B[43mplt\u001B[49m\u001B[43m.\u001B[49m\u001B[43mshow\u001B[49m\u001B[43m(\u001B[49m\u001B[43m)\u001B[49m\n",
      "\u001B[36mFile \u001B[39m\u001B[32m/Library/Frameworks/Python.framework/Versions/3.13/lib/python3.13/site-packages/matplotlib/pyplot.py:614\u001B[39m, in \u001B[36mshow\u001B[39m\u001B[34m(*args, **kwargs)\u001B[39m\n\u001B[32m    570\u001B[39m \u001B[38;5;250m\u001B[39m\u001B[33;03m\"\"\"\u001B[39;00m\n\u001B[32m    571\u001B[39m \u001B[33;03mDisplay all open figures.\u001B[39;00m\n\u001B[32m    572\u001B[39m \n\u001B[32m   (...)\u001B[39m\u001B[32m    611\u001B[39m \u001B[33;03mexplicitly there.\u001B[39;00m\n\u001B[32m    612\u001B[39m \u001B[33;03m\"\"\"\u001B[39;00m\n\u001B[32m    613\u001B[39m _warn_if_gui_out_of_main_thread()\n\u001B[32m--> \u001B[39m\u001B[32m614\u001B[39m \u001B[38;5;28;01mreturn\u001B[39;00m \u001B[43m_get_backend_mod\u001B[49m\u001B[43m(\u001B[49m\u001B[43m)\u001B[49m\u001B[43m.\u001B[49m\u001B[43mshow\u001B[49m\u001B[43m(\u001B[49m\u001B[43m*\u001B[49m\u001B[43margs\u001B[49m\u001B[43m,\u001B[49m\u001B[43m \u001B[49m\u001B[43m*\u001B[49m\u001B[43m*\u001B[49m\u001B[43mkwargs\u001B[49m\u001B[43m)\u001B[49m\n",
      "\u001B[36mFile \u001B[39m\u001B[32m/Library/Frameworks/Python.framework/Versions/3.13/lib/python3.13/site-packages/matplotlib_inline/backend_inline.py:90\u001B[39m, in \u001B[36mshow\u001B[39m\u001B[34m(close, block)\u001B[39m\n\u001B[32m     88\u001B[39m \u001B[38;5;28;01mtry\u001B[39;00m:\n\u001B[32m     89\u001B[39m     \u001B[38;5;28;01mfor\u001B[39;00m figure_manager \u001B[38;5;129;01min\u001B[39;00m Gcf.get_all_fig_managers():\n\u001B[32m---> \u001B[39m\u001B[32m90\u001B[39m         \u001B[43mdisplay\u001B[49m\u001B[43m(\u001B[49m\n\u001B[32m     91\u001B[39m \u001B[43m            \u001B[49m\u001B[43mfigure_manager\u001B[49m\u001B[43m.\u001B[49m\u001B[43mcanvas\u001B[49m\u001B[43m.\u001B[49m\u001B[43mfigure\u001B[49m\u001B[43m,\u001B[49m\n\u001B[32m     92\u001B[39m \u001B[43m            \u001B[49m\u001B[43mmetadata\u001B[49m\u001B[43m=\u001B[49m\u001B[43m_fetch_figure_metadata\u001B[49m\u001B[43m(\u001B[49m\u001B[43mfigure_manager\u001B[49m\u001B[43m.\u001B[49m\u001B[43mcanvas\u001B[49m\u001B[43m.\u001B[49m\u001B[43mfigure\u001B[49m\u001B[43m)\u001B[49m\n\u001B[32m     93\u001B[39m \u001B[43m        \u001B[49m\u001B[43m)\u001B[49m\n\u001B[32m     94\u001B[39m \u001B[38;5;28;01mfinally\u001B[39;00m:\n\u001B[32m     95\u001B[39m     show._to_draw = []\n",
      "\u001B[36mFile \u001B[39m\u001B[32m/Library/Frameworks/Python.framework/Versions/3.13/lib/python3.13/site-packages/IPython/core/display_functions.py:278\u001B[39m, in \u001B[36mdisplay\u001B[39m\u001B[34m(include, exclude, metadata, transient, display_id, raw, clear, *objs, **kwargs)\u001B[39m\n\u001B[32m    276\u001B[39m     publish_display_data(data=obj, metadata=metadata, **kwargs)\n\u001B[32m    277\u001B[39m \u001B[38;5;28;01melse\u001B[39;00m:\n\u001B[32m--> \u001B[39m\u001B[32m278\u001B[39m     format_dict, md_dict = \u001B[38;5;28;43mformat\u001B[39;49m\u001B[43m(\u001B[49m\u001B[43mobj\u001B[49m\u001B[43m,\u001B[49m\u001B[43m \u001B[49m\u001B[43minclude\u001B[49m\u001B[43m=\u001B[49m\u001B[43minclude\u001B[49m\u001B[43m,\u001B[49m\u001B[43m \u001B[49m\u001B[43mexclude\u001B[49m\u001B[43m=\u001B[49m\u001B[43mexclude\u001B[49m\u001B[43m)\u001B[49m\n\u001B[32m    279\u001B[39m     \u001B[38;5;28;01mif\u001B[39;00m \u001B[38;5;129;01mnot\u001B[39;00m format_dict:\n\u001B[32m    280\u001B[39m         \u001B[38;5;66;03m# nothing to display (e.g. _ipython_display_ took over)\u001B[39;00m\n\u001B[32m    281\u001B[39m         \u001B[38;5;28;01mcontinue\u001B[39;00m\n",
      "\u001B[36mFile \u001B[39m\u001B[32m/Library/Frameworks/Python.framework/Versions/3.13/lib/python3.13/site-packages/IPython/core/formatters.py:238\u001B[39m, in \u001B[36mDisplayFormatter.format\u001B[39m\u001B[34m(self, obj, include, exclude)\u001B[39m\n\u001B[32m    236\u001B[39m md = \u001B[38;5;28;01mNone\u001B[39;00m\n\u001B[32m    237\u001B[39m \u001B[38;5;28;01mtry\u001B[39;00m:\n\u001B[32m--> \u001B[39m\u001B[32m238\u001B[39m     data = \u001B[43mformatter\u001B[49m\u001B[43m(\u001B[49m\u001B[43mobj\u001B[49m\u001B[43m)\u001B[49m\n\u001B[32m    239\u001B[39m \u001B[38;5;28;01mexcept\u001B[39;00m:\n\u001B[32m    240\u001B[39m     \u001B[38;5;66;03m# FIXME: log the exception\u001B[39;00m\n\u001B[32m    241\u001B[39m     \u001B[38;5;28;01mraise\u001B[39;00m\n",
      "\u001B[36mFile \u001B[39m\u001B[32m/Library/Frameworks/Python.framework/Versions/3.13/lib/python3.13/site-packages/decorator.py:235\u001B[39m, in \u001B[36mdecorate.<locals>.fun\u001B[39m\u001B[34m(*args, **kw)\u001B[39m\n\u001B[32m    233\u001B[39m \u001B[38;5;28;01mif\u001B[39;00m \u001B[38;5;129;01mnot\u001B[39;00m kwsyntax:\n\u001B[32m    234\u001B[39m     args, kw = fix(args, kw, sig)\n\u001B[32m--> \u001B[39m\u001B[32m235\u001B[39m \u001B[38;5;28;01mreturn\u001B[39;00m \u001B[43mcaller\u001B[49m\u001B[43m(\u001B[49m\u001B[43mfunc\u001B[49m\u001B[43m,\u001B[49m\u001B[43m \u001B[49m\u001B[43m*\u001B[49m\u001B[43m(\u001B[49m\u001B[43mextras\u001B[49m\u001B[43m \u001B[49m\u001B[43m+\u001B[49m\u001B[43m \u001B[49m\u001B[43margs\u001B[49m\u001B[43m)\u001B[49m\u001B[43m,\u001B[49m\u001B[43m \u001B[49m\u001B[43m*\u001B[49m\u001B[43m*\u001B[49m\u001B[43mkw\u001B[49m\u001B[43m)\u001B[49m\n",
      "\u001B[36mFile \u001B[39m\u001B[32m/Library/Frameworks/Python.framework/Versions/3.13/lib/python3.13/site-packages/IPython/core/formatters.py:282\u001B[39m, in \u001B[36mcatch_format_error\u001B[39m\u001B[34m(method, self, *args, **kwargs)\u001B[39m\n\u001B[32m    280\u001B[39m \u001B[38;5;250m\u001B[39m\u001B[33;03m\"\"\"show traceback on failed format call\"\"\"\u001B[39;00m\n\u001B[32m    281\u001B[39m \u001B[38;5;28;01mtry\u001B[39;00m:\n\u001B[32m--> \u001B[39m\u001B[32m282\u001B[39m     r = \u001B[43mmethod\u001B[49m\u001B[43m(\u001B[49m\u001B[38;5;28;43mself\u001B[39;49m\u001B[43m,\u001B[49m\u001B[43m \u001B[49m\u001B[43m*\u001B[49m\u001B[43margs\u001B[49m\u001B[43m,\u001B[49m\u001B[43m \u001B[49m\u001B[43m*\u001B[49m\u001B[43m*\u001B[49m\u001B[43mkwargs\u001B[49m\u001B[43m)\u001B[49m\n\u001B[32m    283\u001B[39m \u001B[38;5;28;01mexcept\u001B[39;00m \u001B[38;5;167;01mNotImplementedError\u001B[39;00m:\n\u001B[32m    284\u001B[39m     \u001B[38;5;66;03m# don't warn on NotImplementedErrors\u001B[39;00m\n\u001B[32m    285\u001B[39m     \u001B[38;5;28;01mreturn\u001B[39;00m \u001B[38;5;28mself\u001B[39m._check_return(\u001B[38;5;28;01mNone\u001B[39;00m, args[\u001B[32m0\u001B[39m])\n",
      "\u001B[36mFile \u001B[39m\u001B[32m/Library/Frameworks/Python.framework/Versions/3.13/lib/python3.13/site-packages/IPython/core/formatters.py:402\u001B[39m, in \u001B[36mBaseFormatter.__call__\u001B[39m\u001B[34m(self, obj)\u001B[39m\n\u001B[32m    400\u001B[39m     \u001B[38;5;28;01mpass\u001B[39;00m\n\u001B[32m    401\u001B[39m \u001B[38;5;28;01melse\u001B[39;00m:\n\u001B[32m--> \u001B[39m\u001B[32m402\u001B[39m     \u001B[38;5;28;01mreturn\u001B[39;00m \u001B[43mprinter\u001B[49m\u001B[43m(\u001B[49m\u001B[43mobj\u001B[49m\u001B[43m)\u001B[49m\n\u001B[32m    403\u001B[39m \u001B[38;5;66;03m# Finally look for special method names\u001B[39;00m\n\u001B[32m    404\u001B[39m method = get_real_method(obj, \u001B[38;5;28mself\u001B[39m.print_method)\n",
      "\u001B[36mFile \u001B[39m\u001B[32m/Library/Frameworks/Python.framework/Versions/3.13/lib/python3.13/site-packages/IPython/core/pylabtools.py:170\u001B[39m, in \u001B[36mprint_figure\u001B[39m\u001B[34m(fig, fmt, bbox_inches, base64, **kwargs)\u001B[39m\n\u001B[32m    167\u001B[39m     \u001B[38;5;28;01mfrom\u001B[39;00m\u001B[38;5;250m \u001B[39m\u001B[34;01mmatplotlib\u001B[39;00m\u001B[34;01m.\u001B[39;00m\u001B[34;01mbackend_bases\u001B[39;00m\u001B[38;5;250m \u001B[39m\u001B[38;5;28;01mimport\u001B[39;00m FigureCanvasBase\n\u001B[32m    168\u001B[39m     FigureCanvasBase(fig)\n\u001B[32m--> \u001B[39m\u001B[32m170\u001B[39m \u001B[43mfig\u001B[49m\u001B[43m.\u001B[49m\u001B[43mcanvas\u001B[49m\u001B[43m.\u001B[49m\u001B[43mprint_figure\u001B[49m\u001B[43m(\u001B[49m\u001B[43mbytes_io\u001B[49m\u001B[43m,\u001B[49m\u001B[43m \u001B[49m\u001B[43m*\u001B[49m\u001B[43m*\u001B[49m\u001B[43mkw\u001B[49m\u001B[43m)\u001B[49m\n\u001B[32m    171\u001B[39m data = bytes_io.getvalue()\n\u001B[32m    172\u001B[39m \u001B[38;5;28;01mif\u001B[39;00m fmt == \u001B[33m'\u001B[39m\u001B[33msvg\u001B[39m\u001B[33m'\u001B[39m:\n",
      "\u001B[36mFile \u001B[39m\u001B[32m/Library/Frameworks/Python.framework/Versions/3.13/lib/python3.13/site-packages/matplotlib/backend_bases.py:2160\u001B[39m, in \u001B[36mFigureCanvasBase.print_figure\u001B[39m\u001B[34m(self, filename, dpi, facecolor, edgecolor, orientation, format, bbox_inches, pad_inches, bbox_extra_artists, backend, **kwargs)\u001B[39m\n\u001B[32m   2158\u001B[39m \u001B[38;5;28;01mif\u001B[39;00m bbox_inches:\n\u001B[32m   2159\u001B[39m     \u001B[38;5;28;01mif\u001B[39;00m bbox_inches == \u001B[33m\"\u001B[39m\u001B[33mtight\u001B[39m\u001B[33m\"\u001B[39m:\n\u001B[32m-> \u001B[39m\u001B[32m2160\u001B[39m         bbox_inches = \u001B[38;5;28;43mself\u001B[39;49m\u001B[43m.\u001B[49m\u001B[43mfigure\u001B[49m\u001B[43m.\u001B[49m\u001B[43mget_tightbbox\u001B[49m\u001B[43m(\u001B[49m\n\u001B[32m   2161\u001B[39m \u001B[43m            \u001B[49m\u001B[43mrenderer\u001B[49m\u001B[43m,\u001B[49m\u001B[43m \u001B[49m\u001B[43mbbox_extra_artists\u001B[49m\u001B[43m=\u001B[49m\u001B[43mbbox_extra_artists\u001B[49m\u001B[43m)\u001B[49m\n\u001B[32m   2162\u001B[39m         \u001B[38;5;28;01mif\u001B[39;00m (\u001B[38;5;28misinstance\u001B[39m(layout_engine, ConstrainedLayoutEngine) \u001B[38;5;129;01mand\u001B[39;00m\n\u001B[32m   2163\u001B[39m                 pad_inches == \u001B[33m\"\u001B[39m\u001B[33mlayout\u001B[39m\u001B[33m\"\u001B[39m):\n\u001B[32m   2164\u001B[39m             h_pad = layout_engine.get()[\u001B[33m\"\u001B[39m\u001B[33mh_pad\u001B[39m\u001B[33m\"\u001B[39m]\n",
      "\u001B[36mFile \u001B[39m\u001B[32m/Library/Frameworks/Python.framework/Versions/3.13/lib/python3.13/site-packages/matplotlib/figure.py:1848\u001B[39m, in \u001B[36mFigureBase.get_tightbbox\u001B[39m\u001B[34m(self, renderer, bbox_extra_artists)\u001B[39m\n\u001B[32m   1844\u001B[39m \u001B[38;5;28;01mif\u001B[39;00m ax.get_visible():\n\u001B[32m   1845\u001B[39m     \u001B[38;5;66;03m# some Axes don't take the bbox_extra_artists kwarg so we\u001B[39;00m\n\u001B[32m   1846\u001B[39m     \u001B[38;5;66;03m# need this conditional....\u001B[39;00m\n\u001B[32m   1847\u001B[39m     \u001B[38;5;28;01mtry\u001B[39;00m:\n\u001B[32m-> \u001B[39m\u001B[32m1848\u001B[39m         bbox = \u001B[43max\u001B[49m\u001B[43m.\u001B[49m\u001B[43mget_tightbbox\u001B[49m\u001B[43m(\u001B[49m\n\u001B[32m   1849\u001B[39m \u001B[43m            \u001B[49m\u001B[43mrenderer\u001B[49m\u001B[43m,\u001B[49m\u001B[43m \u001B[49m\u001B[43mbbox_extra_artists\u001B[49m\u001B[43m=\u001B[49m\u001B[43mbbox_extra_artists\u001B[49m\u001B[43m)\u001B[49m\n\u001B[32m   1850\u001B[39m     \u001B[38;5;28;01mexcept\u001B[39;00m \u001B[38;5;167;01mTypeError\u001B[39;00m:\n\u001B[32m   1851\u001B[39m         bbox = ax.get_tightbbox(renderer)\n",
      "\u001B[36mFile \u001B[39m\u001B[32m/Library/Frameworks/Python.framework/Versions/3.13/lib/python3.13/site-packages/matplotlib/axes/_base.py:4584\u001B[39m, in \u001B[36m_AxesBase.get_tightbbox\u001B[39m\u001B[34m(self, renderer, call_axes_locator, bbox_extra_artists, for_layout_only)\u001B[39m\n\u001B[32m   4582\u001B[39m bbox_artists = bbox_extra_artists\n\u001B[32m   4583\u001B[39m \u001B[38;5;28;01mif\u001B[39;00m bbox_artists \u001B[38;5;129;01mis\u001B[39;00m \u001B[38;5;28;01mNone\u001B[39;00m:\n\u001B[32m-> \u001B[39m\u001B[32m4584\u001B[39m     bbox_artists = \u001B[38;5;28;43mself\u001B[39;49m\u001B[43m.\u001B[49m\u001B[43mget_default_bbox_extra_artists\u001B[49m\u001B[43m(\u001B[49m\u001B[43m)\u001B[49m\n\u001B[32m   4586\u001B[39m \u001B[38;5;28;01mfor\u001B[39;00m a \u001B[38;5;129;01min\u001B[39;00m bbox_artists:\n\u001B[32m   4587\u001B[39m     bbox = a.get_tightbbox(renderer)\n",
      "\u001B[36mFile \u001B[39m\u001B[32m/Library/Frameworks/Python.framework/Versions/3.13/lib/python3.13/site-packages/matplotlib/axes/_base.py:4506\u001B[39m, in \u001B[36m_AxesBase.get_default_bbox_extra_artists\u001B[39m\u001B[34m(self)\u001B[39m\n\u001B[32m   4500\u001B[39m \u001B[38;5;66;03m# always include types that do not internally implement clipping\u001B[39;00m\n\u001B[32m   4501\u001B[39m \u001B[38;5;66;03m# to Axes. may have clip_on set to True and clip_box equivalent\u001B[39;00m\n\u001B[32m   4502\u001B[39m \u001B[38;5;66;03m# to ax.bbox but then ignore these properties during draws.\u001B[39;00m\n\u001B[32m   4503\u001B[39m noclip = (_AxesBase, maxis.Axis,\n\u001B[32m   4504\u001B[39m           offsetbox.AnnotationBbox, offsetbox.OffsetBox)\n\u001B[32m   4505\u001B[39m \u001B[38;5;28;01mreturn\u001B[39;00m [a \u001B[38;5;28;01mfor\u001B[39;00m a \u001B[38;5;129;01min\u001B[39;00m artists \u001B[38;5;28;01mif\u001B[39;00m a.get_visible() \u001B[38;5;129;01mand\u001B[39;00m a.get_in_layout()\n\u001B[32m-> \u001B[39m\u001B[32m4506\u001B[39m         \u001B[38;5;129;01mand\u001B[39;00m (\u001B[38;5;28misinstance\u001B[39m(a, noclip) \u001B[38;5;129;01mor\u001B[39;00m \u001B[38;5;129;01mnot\u001B[39;00m \u001B[43ma\u001B[49m\u001B[43m.\u001B[49m\u001B[43m_fully_clipped_to_axes\u001B[49m\u001B[43m(\u001B[49m\u001B[43m)\u001B[49m)]\n",
      "\u001B[36mFile \u001B[39m\u001B[32m/Library/Frameworks/Python.framework/Versions/3.13/lib/python3.13/site-packages/matplotlib/artist.py:891\u001B[39m, in \u001B[36mArtist._fully_clipped_to_axes\u001B[39m\u001B[34m(self)\u001B[39m\n\u001B[32m    885\u001B[39m clip_box = \u001B[38;5;28mself\u001B[39m.get_clip_box()\n\u001B[32m    886\u001B[39m clip_path = \u001B[38;5;28mself\u001B[39m.get_clip_path()\n\u001B[32m    887\u001B[39m \u001B[38;5;28;01mreturn\u001B[39;00m (\u001B[38;5;28mself\u001B[39m.axes \u001B[38;5;129;01mis\u001B[39;00m \u001B[38;5;129;01mnot\u001B[39;00m \u001B[38;5;28;01mNone\u001B[39;00m\n\u001B[32m    888\u001B[39m         \u001B[38;5;129;01mand\u001B[39;00m \u001B[38;5;28mself\u001B[39m.get_clip_on()\n\u001B[32m    889\u001B[39m         \u001B[38;5;129;01mand\u001B[39;00m (clip_box \u001B[38;5;129;01mis\u001B[39;00m \u001B[38;5;129;01mnot\u001B[39;00m \u001B[38;5;28;01mNone\u001B[39;00m \u001B[38;5;129;01mor\u001B[39;00m clip_path \u001B[38;5;129;01mis\u001B[39;00m \u001B[38;5;129;01mnot\u001B[39;00m \u001B[38;5;28;01mNone\u001B[39;00m)\n\u001B[32m    890\u001B[39m         \u001B[38;5;129;01mand\u001B[39;00m (clip_box \u001B[38;5;129;01mis\u001B[39;00m \u001B[38;5;28;01mNone\u001B[39;00m\n\u001B[32m--> \u001B[39m\u001B[32m891\u001B[39m              \u001B[38;5;129;01mor\u001B[39;00m np.all(\u001B[43mclip_box\u001B[49m\u001B[43m.\u001B[49m\u001B[43mextents\u001B[49m == \u001B[38;5;28mself\u001B[39m.axes.bbox.extents))\n\u001B[32m    892\u001B[39m         \u001B[38;5;129;01mand\u001B[39;00m (clip_path \u001B[38;5;129;01mis\u001B[39;00m \u001B[38;5;28;01mNone\u001B[39;00m\n\u001B[32m    893\u001B[39m              \u001B[38;5;129;01mor\u001B[39;00m \u001B[38;5;28misinstance\u001B[39m(clip_path, TransformedPatchPath)\n\u001B[32m    894\u001B[39m              \u001B[38;5;129;01mand\u001B[39;00m clip_path._patch \u001B[38;5;129;01mis\u001B[39;00m \u001B[38;5;28mself\u001B[39m.axes.patch))\n",
      "\u001B[36mFile \u001B[39m\u001B[32m/Library/Frameworks/Python.framework/Versions/3.13/lib/python3.13/site-packages/matplotlib/transforms.py:375\u001B[39m, in \u001B[36mBboxBase.extents\u001B[39m\u001B[34m(self)\u001B[39m\n\u001B[32m    372\u001B[39m \u001B[38;5;129m@property\u001B[39m\n\u001B[32m    373\u001B[39m \u001B[38;5;28;01mdef\u001B[39;00m\u001B[38;5;250m \u001B[39m\u001B[34mextents\u001B[39m(\u001B[38;5;28mself\u001B[39m):\n\u001B[32m    374\u001B[39m \u001B[38;5;250m    \u001B[39m\u001B[33;03m\"\"\"Return (:attr:`x0`, :attr:`y0`, :attr:`x1`, :attr:`y1`).\"\"\"\u001B[39;00m\n\u001B[32m--> \u001B[39m\u001B[32m375\u001B[39m     \u001B[38;5;28;01mreturn\u001B[39;00m \u001B[38;5;28;43mself\u001B[39;49m\u001B[43m.\u001B[49m\u001B[43mget_points\u001B[49m\u001B[43m(\u001B[49m\u001B[43m)\u001B[49m.flatten()\n",
      "\u001B[36mFile \u001B[39m\u001B[32m/Library/Frameworks/Python.framework/Versions/3.13/lib/python3.13/site-packages/matplotlib/transforms.py:1116\u001B[39m, in \u001B[36mTransformedBbox.get_points\u001B[39m\u001B[34m(self)\u001B[39m\n\u001B[32m   1112\u001B[39m p = \u001B[38;5;28mself\u001B[39m._bbox.get_points()\n\u001B[32m   1113\u001B[39m \u001B[38;5;66;03m# Transform all four points, then make a new bounding box\u001B[39;00m\n\u001B[32m   1114\u001B[39m \u001B[38;5;66;03m# from the result, taking care to make the orientation the\u001B[39;00m\n\u001B[32m   1115\u001B[39m \u001B[38;5;66;03m# same.\u001B[39;00m\n\u001B[32m-> \u001B[39m\u001B[32m1116\u001B[39m points = \u001B[38;5;28;43mself\u001B[39;49m\u001B[43m.\u001B[49m\u001B[43m_transform\u001B[49m\u001B[43m.\u001B[49m\u001B[43mtransform\u001B[49m\u001B[43m(\u001B[49m\n\u001B[32m   1117\u001B[39m \u001B[43m    \u001B[49m\u001B[43m[\u001B[49m\u001B[43m[\u001B[49m\u001B[43mp\u001B[49m\u001B[43m[\u001B[49m\u001B[32;43m0\u001B[39;49m\u001B[43m,\u001B[49m\u001B[43m \u001B[49m\u001B[32;43m0\u001B[39;49m\u001B[43m]\u001B[49m\u001B[43m,\u001B[49m\u001B[43m \u001B[49m\u001B[43mp\u001B[49m\u001B[43m[\u001B[49m\u001B[32;43m0\u001B[39;49m\u001B[43m,\u001B[49m\u001B[43m \u001B[49m\u001B[32;43m1\u001B[39;49m\u001B[43m]\u001B[49m\u001B[43m]\u001B[49m\u001B[43m,\u001B[49m\n\u001B[32m   1118\u001B[39m \u001B[43m     \u001B[49m\u001B[43m[\u001B[49m\u001B[43mp\u001B[49m\u001B[43m[\u001B[49m\u001B[32;43m1\u001B[39;49m\u001B[43m,\u001B[49m\u001B[43m \u001B[49m\u001B[32;43m0\u001B[39;49m\u001B[43m]\u001B[49m\u001B[43m,\u001B[49m\u001B[43m \u001B[49m\u001B[43mp\u001B[49m\u001B[43m[\u001B[49m\u001B[32;43m0\u001B[39;49m\u001B[43m,\u001B[49m\u001B[43m \u001B[49m\u001B[32;43m1\u001B[39;49m\u001B[43m]\u001B[49m\u001B[43m]\u001B[49m\u001B[43m,\u001B[49m\n\u001B[32m   1119\u001B[39m \u001B[43m     \u001B[49m\u001B[43m[\u001B[49m\u001B[43mp\u001B[49m\u001B[43m[\u001B[49m\u001B[32;43m0\u001B[39;49m\u001B[43m,\u001B[49m\u001B[43m \u001B[49m\u001B[32;43m0\u001B[39;49m\u001B[43m]\u001B[49m\u001B[43m,\u001B[49m\u001B[43m \u001B[49m\u001B[43mp\u001B[49m\u001B[43m[\u001B[49m\u001B[32;43m1\u001B[39;49m\u001B[43m,\u001B[49m\u001B[43m \u001B[49m\u001B[32;43m1\u001B[39;49m\u001B[43m]\u001B[49m\u001B[43m]\u001B[49m\u001B[43m,\u001B[49m\n\u001B[32m   1120\u001B[39m \u001B[43m     \u001B[49m\u001B[43m[\u001B[49m\u001B[43mp\u001B[49m\u001B[43m[\u001B[49m\u001B[32;43m1\u001B[39;49m\u001B[43m,\u001B[49m\u001B[43m \u001B[49m\u001B[32;43m0\u001B[39;49m\u001B[43m]\u001B[49m\u001B[43m,\u001B[49m\u001B[43m \u001B[49m\u001B[43mp\u001B[49m\u001B[43m[\u001B[49m\u001B[32;43m1\u001B[39;49m\u001B[43m,\u001B[49m\u001B[43m \u001B[49m\u001B[32;43m1\u001B[39;49m\u001B[43m]\u001B[49m\u001B[43m]\u001B[49m\u001B[43m]\u001B[49m\u001B[43m)\u001B[49m\n\u001B[32m   1121\u001B[39m points = np.ma.filled(points, \u001B[32m0.0\u001B[39m)\n\u001B[32m   1123\u001B[39m xs = \u001B[38;5;28mmin\u001B[39m(points[:, \u001B[32m0\u001B[39m]), \u001B[38;5;28mmax\u001B[39m(points[:, \u001B[32m0\u001B[39m])\n",
      "\u001B[36mFile \u001B[39m\u001B[32m/Library/Frameworks/Python.framework/Versions/3.13/lib/python3.13/site-packages/matplotlib/transforms.py:1496\u001B[39m, in \u001B[36mTransform.transform\u001B[39m\u001B[34m(self, values)\u001B[39m\n\u001B[32m   1493\u001B[39m values = values.reshape((-\u001B[32m1\u001B[39m, \u001B[38;5;28mself\u001B[39m.input_dims))\n\u001B[32m   1495\u001B[39m \u001B[38;5;66;03m# Transform the values\u001B[39;00m\n\u001B[32m-> \u001B[39m\u001B[32m1496\u001B[39m res = \u001B[38;5;28;43mself\u001B[39;49m\u001B[43m.\u001B[49m\u001B[43mtransform_affine\u001B[49m\u001B[43m(\u001B[49m\u001B[38;5;28;43mself\u001B[39;49m\u001B[43m.\u001B[49m\u001B[43mtransform_non_affine\u001B[49m\u001B[43m(\u001B[49m\u001B[43mvalues\u001B[49m\u001B[43m)\u001B[49m\u001B[43m)\u001B[49m\n\u001B[32m   1498\u001B[39m \u001B[38;5;66;03m# Convert the result back to the shape of the input values.\u001B[39;00m\n\u001B[32m   1499\u001B[39m \u001B[38;5;28;01mif\u001B[39;00m ndim == \u001B[32m0\u001B[39m:\n",
      "\u001B[36mFile \u001B[39m\u001B[32m/Library/Frameworks/Python.framework/Versions/3.13/lib/python3.13/site-packages/matplotlib/transforms.py:2411\u001B[39m, in \u001B[36mCompositeGenericTransform.transform_affine\u001B[39m\u001B[34m(self, values)\u001B[39m\n\u001B[32m   2409\u001B[39m \u001B[38;5;28;01mdef\u001B[39;00m\u001B[38;5;250m \u001B[39m\u001B[34mtransform_affine\u001B[39m(\u001B[38;5;28mself\u001B[39m, values):\n\u001B[32m   2410\u001B[39m     \u001B[38;5;66;03m# docstring inherited\u001B[39;00m\n\u001B[32m-> \u001B[39m\u001B[32m2411\u001B[39m     \u001B[38;5;28;01mreturn\u001B[39;00m \u001B[38;5;28;43mself\u001B[39;49m\u001B[43m.\u001B[49m\u001B[43mget_affine\u001B[49m\u001B[43m(\u001B[49m\u001B[43m)\u001B[49m.transform(values)\n",
      "\u001B[36mFile \u001B[39m\u001B[32m/Library/Frameworks/Python.framework/Versions/3.13/lib/python3.13/site-packages/matplotlib/transforms.py:2438\u001B[39m, in \u001B[36mCompositeGenericTransform.get_affine\u001B[39m\u001B[34m(self)\u001B[39m\n\u001B[32m   2435\u001B[39m     \u001B[38;5;28;01mreturn\u001B[39;00m \u001B[38;5;28mself\u001B[39m._b.get_affine()\n\u001B[32m   2436\u001B[39m \u001B[38;5;28;01melse\u001B[39;00m:\n\u001B[32m   2437\u001B[39m     \u001B[38;5;28;01mreturn\u001B[39;00m Affine2D(np.dot(\u001B[38;5;28mself\u001B[39m._b.get_affine().get_matrix(),\n\u001B[32m-> \u001B[39m\u001B[32m2438\u001B[39m                            \u001B[38;5;28;43mself\u001B[39;49m\u001B[43m.\u001B[49m\u001B[43m_a\u001B[49m\u001B[43m.\u001B[49m\u001B[43mget_affine\u001B[49m\u001B[43m(\u001B[49m\u001B[43m)\u001B[49m.get_matrix()))\n",
      "\u001B[36mFile \u001B[39m\u001B[32m/Library/Frameworks/Python.framework/Versions/3.13/lib/python3.13/site-packages/matplotlib/transforms.py:2438\u001B[39m, in \u001B[36mCompositeGenericTransform.get_affine\u001B[39m\u001B[34m(self)\u001B[39m\n\u001B[32m   2435\u001B[39m     \u001B[38;5;28;01mreturn\u001B[39;00m \u001B[38;5;28mself\u001B[39m._b.get_affine()\n\u001B[32m   2436\u001B[39m \u001B[38;5;28;01melse\u001B[39;00m:\n\u001B[32m   2437\u001B[39m     \u001B[38;5;28;01mreturn\u001B[39;00m Affine2D(np.dot(\u001B[38;5;28mself\u001B[39m._b.get_affine().get_matrix(),\n\u001B[32m-> \u001B[39m\u001B[32m2438\u001B[39m                            \u001B[38;5;28;43mself\u001B[39;49m\u001B[43m.\u001B[49m\u001B[43m_a\u001B[49m\u001B[43m.\u001B[49m\u001B[43mget_affine\u001B[49m\u001B[43m(\u001B[49m\u001B[43m)\u001B[49m.get_matrix()))\n",
      "\u001B[36mFile \u001B[39m\u001B[32m/Library/Frameworks/Python.framework/Versions/3.13/lib/python3.13/site-packages/matplotlib/transforms.py:1809\u001B[39m, in \u001B[36mAffineBase.get_affine\u001B[39m\u001B[34m(self)\u001B[39m\n\u001B[32m   1805\u001B[39m \u001B[38;5;28;01mdef\u001B[39;00m\u001B[38;5;250m \u001B[39m\u001B[34mtransform_path_non_affine\u001B[39m(\u001B[38;5;28mself\u001B[39m, path):\n\u001B[32m   1806\u001B[39m     \u001B[38;5;66;03m# docstring inherited\u001B[39;00m\n\u001B[32m   1807\u001B[39m     \u001B[38;5;28;01mreturn\u001B[39;00m path\n\u001B[32m-> \u001B[39m\u001B[32m1809\u001B[39m \u001B[38;5;28;01mdef\u001B[39;00m\u001B[38;5;250m \u001B[39m\u001B[34mget_affine\u001B[39m(\u001B[38;5;28mself\u001B[39m):\n\u001B[32m   1810\u001B[39m     \u001B[38;5;66;03m# docstring inherited\u001B[39;00m\n\u001B[32m   1811\u001B[39m     \u001B[38;5;28;01mreturn\u001B[39;00m \u001B[38;5;28mself\u001B[39m\n",
      "\u001B[31mKeyboardInterrupt\u001B[39m: "
     ]
    }
   ],
   "execution_count": 50
  },
  {
   "metadata": {
    "ExecuteTime": {
     "end_time": "2025-09-19T13:14:40.151174Z",
     "start_time": "2025-09-19T13:14:40.144273Z"
    }
   },
   "cell_type": "code",
   "source": "cleaned_n1.head()",
   "id": "6b6b07272919c04d",
   "outputs": [
    {
     "data": {
      "text/plain": [
       "   time1  accoustic_emmision_data  electrochemical_data  mechanical_data\n",
       "0   0.06                  80700.0             -0.000007         0.040518\n",
       "1   0.07                  68300.0             -0.000007         0.040518\n",
       "2   0.09                  58400.0             -0.000007         0.040482\n",
       "3   0.10                  56900.0             -0.000007         0.040482\n",
       "4   0.12                  56200.0             -0.000007         0.040482"
      ],
      "text/html": [
       "<div>\n",
       "<style scoped>\n",
       "    .dataframe tbody tr th:only-of-type {\n",
       "        vertical-align: middle;\n",
       "    }\n",
       "\n",
       "    .dataframe tbody tr th {\n",
       "        vertical-align: top;\n",
       "    }\n",
       "\n",
       "    .dataframe thead th {\n",
       "        text-align: right;\n",
       "    }\n",
       "</style>\n",
       "<table border=\"1\" class=\"dataframe\">\n",
       "  <thead>\n",
       "    <tr style=\"text-align: right;\">\n",
       "      <th></th>\n",
       "      <th>time1</th>\n",
       "      <th>accoustic_emmision_data</th>\n",
       "      <th>electrochemical_data</th>\n",
       "      <th>mechanical_data</th>\n",
       "    </tr>\n",
       "  </thead>\n",
       "  <tbody>\n",
       "    <tr>\n",
       "      <th>0</th>\n",
       "      <td>0.06</td>\n",
       "      <td>80700.0</td>\n",
       "      <td>-0.000007</td>\n",
       "      <td>0.040518</td>\n",
       "    </tr>\n",
       "    <tr>\n",
       "      <th>1</th>\n",
       "      <td>0.07</td>\n",
       "      <td>68300.0</td>\n",
       "      <td>-0.000007</td>\n",
       "      <td>0.040518</td>\n",
       "    </tr>\n",
       "    <tr>\n",
       "      <th>2</th>\n",
       "      <td>0.09</td>\n",
       "      <td>58400.0</td>\n",
       "      <td>-0.000007</td>\n",
       "      <td>0.040482</td>\n",
       "    </tr>\n",
       "    <tr>\n",
       "      <th>3</th>\n",
       "      <td>0.10</td>\n",
       "      <td>56900.0</td>\n",
       "      <td>-0.000007</td>\n",
       "      <td>0.040482</td>\n",
       "    </tr>\n",
       "    <tr>\n",
       "      <th>4</th>\n",
       "      <td>0.12</td>\n",
       "      <td>56200.0</td>\n",
       "      <td>-0.000007</td>\n",
       "      <td>0.040482</td>\n",
       "    </tr>\n",
       "  </tbody>\n",
       "</table>\n",
       "</div>"
      ]
     },
     "execution_count": 49,
     "metadata": {},
     "output_type": "execute_result"
    }
   ],
   "execution_count": 49
  },
  {
   "metadata": {
    "ExecuteTime": {
     "end_time": "2025-09-19T13:13:55.983541Z",
     "start_time": "2025-09-19T13:05:40.956280Z"
    }
   },
   "cell_type": "code",
   "source": [
    "num_plots = 3\n",
    "num_cols = 2  # Number of plots per row\n",
    "num_rows = (num_plots + num_cols - 1) // num_cols  # Calculate the number of rows needed\n",
    "\n",
    "fig, axes = plt.subplots(num_rows, num_cols, figsize=(5 * num_cols, 5 * num_rows))  # Adjust the figure size as needed\n",
    "axes = axes.flatten()  # Flatten the axes array for easier indexing\n",
    "\n",
    "for i, col in enumerate(['accoustic_emmision_data', 'electrochemical_data','mechanical_data']):\n",
    "    sns.histplot(cleaned_n1[col], ax=axes[i])\n",
    "    axes[i].set_title(col)  # Set the title to the name of the variable\n",
    "\n",
    "# If there are any empty plots (if the number of plots isn't a perfect multiple of num_cols), hide the axes\n",
    "for j in range(i + 1, num_rows * num_cols):\n",
    "    axes[j].axis('off')\n",
    "\n",
    "plt.tight_layout()\n",
    "plt.show()"
   ],
   "id": "d9b106834c824f40",
   "outputs": [
    {
     "data": {
      "text/plain": [
       "<Figure size 1000x1000 with 4 Axes>"
      ],
      "image/png": "[encoded data removed]"
     },
     "metadata": {},
     "output_type": "display_data"
    }
   ],
   "execution_count": 48
  },
  {
   "metadata": {
    "ExecuteTime": {
     "end_time": "2025-09-19T13:05:19.645871Z",
     "start_time": "2025-09-19T13:05:18.901273Z"
    }
   },
   "cell_type": "code",
   "source": [
    "num_plots = 3\n",
    "num_cols = 2  # Number of plots per row\n",
    "num_rows = (num_plots + num_cols - 1) // num_cols  # Calculate the number of rows needed\n",
    "\n",
    "fig, axes = plt.subplots(num_rows, num_cols, figsize=(5 * num_cols, 5 * num_rows))  # Adjust the figure size as needed\n",
    "axes = axes.flatten()  # Flatten the axes array for easier indexing\n",
    "\n",
    "for i, col in enumerate(['accoustic_emmision_data', 'electrochemical_data','mechanical_data']):\n",
    "    sns.histplot(cleaned_n2[col], ax=axes[i])\n",
    "    axes[i].set_title(col)  # Set the title to the name of the variable\n",
    "\n",
    "# If there are any empty plots (if the number of plots isn't a perfect multiple of num_cols), hide the axes\n",
    "for j in range(i + 1, num_rows * num_cols):\n",
    "    axes[j].axis('off')\n",
    "\n",
    "plt.tight_layout()\n",
    "plt.show()"
   ],
   "id": "7643bdbb26c36374",
   "outputs": [
    {
     "data": {
      "text/plain": [
       "<Figure size 1000x1000 with 4 Axes>"
      ],
      "image/png": "[encoded data removed]"
     },
     "metadata": {},
     "output_type": "display_data"
    }
   ],
   "execution_count": 47
  },
  {
   "metadata": {
    "ExecuteTime": {
     "end_time": "2025-09-19T13:05:04.580378Z",
     "start_time": "2025-09-19T13:04:58.935989Z"
    }
   },
   "cell_type": "code",
   "source": [
    "num_plots = 3\n",
    "num_cols = 2  # Number of plots per row\n",
    "num_rows = (num_plots + num_cols - 1) // num_cols  # Calculate the number of rows needed\n",
    "\n",
    "fig, axes = plt.subplots(num_rows, num_cols, figsize=(5 * num_cols, 5 * num_rows))  # Adjust the figure size as needed\n",
    "axes = axes.flatten()  # Flatten the axes array for easier indexing\n",
    "\n",
    "for i, col in enumerate(['accoustic_emmision_data', 'electrochemical_data','mechanical_data']):\n",
    "    sns.histplot(cleaned_n3[col], ax=axes[i])\n",
    "    axes[i].set_title(col)  # Set the title to the name of the variable\n",
    "\n",
    "# If there are any empty plots (if the number of plots isn't a perfect multiple of num_cols), hide the axes\n",
    "for j in range(i + 1, num_rows * num_cols):\n",
    "    axes[j].axis('off')\n",
    "\n",
    "plt.tight_layout()\n",
    "plt.show()"
   ],
   "id": "16b53e0fcd24d093",
   "outputs": [
    {
     "data": {
      "text/plain": [
       "<Figure size 1000x1000 with 4 Axes>"
      ],
      "image/png": "[encoded data removed]"
     },
     "metadata": {},
     "output_type": "display_data"
    }
   ],
   "execution_count": 46
  },
  {
   "metadata": {},
   "cell_type": "code",
   "outputs": [],
   "execution_count": null,
   "source": "",
   "id": "56713f378f475657"
  }
 ],
 "metadata": {
  "kernelspec": {
   "display_name": "Python 3",
   "language": "python",
   "name": "python3"
  },
  "language_info": {
   "codemirror_mode": {
    "name": "ipython",
    "version": 2
   },
   "file_extension": ".py",
   "mimetype": "text/x-python",
   "name": "python",
   "nbconvert_exporter": "python",
   "pygments_lexer": "ipython2",
   "version": "2.7.6"
  }
 },
 "nbformat": 4,
 "nbformat_minor": 5
}
